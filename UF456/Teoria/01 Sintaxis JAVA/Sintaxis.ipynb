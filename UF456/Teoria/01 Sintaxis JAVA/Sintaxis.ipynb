{
 "cells": [
  {
   "cell_type": "markdown",
   "metadata": {},
   "source": [
    "<div style=\"display: flex; width: 100%;\">\n",
    "    <div style=\"flex: 1; padding: 0px;\">\n",
    "        <p>© Albert Palacios Jiménez, 2023</p>\n",
    "    </div>\n",
    "    <div style=\"flex: 1; padding: 0px; text-align: right;\">\n",
    "        <img src=\"../assets/ieti.png\" height=\"32\" alt=\"Logo de IETI\" style=\"max-height: 32px;\">\n",
    "    </div>\n",
    "</div>\n",
    "<hr/>"
   ]
  },
  {
   "cell_type": "markdown",
   "metadata": {},
   "source": [
    "# Sintaxis JAVA\n",
    "\n",
    "En JAVA tots els programes tenen un punt d'entrada que està a:\n",
    "\n",
    "- Dins d'una classe principal, en aquest cas 'Main' (això ho veurem quan fem orientació a objectes)\n",
    "\n",
    "- Dins de la funció 'main'\n",
    "\n",
    "'main' és la funció que s'executa per defecte en una classe. \n",
    "\n",
    "En aquest cas, el nom de la classe podría ser diferent a 'Main' però el nom del a funció no podría ser diferent."
   ]
  },
  {
   "cell_type": "markdown",
   "metadata": {},
   "source": [
    "### Exemple00\n",
    "\n",
    "Aquest exemple, escriu 'Hello World' per la consola.\n",
    "\n",
    "```java\n",
    "public class Main {\n",
    "    public static void main(String[] args) {\n",
    "        System.out.println(\"Hello World\");\n",
    "    }\n",
    "}\n",
    "```\n",
    "\n",
    "Per fer anar aquest exemple, cal anar amb el terminal i esciure:\n",
    "\n",
    "```bash\n",
    "cd \"./UF456/Teoria/01 Sintaxis JAVA/Exemple00/\"\n",
    "mvn clean\n",
    "mvn compile\n",
    "./run.sh com.project.Main\n",
    "```\n",
    "\n",
    "**Nota:** Els usuaris de Windows crideu a '.\\run.ps1' enlloc de './run.sh'"
   ]
  },
  {
   "cell_type": "markdown",
   "metadata": {},
   "source": [
    "## El projecte\n",
    "\n",
    "Si observem el projecte, veurem que té diferents carpetes. \n",
    "\n",
    "Nosaltres treballarem principalment a la carpeta 'src' que conté el codi del projecte.\n",
    "\n",
    "Els projectes JAVA s'organitzen en paquets, en aquest cas el nom del nostre paquet és 'com.project' i per aquest motiu, el codi està a la carpeta 'src/main/java/com/project/'\n",
    "\n",
    "L'arxiu 'pom.xml' conté la configuració necessaria per fer anar el nostre projecte, de moment és la més bàsica, quan necessitem llibreries les haurem de llistar en aquest arxiu 'pom.xml' perquè Maven s'encarregui de descarregar-les i cridar-les quan fem anar el nostre programa.\n",
    "\n",
    "Finalment, els arxius de codi JAVA tenen l'extensió **.java**"
   ]
  }
 ],
 "metadata": {
  "language_info": {
   "name": "python"
  }
 },
 "nbformat": 4,
 "nbformat_minor": 2
}
