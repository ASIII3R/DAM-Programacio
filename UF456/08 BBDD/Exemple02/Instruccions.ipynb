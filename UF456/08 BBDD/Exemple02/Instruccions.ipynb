{
 "cells": [
  {
   "cell_type": "markdown",
   "metadata": {},
   "source": [
    "# Base de dades MySQL i Docker\n",
    "\n",
    "Cal instal·lar la base de dates 'persones.sql' en un servidor MySQL."
   ]
  },
  {
   "cell_type": "markdown",
   "metadata": {},
   "source": [
    "## Instal·lar base de dades MySQL\n",
    "\n",
    "Per posar 'persones.sql' en un servidor MySQL amb Docker, amb la comanda 'docker' disponible i el servei 'Docker' funcionant:\n",
    "\n",
    "```bash\n",
    "docker pull mysql\n",
    "docker run --name mysqlServer -p 3308:3306 -e MYSQL_ROOT_PASSWORD=pwd -d mysql\n",
    "docker exec -i mysqlServer mysql -uroot -ppwd < persones.sql\n",
    "```\n",
    "\n",
    "Amb la configuració anterior, s'accedeix al servidor MySQL del contenedor Docker, a través de:\n",
    "\n",
    "* Usuari 'root'\n",
    "* Constrasenya 'pwd'\n",
    "* Port '3308'\n",
    "\n",
    "Així, per veure les taules de la base de dades anterior des de la linia de comandes, des de 'docker exec' que executa comandes dins del terminal d'aquest contenedor Docker:\n",
    "\n",
    "```bash\n",
    "docker exec -it mysqlServer mysql -uroot -ppwd -e \"USE persones; SHOW TABLES;\"\n",
    "```\n",
    "\n",
    "Per veure els continguts de la taula 'city':\n",
    "\n",
    "```bash\n",
    "docker exec -it mysqlServer mysql -uroot -ppwd -e \"USE persones; SELECT * FROM city LIMIT 0,10;\"\n",
    "```\n",
    "\n",
    "En canvi, per veure les taules de la base de dades anterior des de la linia de comandes, des de 'mysql' al port 3308:\n",
    "\n",
    "```bash\n",
    "mysql -h 127.0.0.1 -P 3308 -uroot -ppwd\n",
    "```\n",
    "\n",
    "Després des d'aquesta consola MySQL:\n",
    "```SQL\n",
    "USE persones;\n",
    "SHOW TABLES;\n",
    "EXIT;\n",
    "```\n",
    "\n",
    "Per veure els continguts de la taula 'city':\n",
    "\n",
    "```bash\n",
    "mysql -h 127.0.0.1 -P 3308 -uroot -ppwd\n",
    "```\n",
    "\n",
    "Després des d'aquesta consola MySQL:\n",
    "```SQL\n",
    "USE persones;\n",
    "SELECT * FROM city LIMIT 0,10;\n",
    "EXIT;\n",
    "```"
   ]
  }
 ],
 "metadata": {
  "language_info": {
   "name": "python"
  }
 },
 "nbformat": 4,
 "nbformat_minor": 2
}
