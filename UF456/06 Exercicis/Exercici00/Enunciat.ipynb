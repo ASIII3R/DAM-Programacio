{
 "cells": [
  {
   "cell_type": "markdown",
   "metadata": {},
   "source": [
    "<div style=\"display: flex; width: 100%;\">\n",
    "    <div style=\"flex: 1; padding: 0px;\">\n",
    "        <p>© Albert Palacios Jiménez, 2023</p>\n",
    "    </div>\n",
    "    <div style=\"flex: 1; padding: 0px; text-align: right;\">\n",
    "        <img src=\"../../assets/ieti.png\" height=\"32\" alt=\"Logo de IETI\" style=\"max-height: 32px;\">\n",
    "    </div>\n",
    "</div>\n",
    "<hr/>"
   ]
  },
  {
   "cell_type": "markdown",
   "metadata": {},
   "source": [
    "### Exercici 0\n",
    "\n",
    "Crea un sistema simple de gestió d'empleats per a una empresa.\n",
    "\n",
    "Classe Base (Superclasse): **Empleat**\n",
    "\n",
    "Atributs privats: nom (String), cognom (String), i salariAnual (double).\n",
    "\n",
    "Constructor: Que accepti nom, cognom, i salariAnual com a paràmetres.\n",
    "\n",
    "Mètodes:\n",
    "\n",
    "getNomComplet(): Retorna el nom complet de l'empleat (nom + cognom).\n",
    "\n",
    "incrementarSalari(double percentatge): Incrementa el salari de l'empleat segons un percentatge donat.\n",
    "\n",
    "getSalariAnual(): Retorna el salari anual de l'empleat.\n",
    "\n",
    "Subclasse: **Gerent**\n",
    "\n",
    "Atributs privats: departament (String).\n",
    "\n",
    "Constructor: Que accepti nom, cognom, salariAnual, i departament.\n",
    "\n",
    "Sobreescriu el mètode getNomComplet() per a que també inclogui el departament del gerent al final.\n",
    "\n",
    "Assegura't que passa els testos:\n",
    "\n",
    "```bash\n",
    "./runTest.sh com.project.TestMain#testMainOutput\n",
    "./runTest.sh com.project.TestMain#testMainValidation\n",
    "./runTest.sh com.project.TestMain#testMainPrivateAttributes\n",
    "```"
   ]
  }
 ],
 "metadata": {
  "language_info": {
   "name": "python"
  }
 },
 "nbformat": 4,
 "nbformat_minor": 2
}
