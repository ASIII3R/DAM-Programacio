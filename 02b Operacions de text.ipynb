{
 "cells": [
  {
   "cell_type": "markdown",
   "metadata": {},
   "source": [
    "<div style=\"display: flex; width: 100%;\">\n",
    "    <div style=\"flex: 1; padding: 0px;\">\n",
    "        <p>© Albert Palacios Jiménez, 2023</p>\n",
    "    </div>\n",
    "    <div style=\"flex: 1; padding: 0px; text-align: right;\">\n",
    "        <img src=\"./assets/ieti.png\" height=\"32\" alt=\"Logo de IETI\" style=\"max-height: 32px;\">\n",
    "    </div>\n",
    "</div>\n",
    "<hr/>"
   ]
  },
  {
   "cell_type": "markdown",
   "metadata": {},
   "source": [
    "# Operacions amb text\n",
    "\n",
    "<center><img src=\"./assets/02b_00.png\" height=\"200\" style=\"max-height: 200px;\" /></center>\n",
    "\n",
    "Els programes, sovint han de modificar cadenes de text per mostrar o organitzar informació.\n",
    "\n",
    "Hi ha una sèrie d'operacions que ens permeten modificar cadenes de text."
   ]
  },
  {
   "cell_type": "code",
   "execution_count": 67,
   "metadata": {},
   "outputs": [
    {
     "name": "stdout",
     "output_type": "stream",
     "text": [
      "El valor de '2' + '2' és 22\n",
      "El valor de 2 + 2 és 4\n"
     ]
    }
   ],
   "source": [
    "a = '2' + '2'\n",
    "print(f\"El valor de '2' + '2' és {a}\")\n",
    "\n",
    "b = 2 + 2\n",
    "print(f\"El valor de 2 + 2 és {b}\")"
   ]
  },
  {
   "cell_type": "markdown",
   "metadata": {},
   "source": [
    "# Operacions bàsiques\n",
    "\n",
    "Aquestes són les operacions que es fan habitualment per manipular cadenes de text:\n",
    "\n",
    "* **Longitud**: Obtenir la longitud d'una cadena de text\n",
    "\n",
    "* **Concatenació**: Ajuntar dues o més cadenes de text en una sola\n",
    "\n",
    "* **Idexació**: Accedir a caràcters individuals d'una cadena de text\n",
    "\n",
    "* **Subcadena**: Accedir a una part de text d'una cadena més llarga\n",
    "\n",
    "* **Repetició**: Repetir una cadena de text diverses vegades\n",
    "\n",
    "* **Conversió**: Convertir una cadena de text a majúscules (o minúscules)\n",
    "\n",
    "* **Ordenar**: Ordenar les lletres en una cadena de text\n",
    "\n",
    "* **Substitució**: Substituir una part d'una cadena per una altre\n",
    "\n",
    "* **Cerca**: Buscar sub-cadenes de text en un text (retorna -1 si no troba el sub-text)"
   ]
  },
  {
   "cell_type": "markdown",
   "metadata": {},
   "source": [
    "### Important!\n",
    "\n",
    "Quan es compten les posicions d'una cadena de text, es compten a partir de 0. \n",
    "\n",
    "És a dir, mira el següent text quina posició correspon a cada caràcter:\n",
    "```\n",
    "Hola, món!\n",
    "0123456789\n",
    "```"
   ]
  },
  {
   "cell_type": "code",
   "execution_count": null,
   "metadata": {},
   "outputs": [],
   "source": [
    "# Exemple de longitud:\n",
    "cadena = \"Hola, món!\"\n",
    "longitud = len(cadena)\n",
    "print(f\"La longitud de la cadena és: {longitud}\")\n",
    "\n"
   ]
  },
  {
   "cell_type": "code",
   "execution_count": null,
   "metadata": {},
   "outputs": [],
   "source": [
    "# Exemple de concatenació (amb +)\n",
    "salutacio = \"Hola\"\n",
    "nom = \"Maria\"\n",
    "frase = salutacio + \", \" + nom + \"!\"\n",
    "print(f\"Frase concatenada: {frase}\")\n",
    "\n",
    "text_2 = \"2\"\n",
    "text_3 = \"3\"\n",
    "suma_text = text_2 + text_3\n",
    "print(f\"Suma dels textos '{text_2}' + '{text_3}': {suma_text}\")"
   ]
  },
  {
   "cell_type": "code",
   "execution_count": null,
   "metadata": {},
   "outputs": [],
   "source": [
    "# Exemple d'indexació (conta a partir de 0!)\n",
    "cadena = \"Python\"\n",
    "primer_caracter = cadena[0]\n",
    "tercer_caracter = cadena[2]\n",
    "cinque_caracter = cadena[4]\n",
    "print(\"El primer caràcter és: {primer_caracter}\")\n",
    "print(\"El tercer caràcter és: {tercer_caracter}\")\n",
    "print(\"El cinquè caràcter és: {cinque_caracter}\")"
   ]
  },
  {
   "cell_type": "code",
   "execution_count": null,
   "metadata": {},
   "outputs": [],
   "source": [
    "#Exemple de subcadena\n",
    "cadena = \"Python és divertit\"\n",
    "subcadena = cadena[2:9]  # Troç de cadena entre \"t\" i \"é\"\n",
    "print(f\"Subcadena: '{subcadena}'\")"
   ]
  },
  {
   "cell_type": "code",
   "execution_count": null,
   "metadata": {},
   "outputs": [],
   "source": [
    "# Exemple de repetició\n",
    "cadena = \"Hola \"\n",
    "repetida = cadena * 3  # Repetim la cadena 3 vegades\n",
    "print(f\"Repetició: '{repetida}'\")"
   ]
  },
  {
   "cell_type": "code",
   "execution_count": null,
   "metadata": {},
   "outputs": [],
   "source": [
    "# Exemple de conversió\n",
    "text = \"Exemple\"\n",
    "majuscules = text.upper()\n",
    "minuscules = text.lower()\n",
    "print(f\"Majúscules: {majuscules}\")\n",
    "print(f\"Minúscules: {minuscules}\")\n",
    "\n",
    "# Exemple de convertir la primera lletra en majúscula\n",
    "text = \"python\"\n",
    "text = text.capitalize()\n",
    "print(f\"Text amb la primera lletra en majúscula: {text}\")"
   ]
  },
  {
   "cell_type": "code",
   "execution_count": null,
   "metadata": {},
   "outputs": [],
   "source": [
    "# Exemple d'ordenació\n",
    "text = \"Hola, adeu\"\n",
    "ordenat = sorted(text)\n",
    "print(f\"Ordena els caràcters de '{text}': {ordenat}\")\n",
    "\n",
    "text = \"hola, HOLA\"\n",
    "ordenat = sorted(text)\n",
    "print(f\"Ordena els caràcters de '{text}': {ordenat}\")\n",
    "\n",
    "text = \"hola, HOLA\".lower()\n",
    "ordenat = sorted(text)\n",
    "print(f\"Ordena els caràcters de '{text}': {ordenat}\")"
   ]
  },
  {
   "cell_type": "code",
   "execution_count": null,
   "metadata": {},
   "outputs": [],
   "source": [
    "# Exemple de substitució\n",
    "text = \"Hola, món!\"\n",
    "nou_text = text.replace(\"món\", \"Maria\")\n",
    "print(f\"Substitució a la frase '{text}': {nou_text}\")\n",
    "\n",
    "text = \"En Bob s'ha llevat amb bon peu\"\n",
    "nou_text = text.replace(\" \", \"\").replace(\"'\", \"\")\n",
    "print(f\"Substitució a la frase '{text}': {nou_text}\")"
   ]
  },
  {
   "cell_type": "code",
   "execution_count": null,
   "metadata": {},
   "outputs": [],
   "source": [
    "# Exemple de cerca\n",
    "text = \"Hola, món!\"\n",
    "posicio = text.find(\"món\")\n",
    "print(f\"Posició de 'món' a la frase '{text}': {posicio}\")\n",
    "\n",
    "text = \"Hola, món!\"\n",
    "posicio = text.find(\"Maria\")\n",
    "print(f\"Posició de 'Maria' a la frase '{text}': {posicio}\")\n",
    "\n",
    "text = \"En Bob s'ha posat pantalons nets\"\n",
    "posicio = text.find(\"pantalons\")\n",
    "print(f\"La primera posició de 'pantalons' a la frase '{text}': {posicio}\")\n",
    "\n",
    "text = \"En Bob s'ha posat pantalons nets i ha rentat els pantalons d'ahir.\"\n",
    "posicio_primera = text.find(\"pantalons\")\n",
    "posicio_segona = text.find(\"pantalons\", posicio_primera + 1)\n",
    "print(f\"La segona  posició de 'pantalons' a la frase '{text}': {posicio_segona}\")\n",
    "\n",
    "text = \"En Bob s'ha posat pantalons nets i ha rentat els pantalons d'ahir, ha guardat els pantalons nets\"\n",
    "posicio_ultima = text.rfind(\"pantalons\")\n",
    "print(f\"La última  posició de 'pantalons' a la frase '{text}': {posicio_ultima}\")"
   ]
  },
  {
   "cell_type": "markdown",
   "metadata": {},
   "source": [
    "## Exercici 0\n",
    "\n",
    "Fes un programa amb una variable que tingui el següent text: \"Monsters Are Victims Too\"\n",
    "\n",
    "Després manipula aquest text per aconseguir mostrar:\n",
    "\n",
    "* La llargada de la frase\n",
    "\n",
    "* La subcadena 'Are' fent servir [:]\n",
    "\n",
    "* Repeteix la subcadena anterior 5 vegades\n",
    "\n",
    "* La frase amb només la primera M majúscula"
   ]
  },
  {
   "cell_type": "code",
   "execution_count": null,
   "metadata": {},
   "outputs": [],
   "source": [
    "# Fes aquí el codi de l'exercici 0"
   ]
  },
  {
   "cell_type": "markdown",
   "metadata": {},
   "source": [
    "## Invertir cadenes de text\n",
    "\n",
    "L'operador 'retallar' [:] que hem fet servir per obtenir subcadenes, té altres usos.\n",
    "\n",
    "Un de molt interessant és la capacitat d'invertir cadenes de text amb la notació [::-1]"
   ]
  },
  {
   "cell_type": "code",
   "execution_count": null,
   "metadata": {},
   "outputs": [],
   "source": [
    "# Exemple de com invertir una cadena de text\n",
    "cadena = \"Python és divertit\"\n",
    "cadena_invertida = cadena[::-1]\n",
    "print(\"Cadena invertida:\", cadena_invertida)"
   ]
  },
  {
   "cell_type": "markdown",
   "metadata": {},
   "source": [
    "## Exercici 1\n",
    "\n",
    "Fes un programa amb una variable que tingui el següent text: \"Gotta Lose Something To Get Something\"\n",
    "\n",
    "Després manipula aquest text per aconseguir mostrar:\n",
    "\n",
    "* La llargada de la frase\n",
    "\n",
    "* La subcadena 'Something' en majúscules\n",
    "\n",
    "* Les subcadenes \"Lose\" i \"Get\" repetides dos cops cada una \"LoseLoseGetGet\"\n",
    "\n",
    "* La cadena intercanviant paraules en majúscules i minúscules: \"GOTTA lose SOMETHING to GET something\"\n",
    "\n",
    "* La subcadena invertida, sense espais, de la part: \"Lose Something To\""
   ]
  },
  {
   "cell_type": "code",
   "execution_count": null,
   "metadata": {},
   "outputs": [],
   "source": [
    "# Fes aquí el codi de l'exercici 1"
   ]
  },
  {
   "cell_type": "markdown",
   "metadata": {},
   "source": [
    "## Exercici 2\n",
    "\n",
    "Fes un programa amb una variable que tingui el següent text: \"The pain you feel today will be the strength you'll have tomorrow.\"\n",
    "\n",
    "Després manipula aquest text per aconseguir mostrar:\n",
    "\n",
    "* La llargada de la frase\n",
    "\n",
    "* La subcadena \"The strength you'll have tomorrow\"\n",
    "\n",
    "* Subcadenes concatenades per fer una nova frase: \"Today you'll have the strength you'll feel tomorrow.\"\n",
    "\n",
    "* La subcadena invertida, sense espais ni cometes simples, de la part: \"you'll have the\""
   ]
  },
  {
   "cell_type": "code",
   "execution_count": null,
   "metadata": {},
   "outputs": [],
   "source": [
    "# Fes aquí el codi de l'exercici 2"
   ]
  },
  {
   "cell_type": "markdown",
   "metadata": {},
   "source": [
    "## Funcions de posicionament\n",
    "\n",
    "Python permet posicionar les cadenes de text que surten per pantalla\n",
    "\n",
    "* **ljust(ample, caracter_emplenat)**: Alinea el text a l'esquerra\n",
    "\n",
    "* **center(ample, caracter_emplenat)**: Centra el text segons l'ample indicat\n",
    "\n",
    "* **rjust(ample, caracter_emplenat)**: Alinea el text a la dreta"
   ]
  },
  {
   "cell_type": "code",
   "execution_count": null,
   "metadata": {},
   "outputs": [],
   "source": [
    "# Exemple d'alineació de text\n",
    "\n",
    "titol_esquerra = \"Text a l'esquerra: \".ljust(25)\n",
    "titol_centrat = \"Text al centre: \".ljust(25)\n",
    "titol_dreta = \"Text a la dreta: \".ljust(25)\n",
    "\n",
    "text = \"Avui fa fred\"\n",
    "text_esquerra = text.ljust(20, '-')\n",
    "text_centrat = text.center(20, '-')\n",
    "text_dreta = text.rjust(20, '-')\n",
    "\n",
    "print(titol_esquerra + '|' + text_esquerra)\n",
    "print(titol_centrat + '|' + text_centrat)\n",
    "print(titol_dreta + '|' + text_dreta)"
   ]
  },
  {
   "cell_type": "markdown",
   "metadata": {},
   "source": [
    "## Retallat d'espais inicials i finals\n",
    "\n",
    "Quan tenim cadenes de text amb espais al principi o al final, ens pot interessar ometre'ls\n",
    "\n",
    "* **lstrip**: Retorna la cadena de text sense els espais inicials\n",
    "\n",
    "* **rstrip**: Retorna la cadena de text sense els espais finals\n",
    "\n",
    "* **strip** : Retorna la cadena de text sense els espais inicials i finals omesos"
   ]
  },
  {
   "cell_type": "code",
   "execution_count": null,
   "metadata": {},
   "outputs": [],
   "source": [
    "# Exemple de retallat d'espais\n",
    "\n",
    "text = \"   Avui fa fred   \"\n",
    "\n",
    "text_retallat_esquerra = text.lstrip()\n",
    "print(f\"Text retallat a l'esquerra: '{text_retallat_esquerra}'\")\n",
    "\n",
    "text_retallat_dreta = text.rstrip()\n",
    "print(f\"Text retallat a la dreta: '{text_retallat_dreta}'\")\n",
    "\n",
    "text_retallat = text.strip()\n",
    "print(f\"Text retallat: '{text_retallat}'\")"
   ]
  },
  {
   "cell_type": "markdown",
   "metadata": {},
   "source": [
    "## Exercici 3\n",
    "\n",
    "Crea un menú tal que la sortida sigui així:\n",
    "\n",
    "        ********Menú Principal********\n",
    "        1.                Veure perfil                 \n",
    "        2.         Canviar contrasenya         \n",
    "        3.                      Sortir"
   ]
  },
  {
   "cell_type": "markdown",
   "metadata": {},
   "source": [
    "***\n",
    "# Textos avançats\n",
    "\n",
    "Continua a partir d'aquesta secció, quan sàpigues treballar amb llistes, tuples i diccionaris\n",
    "***"
   ]
  },
  {
   "cell_type": "markdown",
   "metadata": {},
   "source": [
    "## Operacions amb llistes\n",
    "\n",
    "A vegades és pràctic transformar cadenes de text en llistes o viceversa:\n",
    "\n",
    "El separador és el caràcter que decideix en quins punts es divideix el text, normalment és ' ' (un espai blanc)\n",
    "\n",
    "* **split(separador)**: Retorna una llista a partir d'una cadena de text, el separador és opcional\n",
    "\n",
    "* **\"separador\".join()**: Retorna el text a partir d'una llista, ajunta els elements amb el separador\n",
    "\n",
    "* **partition(separador)**: Retorna una tupla de tres elements, on:\n",
    "\n",
    "    1. El primer és el contingut de la cadena previ al separador\n",
    "\n",
    "    2. El segon él separador\n",
    "\n",
    "    3. El tercer el contingut de la cadena posterior al separador"
   ]
  },
  {
   "cell_type": "code",
   "execution_count": null,
   "metadata": {},
   "outputs": [],
   "source": [
    "# Exemple de dividir un text en una llista\n",
    "\n",
    "text = \"Avui fa fred a Barcelona i a Tarragona tambe, però a Puigcerdà fred\"\n",
    "llista_espais = text.split()\n",
    "llista_comes = text.split(\",\")\n",
    "\n",
    "print(f\"Text original: '{text}'\")\n",
    "print(f\"Llista a partir dels espais:  {llista_espais}\")\n",
    "print(f\"Llista a partir de les comes: {llista_comes}\")"
   ]
  },
  {
   "cell_type": "code",
   "execution_count": null,
   "metadata": {},
   "outputs": [],
   "source": [
    "# Exemple de com unir una llista en un text\n",
    "\n",
    "llista = ['Avui', 'fa', 'fred', 'a', 'Barcelona', 'i', 'a', 'Tarragona', 'tambe,', 'però', 'a', 'Puigcerdà', 'fred']\n",
    "text_espais = \" \".join(llista)\n",
    "text_comes = \",\".join(llista)\n",
    "\n",
    "print(f\"Llista original: {llista}\")\n",
    "print(f\"Text a partir de la llista: '{text_espais}'\")\n",
    "print(f\"Text a partir de la llista: '{text_comes}'\")"
   ]
  },
  {
   "cell_type": "code",
   "execution_count": null,
   "metadata": {},
   "outputs": [],
   "source": [
    "# Exemple de particionar un text\n",
    "\n",
    "text = \"Avui fa fred a Barcelona i a Tarragona tambe, però a Puigcerdà fred\"\n",
    "text_particionat = text.partition(\"a\")\n",
    "\n",
    "print(f\"Text original: '{text}'\")\n",
    "print(f\"Text particionat: {text_particionat}\")\n"
   ]
  },
  {
   "cell_type": "markdown",
   "metadata": {},
   "source": [
    "## Posicionament avançat\n",
    "\n",
    "El següent exemple mostra com fer columnes a partir de la mida de cada columna en sí:\n",
    "\n",
    "* **amplada_columna1**: calcula la mida d'ample necessari per encabir els elements de la primera columna\n",
    "\n",
    "* **format**: defineix com es formata cada columna\n",
    "\n",
    "    1. *{:<amplada1}\\}*: significa alinear a la dreta \\(>) segons l'ample especificat a 'amplada1'\n",
    "\n",
    "    2. *{amplada1}*: garanteix que les opcions es mostren alineades i tenen l'ample adequate\n",
    "\n",
    "    3. *-*: el caràcter que separa la primera de la segona columna\n",
    "\n",
    "    4. *{}*: el marcador de posició on s'insereix la descripció de la opció\n",
    "\n",
    "* 'map' aplica el format a cada element del menú\n",
    "\n",
    "* Finalment, join() combina tots els elements formatats en un únic text\n",
    "\n",
    "Per les altres columnes (2 i 3), l'alineació és a l'esquerra (<) i centrada (^)"
   ]
  },
  {
   "cell_type": "code",
   "execution_count": null,
   "metadata": {},
   "outputs": [],
   "source": [
    "# Exemple de menú avançat\n",
    "\n",
    "menu = [\n",
    "    (\"1. Veure perfil\", \"Veure informació del perfil\", \"Gratis\"),\n",
    "    (\"2. Canviar contrasenya\", \"Canviar la contrasenya de l'usuari\", \"Premium\"),\n",
    "    (\"3. Sortir\", \"Sortir de l'aplicació\", \"Premium plus\")\n",
    "]\n",
    "\n",
    "# Definir l'amplada de les columnes\n",
    "amplada_columna1 = max(len(opcio[0]) for opcio in menu)\n",
    "amplada_columna2 = max(len(opcio[1]) for opcio in menu)\n",
    "amplada_columna3 = max(len(opcio[2]) for opcio in menu)\n",
    "\n",
    "# Imprimir el menú complet\n",
    "print(\"Menú Principal\")\n",
    "format = \"{:>{amplada1}} - {:<{amplada2}} - {:^{amplada3}}\"\n",
    "for opcio in menu:\n",
    "    print(format.format(opcio[0], opcio[1], opcio[2], amplada1=amplada_columna1, amplada2=amplada_columna2, amplada3=amplada_columna3))"
   ]
  }
 ],
 "metadata": {
  "kernelspec": {
   "display_name": "Python 3",
   "language": "python",
   "name": "python3"
  },
  "language_info": {
   "codemirror_mode": {
    "name": "ipython",
    "version": 3
   },
   "file_extension": ".py",
   "mimetype": "text/x-python",
   "name": "python",
   "nbconvert_exporter": "python",
   "pygments_lexer": "ipython3",
   "version": "3.11.5"
  },
  "orig_nbformat": 4
 },
 "nbformat": 4,
 "nbformat_minor": 2
}
