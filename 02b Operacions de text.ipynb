{
 "cells": [
  {
   "cell_type": "markdown",
   "metadata": {},
   "source": [
    "<div style=\"display: flex; width: 100%;\">\n",
    "    <div style=\"flex: 1; padding: 0px;\">\n",
    "        <p>© Albert Palacios Jiménez, 2023</p>\n",
    "    </div>\n",
    "    <div style=\"flex: 1; padding: 0px; text-align: right;\">\n",
    "        <img src=\"./assets/ieti.png\" height=\"32\" alt=\"Logo de IETI\" style=\"max-height: 32px;\">\n",
    "    </div>\n",
    "</div>\n",
    "<hr/>"
   ]
  },
  {
   "cell_type": "markdown",
   "metadata": {},
   "source": [
    "# Operacions amb text\n",
    "\n",
    "<center><img src=\"./assets/02b_00.png\" height=\"200\" style=\"max-height: 200px;\" /></center>\n",
    "\n",
    "Els programes, sovint han de modificar cadenes de text per mostrar o organitzar informació.\n",
    "\n",
    "Hi ha una sèrie d'operacions que ens permeten modificar cadenes de text."
   ]
  },
  {
   "cell_type": "markdown",
   "metadata": {},
   "source": [
    "# Operacions bàsiques\n",
    "\n",
    "Aquestes són les operacions que es fan habitualment per manipular cadenes de text:\n",
    "\n",
    "* **Longitud**: Obtenir la longitud d'una cadena de text\n",
    "\n",
    "* **Concatenació**: Ajuntar dues o més cadenes de text en una sola\n",
    "\n",
    "* **Idexació**: Accedir a caràcters individuals d'una cadena de text\n",
    "\n",
    "* **Subcadena**: Accedir a una part de text d'una cadena més llarga\n",
    "\n",
    "* **Repetició**: Repetir una cadena de text diverses vegades\n",
    "\n",
    "* **Conversió**: Convertir una cadena de text a majúscules (o minúscules)\n",
    "\n",
    "* **Ordenar**: Ordenar les lletres en una cadena de text\n",
    "\n",
    "* **Substitució**: Substituir una part d'una cadena per una altre\n",
    "\n",
    "* **Cerca**: Buscar sub-cadenes de text en un text (retorna -1 si no troba el sub-text)"
   ]
  },
  {
   "cell_type": "markdown",
   "metadata": {},
   "source": [
    "### Important!\n",
    "\n",
    "Quan es compten les posicions d'una cadena de text, es compten a partir de 0. \n",
    "\n",
    "És a dir, mira el següent text quina posició correspon a cada caràcter:\n",
    "```\n",
    "Hola, món!\n",
    "0123456789\n",
    "```"
   ]
  },
  {
   "cell_type": "code",
   "execution_count": null,
   "metadata": {},
   "outputs": [],
   "source": [
    "# Exemple de longitud:\n",
    "cadena = \"Hola, món!\"\n",
    "longitud = len(cadena)\n",
    "print(f\"La longitud de la cadena és: {longitud}\")\n",
    "\n"
   ]
  },
  {
   "cell_type": "code",
   "execution_count": null,
   "metadata": {},
   "outputs": [],
   "source": [
    "# Exemple de concatenació (amb +)\n",
    "salutacio = \"Hola\"\n",
    "nom = \"Maria\"\n",
    "frase = salutacio + \", \" + nom + \"!\"\n",
    "print(f\"Frase concatenada: {frase}\")\n",
    "\n",
    "text_2 = \"2\"\n",
    "text_3 = \"3\"\n",
    "suma_text = text_2 + text_3\n",
    "print(f\"Suma dels textos '{text_2}' + '{text_3}': {suma_text}\")"
   ]
  },
  {
   "cell_type": "code",
   "execution_count": null,
   "metadata": {},
   "outputs": [],
   "source": [
    "# Exemple d'indexació (conta a partir de 0!)\n",
    "cadena = \"Python\"\n",
    "primer_caracter = cadena[0]\n",
    "tercer_caracter = cadena[2]\n",
    "cinque_caracter = cadena[4]\n",
    "print(\"El primer caràcter és: {primer_caracter}\")\n",
    "print(\"El tercer caràcter és: {tercer_caracter}\")\n",
    "print(\"El cinquè caràcter és: {cinque_caracter}\")"
   ]
  },
  {
   "cell_type": "code",
   "execution_count": null,
   "metadata": {},
   "outputs": [],
   "source": [
    "#Exemple de subcadena\n",
    "cadena = \"Python és divertit\"\n",
    "subcadena = cadena[2:9]  # Troç de cadena entre \"t\" i \"é\"\n",
    "print(f\"Subcadena: '{subcadena}'\")"
   ]
  },
  {
   "cell_type": "code",
   "execution_count": null,
   "metadata": {},
   "outputs": [],
   "source": [
    "# Exemple de repetició\n",
    "cadena = \"Hola \"\n",
    "repetida = cadena * 3  # Repetim la cadena 3 vegades\n",
    "print(f\"Repetició: '{repetida}'\")"
   ]
  },
  {
   "cell_type": "code",
   "execution_count": null,
   "metadata": {},
   "outputs": [],
   "source": [
    "# Exemple de conversió\n",
    "text = \"Exemple\"\n",
    "majuscules = text.upper()\n",
    "minuscules = text.lower()\n",
    "print(f\"Majúscules: {majuscules}\")\n",
    "print(f\"Minúscules: {minuscules}\")"
   ]
  },
  {
   "cell_type": "code",
   "execution_count": null,
   "metadata": {},
   "outputs": [],
   "source": [
    "# Exemple d'ordenació\n",
    "text = \"Hola, adeu\"\n",
    "ordenat = sorted(text)\n",
    "print(f\"Ordena els caràcters de '{text}': {ordenat}\")\n",
    "\n",
    "text = \"hola, HOLA\"\n",
    "ordenat = sorted(text)\n",
    "print(f\"Ordena els caràcters de '{text}': {ordenat}\")\n",
    "\n",
    "text = \"hola, HOLA\".lower()\n",
    "ordenat = sorted(text)\n",
    "print(f\"Ordena els caràcters de '{text}': {ordenat}\")"
   ]
  },
  {
   "cell_type": "code",
   "execution_count": null,
   "metadata": {},
   "outputs": [],
   "source": [
    "# Exemple de substitució\n",
    "text = \"Hola, món!\"\n",
    "nou_text = text.replace(\"món\", \"Maria\")\n",
    "print(f\"Substitució a la frase '{text}': {nou_text}\")\n",
    "\n",
    "text = \"En Bob s'ha llevat amb bon peu\"\n",
    "nou_text = text.replace(\" \", \"\").replace(\"'\", \"\")\n",
    "print(f\"Substitució a la frase '{text}': {nou_text}\")"
   ]
  },
  {
   "cell_type": "code",
   "execution_count": 26,
   "metadata": {},
   "outputs": [
    {
     "name": "stdout",
     "output_type": "stream",
     "text": [
      "Posició de 'món' a la frase 'Hola, món!': 6\n",
      "Posició de 'Maria' a la frase 'Hola, món!': -1\n",
      "Posició de 'pantalons' a la frase 'En Bob s'ha posat pantalons nets': 18\n"
     ]
    }
   ],
   "source": [
    "# Exemple de cerca\n",
    "text = \"Hola, món!\"\n",
    "posicio = text.find(\"món\")\n",
    "print(f\"Posició de 'món' a la frase '{text}': {posicio}\")\n",
    "\n",
    "text = \"Hola, món!\"\n",
    "posicio = text.find(\"Maria\")\n",
    "print(f\"Posició de 'Maria' a la frase '{text}': {posicio}\")\n",
    "\n",
    "text = \"En Bob s'ha posat pantalons nets\"\n",
    "posicio = text.find(\"pantalons\")\n",
    "print(f\"Posició de 'pantalons' a la frase '{text}': {posicio}\")"
   ]
  },
  {
   "cell_type": "markdown",
   "metadata": {},
   "source": [
    "## Exercici 0\n",
    "\n",
    "Fes un programa amb una variable que tingui el següent text: \"Monsters Are Victims Too\"\n",
    "\n",
    "Després manipula aquest text per aconseguir mostrar:\n",
    "\n",
    "* La llargada de la frase\n",
    "\n",
    "* La subcadena 'Are' fent servir [:]\n",
    "\n",
    "* Repeteix la subcadena anterior 5 vegades\n",
    "\n",
    "* La frase amb només la primera M majúscula"
   ]
  },
  {
   "cell_type": "code",
   "execution_count": null,
   "metadata": {},
   "outputs": [],
   "source": [
    "# Fes aquí el codi de l'exercici 0"
   ]
  },
  {
   "cell_type": "markdown",
   "metadata": {},
   "source": [
    "## Invertir cadenes de text\n",
    "\n",
    "L'operador 'retallar' [:] que hem fet servir per obtenir subcadenes, té altres usos.\n",
    "\n",
    "Un de molt interessant és la capacitat d'invertir cadenes de text amb la notació [::-1]"
   ]
  },
  {
   "cell_type": "code",
   "execution_count": null,
   "metadata": {},
   "outputs": [],
   "source": [
    "# Exemple de com invertir una cadena de text\n",
    "cadena = \"Python és divertit\"\n",
    "cadena_invertida = cadena[::-1]\n",
    "print(\"Cadena invertida:\", cadena_invertida)"
   ]
  },
  {
   "cell_type": "markdown",
   "metadata": {},
   "source": [
    "## Exercici 1\n",
    "\n",
    "Fes un programa amb una variable que tingui el següent text: \"Gotta Lose Something To Get Something\"\n",
    "\n",
    "Després manipula aquest text per aconseguir mostrar:\n",
    "\n",
    "* La llargada de la frase\n",
    "\n",
    "* La subcadena 'Something' en majúscules\n",
    "\n",
    "* Les subcadenes \"Lose\" i \"Get\" repetides dos cops cada una \"LoseLoseGetGet\"\n",
    "\n",
    "* La cadena intercanviant paraules en majúscules i minúscules: \"GOTTA lose SOMETHING to GET something\""
   ]
  },
  {
   "cell_type": "code",
   "execution_count": null,
   "metadata": {},
   "outputs": [],
   "source": [
    "# Fes aquí el codi de l'exercici 1"
   ]
  },
  {
   "cell_type": "markdown",
   "metadata": {},
   "source": [
    "## Exercici 2\n",
    "\n",
    "Fes un programa amb una variable que tingui el següent text: \"The pain you feel today will be the strength you'll have tomorrow.\"\n",
    "\n",
    "Després manipula aquest text per aconseguir mostrar:\n",
    "\n",
    "* La llargada de la frase\n",
    "\n",
    "* La subcadena \"The strength you'll have tomorrow\"\n",
    "\n",
    "* Subcadenes concatenades per fer una nova frase: \"Today you'll have the strength you'll feel tomorrow.\""
   ]
  },
  {
   "cell_type": "code",
   "execution_count": null,
   "metadata": {},
   "outputs": [],
   "source": [
    "# Fes aquí el codi de l'exercici 2"
   ]
  },
  {
   "cell_type": "markdown",
   "metadata": {},
   "source": [
    "# Textos avançats\n",
    "\n",
    "Continua a partir d'aquesta secció, quan sàpigues treballar amb llistes, tuples i diccionaris"
   ]
  },
  {
   "cell_type": "markdown",
   "metadata": {},
   "source": [
    "## Operacions amb llistes\n",
    "\n"
   ]
  }
 ],
 "metadata": {
  "kernelspec": {
   "display_name": "Python 3",
   "language": "python",
   "name": "python3"
  },
  "language_info": {
   "codemirror_mode": {
    "name": "ipython",
    "version": 3
   },
   "file_extension": ".py",
   "mimetype": "text/x-python",
   "name": "python",
   "nbconvert_exporter": "python",
   "pygments_lexer": "ipython3",
   "version": "3.11.5"
  },
  "orig_nbformat": 4
 },
 "nbformat": 4,
 "nbformat_minor": 2
}
