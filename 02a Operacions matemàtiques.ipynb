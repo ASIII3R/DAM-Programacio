{
 "cells": [
  {
   "cell_type": "markdown",
   "metadata": {},
   "source": [
    "<div style=\"display: flex; width: 100%;\">\n",
    "    <div style=\"flex: 1; padding: 0px;\">\n",
    "        <p>© Albert Palacios Jiménez, 2023</p>\n",
    "    </div>\n",
    "    <div style=\"flex: 1; padding: 0px; text-align: right;\">\n",
    "        <img src=\"./assets/ieti.png\" height=\"32\" alt=\"Logo de IETI\" style=\"max-height: 32px;\">\n",
    "    </div>\n",
    "</div>\n",
    "<hr/>"
   ]
  },
  {
   "cell_type": "markdown",
   "metadata": {},
   "source": [
    "# Operacions matemàtiques\n",
    "\n",
    "<center><img src=\"./assets/02a_00.png\" height=\"250\" style=\"max-height: 200px;\" /></center>\n",
    "\n",
    "En programació, es demana als ordinadors que fàcin moltes operacions matemàtiques\n",
    "\n",
    "Així no cal fer-les a mà\n",
    "\n",
    "Però cal saber en quin ordre executa l'ordinador les operacions\n",
    "\n",
    "Per exemple, què creus que farà l'ordinador amb aquesta expressió?\n",
    "\n",
    "2 + 3 * 4 ?"
   ]
  },
  {
   "cell_type": "code",
   "execution_count": null,
   "metadata": {},
   "outputs": [],
   "source": [
    "x = 2 + 3 * 4\n",
    "print(x)"
   ]
  },
  {
   "cell_type": "markdown",
   "metadata": {},
   "source": [
    "## Ordre de les operacions\n",
    "\n",
    "L'ordre de les operacions és el següent:\n",
    "\n",
    "1. Parèntesis\n",
    "\n",
    "2. Exponents\n",
    "\n",
    "3. Multiplicació i Divisió (igual prioritat però avaluades de dreta a esquerra)\n",
    "\n",
    "4. Mòdul\n",
    "\n",
    "5. Suma i Resta (igual prioritat però avaluades de dreta a esquerra)"
   ]
  },
  {
   "cell_type": "code",
   "execution_count": null,
   "metadata": {},
   "outputs": [],
   "source": [
    "# Primer, es calculen les operacions que estàn entre parèntesis\n",
    "\n",
    "x = (2 + 3) * 4\n",
    "    # 2 + 3 = 6\n",
    "    # 6 * 4 = 24\n",
    "print(x)\n",
    "\n",
    "x = 2 + (3 * 4)\n",
    "    # 3 * 4 = 12\n",
    "    # 2 + 12 = 14\n",
    "print(x)"
   ]
  },
  {
   "cell_type": "code",
   "execution_count": null,
   "metadata": {},
   "outputs": [],
   "source": [
    "# Els exponents es fan amb doble asterisc\n",
    "\n",
    "x = 2 ** 3\n",
    "    # 2 elevat a 3 = 8\n",
    "print(f'2 ** 3 = {x}')\n",
    "\n",
    "x = 2 ** 2 + 4 ** 2\n",
    "    # 2 elevat a 2 = 4\n",
    "    # 4 elevat a 2 = 16  \n",
    "    # 4 + 16 = 20\n",
    "print(f'2 ** 2 + 4 ** 2 = {x}')\n",
    "\n",
    "x = 2 ** 3 * 4\n",
    "    # 2 elevat a 3 = 8\n",
    "    # 8 * 4 = 32\n",
    "print(f'2 ** 3 * 4 = {x}')\n",
    "\n",
    "x = 2 ** (3 * 4)\n",
    "    # 3 * 4 = 12\n",
    "    # 2 elevat a 12 = 4096\n",
    "print(f'2 ** (3 * 4) = {x}')\n",
    "\n",
    "x = (2 ** 3) * 4\n",
    "    # 2 elevat a 3 = 8\n",
    "    # 8 * 4 = 32\n",
    "print(f'(2 ** 3) * 4 = {x}')"
   ]
  },
  {
   "cell_type": "code",
   "execution_count": null,
   "metadata": {},
   "outputs": [],
   "source": [
    "# Les multiplicacions i divisions es fan de dreta a esquerra\n",
    "\n",
    "x = 10 * 2 / 5\n",
    "    # 10 * 2 = 20\n",
    "    # 20 / 5 = 4\n",
    "print(f'10 * 2 / 5 = {x}')\n",
    "\n",
    "x = (10 * 2) / 5\n",
    "    # 10 * 2 = 20\n",
    "    # 20 / 5 = 4\n",
    "print(f'(10 * 2) / 5 = {x}')\n",
    "\n",
    "x = 10 * (2 / 5)\n",
    "    # 2 / 5 = 0.4\n",
    "    # 10 * 0.4 = 4\n",
    "print(f'10 * (2 / 5) = {x}')\n",
    "\n",
    "x = 10 / 2 * 5\n",
    "    # 10 / 2 = 5\n",
    "    # 5 * 5 = 25\n",
    "print(f'10 / 2 * 5 = {x}')\n",
    "\n",
    "x = (10 / 2) * 5\n",
    "    # 10 / 2 = 5\n",
    "    # 5 * 5 = 25\n",
    "print(f'(10 / 2) * 5 = {x}')\n",
    "\n",
    "x = 10 / (2 * 8)\n",
    "    # 2 * 8 = 16\n",
    "    # 10 / 16 = 0.625\n",
    "print(f'10 / (2 * 8) = {x}')"
   ]
  },
  {
   "cell_type": "code",
   "execution_count": null,
   "metadata": {},
   "outputs": [],
   "source": [
    "# Els mòduls es fan amb %\n",
    "\n",
    "x = 10 % 3\n",
    "    # El residu de 10 dividit per 3 = 1\n",
    "print(f'10 % 3 = {x}')\n",
    "\n",
    "x = 10 % 2\n",
    "    # El residu de 10 dividit per 2 = 0\n",
    "print(f'10 % 2 = {x}')\n",
    "\n",
    "x = 10 % 3 % 2\n",
    "    # El residu de 10 dividit per 3 = 1\n",
    "    # El residu de 1 dividit per 2 = 1\n",
    "print(f'10 % 3 % 2 = {x}')\n",
    "\n",
    "x = (10 % 3) % 2\n",
    "    # El residu de 10 dividit per 3 = 1\n",
    "    # El residu de 1 dividit per 2 = 1\n",
    "print(f'(10 % 3) % 2 = {x}')\n",
    "\n",
    "x = 10 % (3 % 2)\n",
    "    # El residu de 3 dividit per 2 = 1\n",
    "    # El residu de 10 dividit per 1 = 0\n",
    "print(f'10 % (3 % 2) = {x}')"
   ]
  },
  {
   "cell_type": "code",
   "execution_count": null,
   "metadata": {},
   "outputs": [],
   "source": [
    "# Les sumes i restes es fan de dreta a esquerra\n",
    "# (la propietat associativa fa que els parètesis no tinguin importancia)\n",
    "\n",
    "x = 10 + 2 - 5\n",
    "    # 10 + 2 = 12\n",
    "    # 12 - 5 = 7\n",
    "print(f'10 + 2 - 5 = {x}')\n",
    "\n",
    "x = (10 + 2) - 5\n",
    "    # 10 + 2 = 12\n",
    "    # 12 - 5 = 7\n",
    "print(f'(10 + 2) - 5 = {x}')\n",
    "\n",
    "x = 10 + (2 - 5)\n",
    "    # 2 - 5 = -3\n",
    "    # 10 + (-3) = 7\n",
    "print(f'10 + (2 - 5) = {x}')"
   ]
  },
  {
   "cell_type": "markdown",
   "metadata": {},
   "source": [
    "## Exercici 0\n",
    "\n",
    "Intenta predir el resultat de les següents expressions:\n",
    "\n",
    "7 + 3 - 2\n",
    "\n",
    "6 * 4 / 2\n",
    "\n",
    "2 ** 3 + 1\n",
    "\n",
    "2 + 10 % 3\n",
    "\n",
    "(4 + 2) * (5 - 1)\n",
    "\n",
    "Després fés un programa on comprovis si has encertat"
   ]
  },
  {
   "cell_type": "code",
   "execution_count": null,
   "metadata": {},
   "outputs": [],
   "source": [
    "# Fes aquí les operacions de l'exercici 0"
   ]
  },
  {
   "cell_type": "markdown",
   "metadata": {},
   "source": [
    "## Exercici 1\n",
    "\n",
    "Intenta predir el resultat de les següents expressions:\n",
    "\n",
    "10 + 5 / 3\n",
    "\n",
    "15 - 7 + 4\n",
    "\n",
    "8 * 4 / 2\n",
    "\n",
    "6 + 3 * 2\n",
    "\n",
    "12 - 4 / 2\n",
    "\n",
    "2 * 4 + 3\n",
    "\n",
    "Després fés un programa on comprovis si has encertat\n"
   ]
  },
  {
   "cell_type": "code",
   "execution_count": null,
   "metadata": {},
   "outputs": [],
   "source": [
    "# Fes aquí les operacions de l'exercici 1"
   ]
  },
  {
   "cell_type": "markdown",
   "metadata": {},
   "source": [
    "## Exercici 2\n",
    "\n",
    "Intenta predir el resultat de les següents expressions:\n",
    "\n",
    "20 + 10 / 2\n",
    "\n",
    "30 - 15 * 5\n",
    "\n",
    "8 * 4 / 2\n",
    "\n",
    "7 + 6 * 3\n",
    "\n",
    "40 - 12 / 4\n",
    "\n",
    "Després fés un programa on comprovis si has encertat"
   ]
  },
  {
   "cell_type": "code",
   "execution_count": null,
   "metadata": {},
   "outputs": [],
   "source": [
    "# Fes aquí les operacions de l'exercici 2"
   ]
  },
  {
   "cell_type": "markdown",
   "metadata": {},
   "source": [
    "## Exercici 3\n",
    "\n",
    "Intenta predir el resultat de les següents expressions:\n",
    "\n",
    "(15 + 6) / (2 * 3)\n",
    "\n",
    "2 ** 3 * 4 - 5\n",
    "\n",
    "20 % 3 * 5 + 8\n",
    "\n",
    "((4 + 5) * (6 - 2)) / 2\n",
    "\n",
    "2 * (3 + 5) ** 2 - (10 / 2)\n",
    "\n",
    "Després fés un programa on comprovis si has encertat\n"
   ]
  },
  {
   "cell_type": "code",
   "execution_count": null,
   "metadata": {},
   "outputs": [],
   "source": [
    "# Fes aquí les operacions de l'exercici 3"
   ]
  }
 ],
 "metadata": {
  "kernelspec": {
   "display_name": "Python 3",
   "language": "python",
   "name": "python3"
  },
  "language_info": {
   "codemirror_mode": {
    "name": "ipython",
    "version": 3
   },
   "file_extension": ".py",
   "mimetype": "text/x-python",
   "name": "python",
   "nbconvert_exporter": "python",
   "pygments_lexer": "ipython3",
   "version": "3.11.5"
  },
  "orig_nbformat": 4
 },
 "nbformat": 4,
 "nbformat_minor": 2
}
