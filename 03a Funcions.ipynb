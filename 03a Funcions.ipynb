{
 "cells": [
  {
   "cell_type": "markdown",
   "metadata": {},
   "source": [
    "# Funcions\n",
    "\n",
    "<center><img src=\"./assets/03a_00.png\" width=\"400\" /></center>\n",
    "\n",
    "Les funcions ajuden a agrupar el codi per resoldre un problema específic.\n",
    "\n",
    "Pots pensar en les funcions, com mini programes dins del programa principal.\n",
    "\n",
    "Així tenim vàries avantatges:\n",
    "\n",
    "* Tenim el codi més organitzat\n",
    "\n",
    "* Reutilitzem el codi, no cal programar diverses vegades un mateix càlcul\n",
    "\n",
    "* Simplifica el manteniment del codi i fa que sigui més fàcil de llegir"
   ]
  },
  {
   "cell_type": "markdown",
   "metadata": {},
   "source": [
    "## Nom de les funcions\n",
    "\n",
    "Al igual que amb les variables, a les funcions també els hi posem un nom per poder distingir-les.\n",
    "\n",
    "Un cop decidit el nom de les funcions, hem d'escriure el codi d'aquesta funció.\n",
    "\n",
    "Per cridar (fer servir) la funció, només cal escriure el seu nom i parèntesis.\n",
    "\n",
    "nom_funcio()"
   ]
  },
  {
   "cell_type": "code",
   "execution_count": null,
   "metadata": {},
   "outputs": [],
   "source": [
    "# Definir la funció anomenada \"saludar\"\n",
    "def saludar():\n",
    "    print(\"Hola, això és un programa Python\")\n",
    "\n",
    "# Definir la funció anomenada \"saludar\"\n",
    "def acomiadar():\n",
    "    print(\"Adeu, moltes gràcies per executar-me\")\n",
    "\n",
    "# Fer servir la funció\n",
    "saludar()"
   ]
  },
  {
   "cell_type": "markdown",
   "metadata": {},
   "source": [
    "## Important!\n",
    "\n",
    "A Python el codi de les funcions s'ha de identar amb un \"tabulador\", això vol dir deixar un tabulador fins a cada instrucció:\n",
    "```\n",
    "def nom_funció():\n",
    "    instrucció1\n",
    "    instrucció2\n",
    "```\n",
    "Les funcions poden tenir múltiples línies\n",
    "\n",
    "El codi de les funcions no s'executa fins que no es crida a aquella funció.\n",
    "\n",
    "**Exemple**: En el programa anterior la funció 'acomiadar' no s'executa perquè no s'ha cridat mai aquella funció."
   ]
  },
  {
   "cell_type": "markdown",
   "metadata": {},
   "source": [
    "## Exercici 0\n",
    "\n",
    "Modifica el programa d'exemple anterior, perquè primer saludi i després s'acomiadi.\n",
    "\n",
    "El resultat ha de ser així:\n",
    "\n",
    "\n",
    "Hola, això és un programa Python\n",
    "\n",
    "Adeu, moltes gràcies per executar-me"
   ]
  },
  {
   "cell_type": "code",
   "execution_count": null,
   "metadata": {},
   "outputs": [],
   "source": [
    "# Fes aquí el programa de l'exercici 0"
   ]
  },
  {
   "cell_type": "markdown",
   "metadata": {},
   "source": [
    "## Paràmetres de les funcions\n",
    "\n",
    "Els paràmetres de les funcions, permeten pasar-los informació per tal que poguin calcular les operacions que els hi hem programat.\n",
    "\n",
    "Els paràmetres són variables que només existeixen dins de la funció.\n",
    "\n",
    "Els paràmetres es definexien dins dels parèntesis de la funció, separats per comes.\n",
    "\n",
    "nom_funcio(parametre1, parametre2, parametre3)\n",
    "\n",
    "Per cridar una funció amb paràmetres, cal passar-li els valors dins dels parèntesis.\n",
    "\n",
    "nom_funcio(valor1, valor2, valor3)\n",
    "\n",
    "El primer valor correspon al primer paràmetre, el segon ..."
   ]
  },
  {
   "cell_type": "code",
   "execution_count": null,
   "metadata": {},
   "outputs": [],
   "source": [
    "# Exemple de funció amb paràmetres\n",
    "def salut_personalitzat(nom, cognom, color):\n",
    "    print(f'Hola, {nom} {cognom}')\n",
    "    print(f\"      t'han dibuixat de color {color}\")\n",
    "\n",
    "salut_personalitzat('Bob', 'Squarepants', 'groc')\n",
    "salut_personalitzat('Patrick', 'Star', 'rosa')\n",
    "salut_personalitzat('Squidward', 'Tentacles', 'blau')"
   ]
  },
  {
   "cell_type": "markdown",
   "metadata": {},
   "source": [
    "## Exercici 1\n",
    "\n",
    "Fes un programa python amb la funció 'informacio_llibre'. \n",
    "\n",
    "Aquesta funció acceptarà 3 paràmetres:\n",
    "\n",
    "titol, autor, any\n",
    "\n",
    "Aleshores mostrarà la informació així:\n",
    "\n",
    "Títol: El Gran Gatsby, Autor: F. Scott Fitzgerald, Any: 1925\n",
    "\n",
    "Fes que automàticament mostri la informació de 3 llibres"
   ]
  },
  {
   "cell_type": "code",
   "execution_count": null,
   "metadata": {},
   "outputs": [],
   "source": [
    "# Fes aquí el programa de l'exercici 1"
   ]
  },
  {
   "cell_type": "markdown",
   "metadata": {},
   "source": [
    "## Valor de retorn de les funcions\n",
    "\n",
    "A vegades, ens fa falta que les funcions retornin el valor del càlcul que han fet.\n",
    "\n",
    "Per fer-ho, cal posar la paraula 'return' seguida del valor que volem retornar.\n",
    "\n",
    "return valor_a_retornar\n",
    "\n",
    "Un cop s'executa la instrucció que té 'return' ja no s'executa cap línia més de codi d'aquella funció."
   ]
  },
  {
   "cell_type": "code",
   "execution_count": null,
   "metadata": {},
   "outputs": [],
   "source": [
    "# Exemple de funció amb valor de retorn\n",
    "def calcular_area_rectangle(base, altura):\n",
    "    return base * altura\n",
    "\n",
    "base = 3\n",
    "altura = 4\n",
    "area = calcular_area_rectangle(base, altura)\n",
    "print(f\"L'area d'un rectangle amb base {base} i {altura} altura és {area}\")\n",
    "\n",
    "base = 2\n",
    "altura = 3\n",
    "area = calcular_area_rectangle(base, altura)\n",
    "print(f\"L'area d'un rectangle amb base {base} i {altura} altura és {area}\")"
   ]
  },
  {
   "cell_type": "code",
   "execution_count": null,
   "metadata": {},
   "outputs": [],
   "source": [
    "# Exemple de funció que retorna una suma\n",
    "def sumar(a, b):\n",
    "    suma = a + b\n",
    "    return suma\n",
    "\n",
    "# Exemple de funció que retorna una resta\n",
    "def restar(a, b):\n",
    "    resta = a - b\n",
    "    return resta\n",
    "\n",
    "add = sumar(3, 4)\n",
    "sub = restar(3, 4)\n",
    "\n",
    "print(f\"La suma de 3 i 4 és {add}\")\n",
    "print(f\"La resta de 3 i 4 és {sub}\")"
   ]
  },
  {
   "cell_type": "markdown",
   "metadata": {},
   "source": [
    "## Exercici 2\n",
    "\n",
    "Fes un programa amb una funció 'calcula_promig' que accepta dos paràmetres: 'a' i 'b'\n",
    "\n",
    "Aquesta funció ha de retornar el valor del promig de 'a' i 'b'"
   ]
  },
  {
   "cell_type": "code",
   "execution_count": null,
   "metadata": {},
   "outputs": [],
   "source": [
    "# Fes aquí el programa de l'exercici 2"
   ]
  },
  {
   "cell_type": "markdown",
   "metadata": {},
   "source": [
    "## Exercici 3\n",
    "\n",
    "Fes un programa amb dues funcions:\n",
    "\n",
    "* transformar_km_a_milles, amb la operació (kilòmetres * 0.62)\n",
    "\n",
    "* transformar_milles_a_km, amb la operació (milles / 0.62)\n",
    "\n",
    "El programa haurà de demanar a l'usuari: \"Entra una distància en kilòmetres: \"\n",
    "\n",
    "Després haurà de mostrar: \"La distància de X kilòmetres en milles és Y\" on X són els kilòmetres originals i Y les milles resultants\n",
    "\n",
    "Després haurà de tornar a calcular els kilòmetres a partir del resultat anterior\n",
    "\n",
    "Finalment, escriurà: \"El resultat de tornar a calcular els kilòmetres és: Z\" on Z és el resultat del càlcul anterior \n",
    "\n",
    "**Important:** Per millorar la lectura dels resultats, limita els prints a 3 decimals sense perdre informació"
   ]
  },
  {
   "cell_type": "code",
   "execution_count": null,
   "metadata": {},
   "outputs": [],
   "source": [
    "# Fes aquí el programa de l'exercici 3"
   ]
  },
  {
   "cell_type": "markdown",
   "metadata": {},
   "source": [
    "## Retorn múltiple\n",
    "\n",
    "Python permet tornar més d'un valor al mateix temps.\n",
    "\n",
    "Per fer-ho, només cal separar els valors amb comes.\n",
    "\n",
    "return valor1, valor2, valor3\n",
    "\n",
    "Aleshores, per assignar els valors a variables, també cal separar-les amb comes\n",
    "\n",
    "var1, var2, var3 = funcio()"
   ]
  },
  {
   "cell_type": "code",
   "execution_count": null,
   "metadata": {},
   "outputs": [],
   "source": [
    "def calcular_estadistiques(a, b, c):\n",
    "    suma = a + b + c\n",
    "    promig = suma / 3\n",
    "    maxim = max(a, b, c)\n",
    "    \n",
    "    return suma, promig, maxim\n",
    "\n",
    "suma_a, promig_a, maxim_a = calcular_estadistiques(10, 20, 30)\n",
    "suma_b, promig_b, maxim_b = calcular_estadistiques(40, 30, 20)\n",
    "suma_c, promig_c, maxim_c = calcular_estadistiques(50, 30, 50)\n",
    "\n",
    "print(f\"Resultats 'a'> suma:{suma_a}, promig:{promig_a:.2f}, maxim:{maxim_a}\")\n",
    "print(f\"Resultats 'b'> suma:{suma_b}, promig:{promig_b:.2f}, maxim:{maxim_b}\")\n",
    "print(f\"Resultats 'c'> suma:{suma_c}, promig:{promig_c:.2f}, maxim:{maxim_c}\")\n"
   ]
  },
  {
   "cell_type": "markdown",
   "metadata": {},
   "source": [
    "## Exercici 4\n",
    "\n",
    "Fes un programa amb dues funcions: \n",
    "\n",
    "* 'operacions_aritmetiques': que accepta dos paràmetres: 'a' i 'b' i retorna el resultat de les operacions: suma, resta, multiplicació i divisió\n",
    "\n",
    "* 'mostrar_resultats': que accepta 6 paràmetres: 'a', 'b', 'suma', 'resta', 'multiplicacio' i 'divisio' i mostra els resultats amb el format:\n",
    "\n",
    "a + b = suma, a - b = resta, a * b = multiplicacio, a / b = divisio\n",
    "\n",
    "On a i b són els valors originals i suma, resta, multiplicacio, divisio són els altres paràmetres rebuts\n",
    "\n",
    "**Nota**: Tingues en compte que les operacions es fan a la funció 'operacions_aritmetiques' i que la funció 'mostrar_resultats' només mostra informació"
   ]
  },
  {
   "cell_type": "code",
   "execution_count": null,
   "metadata": {},
   "outputs": [],
   "source": [
    "# Fes aquí el programa de l'exercici 4"
   ]
  },
  {
   "cell_type": "markdown",
   "metadata": {},
   "source": [
    "## Exercici 5\n",
    "\n",
    "Fes un programa python amb  dues funcions:\n",
    "\n",
    "* \"demana_info\" que demana a l'usuari el títol, director i any i retorna tres valors\n",
    "\n",
    "* \"informacio_peli\" que accepta 3 paràmetres: titol, director, any i mostra la informació així:\n",
    "\n",
    "Títol: Gattacca, Director: Andrew Niccol, Any: 1997\n",
    "\n",
    "El programa ha de demanar i mostrar la informació de 2 pel·lícules."
   ]
  },
  {
   "cell_type": "code",
   "execution_count": null,
   "metadata": {},
   "outputs": [],
   "source": [
    "# Fes aquí el programa de l'exercici 5"
   ]
  },
  {
   "cell_type": "markdown",
   "metadata": {},
   "source": [
    "## Exercici 6\n",
    "\n",
    "Un palíndrom és una frase que, es llegeix igual del dret que del revés (Tota en minúscula, i si no tens en compte els espais o caràcters especials)\n",
    "\n",
    "Per exemple:\n",
    "```\n",
    "Anul·la la lluna\n",
    "Atrapa'l o l'aparta\n",
    "No sap pas on\n",
    "Tramaran anar a Mart\n",
    "Un pop nu\n",
    "```\n",
    "Fes una funció anomenada \"es_palindrom\" que accepta un text d'entrada i retorna \"True\" o \"False\" segons si la frase és un palíndrom.\n",
    "\n",
    "Per avaluar si és un palíndrom:\n",
    "\n",
    "* Treu tots els espais en blanc de la frase (amb replace(\" \", \"\"))\n",
    "\n",
    "* Passa la frase a minúsules\n",
    "\n",
    "* Compara si el resultat anterior és igual al seu invertit (amb [::-1])\n",
    "\n",
    "S'ha de mostrar per pantalla: \"És la frase 'X' un palindrom? Y\", on X és la frase d'entrada i Y és \"True\" o \"False\"\n",
    "\n",
    "Validar els anagrames d'exemple anteriors, i un parell de textos que no són anagrames"
   ]
  },
  {
   "cell_type": "code",
   "execution_count": null,
   "metadata": {},
   "outputs": [],
   "source": [
    "# Fes aquí el programa de l'exercici 6"
   ]
  },
  {
   "cell_type": "markdown",
   "metadata": {},
   "source": [
    "## Exercici 7\n",
    "\n",
    "Un anagrama és un text, que passat a minúscules i ordenant els seus caràcters, és igual a un altre.\n",
    "\n",
    "Per exemple:\n",
    "``````\n",
    "Mare i Rema\n",
    "Porta i Tropa\n",
    "Triangle i Integral\n",
    "Sopa i Posa\n",
    "``````\n",
    "Fes una funció anomenada \"son_anagrama\" que accepta dues paraules d'entrada, i retorna \"True\" o \"False\" segons si són anagrames.\n",
    "\n",
    "Per avaluar si són anagrames:\n",
    "\n",
    "* Treu tots els espais en blanc de les paraules\n",
    "\n",
    "* Passa les paraules a minúscules\n",
    "\n",
    "* Ordena les lletres de les paraules\n",
    "\n",
    "* Compara si els dos resultats anteriors són iguals\n",
    "\n",
    "S'ha de mostrar per pantalla: \"Són les paraules 'X' i 'Y' anagrames? Z\", on X i Y són les paraules d'entrada i Z és \"True\" o \"False\"\n",
    "\n",
    "Validar els anagrames d'exemple anteriors, i un parell de proves amb quatre paraules que no siguin anagrames."
   ]
  },
  {
   "cell_type": "code",
   "execution_count": null,
   "metadata": {},
   "outputs": [],
   "source": [
    "# Fes aquí el programa de l'exercici 7"
   ]
  }
 ],
 "metadata": {
  "kernelspec": {
   "display_name": "Python 3",
   "language": "python",
   "name": "python3"
  },
  "language_info": {
   "codemirror_mode": {
    "name": "ipython",
    "version": 3
   },
   "file_extension": ".py",
   "mimetype": "text/x-python",
   "name": "python",
   "nbconvert_exporter": "python",
   "pygments_lexer": "ipython3",
   "version": "3.11.5"
  },
  "orig_nbformat": 4
 },
 "nbformat": 4,
 "nbformat_minor": 2
}
