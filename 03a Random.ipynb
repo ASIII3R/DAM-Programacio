{
 "cells": [
  {
   "cell_type": "markdown",
   "metadata": {},
   "source": [
    "<div style=\"display: flex; width: 100%;\">\n",
    "    <div style=\"flex: 1; padding: 0px;\">\n",
    "        <p>© Albert Palacios Jiménez, 2023</p>\n",
    "    </div>\n",
    "    <div style=\"flex: 1; padding: 0px; text-align: right;\">\n",
    "        <img src=\"./assets/ieti.png\" height=\"32\" alt=\"Logo de IETI\" style=\"max-height: 32px;\">\n",
    "    </div>\n",
    "</div>\n",
    "<hr/>"
   ]
  },
  {
   "cell_type": "markdown",
   "metadata": {},
   "source": [
    "# Random, números aleatòris\n",
    "\n",
    "<center><img src=\"./assets/03a_00.png\" height=\"150\" style=\"max-height: 150px;\" /></center>\n",
    "\n",
    "En informàtica és molt important poder generar números aleatòris.\n",
    "\n",
    "Per exemple:\n",
    "\n",
    "* Un joc necessita decidir com atacarà un enemic de manera aleatòria.\n",
    "\n",
    "* Per generar contrasenyes segures i aleatòries.\n",
    "\n",
    "* Per simular dades per fer proves."
   ]
  },
  {
   "cell_type": "markdown",
   "metadata": {},
   "source": [
    "## Funcions per generar números aleatòris:\n",
    "\n",
    "Per poder generar números aleatòris cal importar la llibreria 'import' al principi del programa.\n",
    "\n",
    "        import random\n",
    "\n",
    "Python té diverses funcions per generar números aleatòris:\n",
    "\n",
    "* **random()**: Genera un decimal entre 0 (inclòs) i 1 (exclòs)\n",
    "\n",
    "* **randint(inici, final)**: Genera un número enter aleatòri entre inici i final (inclòssos)\n",
    "\n",
    "* **uniform(inici, final)**: Genera un decimal aleatòri entre inici i final (inclòssos)\n",
    "\n",
    "* **randrange(inici, final, salt)**: Genera un enter aleatòri entre inici i final, però tenint en compte els salts entre els números disponibles (per defecte salt és 1, és a dir tots els enters)"
   ]
  },
  {
   "cell_type": "code",
   "execution_count": null,
   "metadata": {},
   "outputs": [],
   "source": [
    "# Exemple de la funció 'random.random()'\n",
    "import random\n",
    "\n",
    "decimal_aleatori = random.random()\n",
    "print(f\"Número decimal aleatori: {decimal_aleatori}\")\n",
    "\n",
    "decimal_aleatori = random.random()\n",
    "print(f\"Número decimal aleatori: {decimal_aleatori}\")\n",
    "\n",
    "decimal_aleatori = random.random()\n",
    "print(f\"Número decimal aleatori: {decimal_aleatori}\")"
   ]
  },
  {
   "cell_type": "code",
   "execution_count": null,
   "metadata": {},
   "outputs": [],
   "source": [
    "# Exemple de la funció 'random.randint(inici, final)'\n",
    "import random\n",
    "\n",
    "enter_aleatori = random.randint(2, 8)\n",
    "print(f\"Número enter aleatori entre [2 i 8]: {enter_aleatori}\")\n",
    "\n",
    "enter_aleatori = random.randint(40, 50)\n",
    "print(f\"Número enter aleatori entre [40 i 50]: {enter_aleatori}\")\n",
    "\n",
    "enter_aleatori = random.randint(200, 205)\n",
    "print(f\"Número enter aleatori entre [200 i 205]: {enter_aleatori}\")"
   ]
  },
  {
   "cell_type": "code",
   "execution_count": null,
   "metadata": {},
   "outputs": [],
   "source": [
    "# Exemple de la funció 'random.uniform(inici, final)'\n",
    "import random\n",
    "\n",
    "decimal_aleatori = random.uniform(2.5, 2.8)\n",
    "print(f\"Número decimal aleatori entre [2.5 i 2.8]: {decimal_aleatori}\")\n",
    "\n",
    "decimal_aleatori = random.uniform(55.6, 65.2)\n",
    "print(f\"Número decimal aleatori entre [55.6 i 65.2]: {decimal_aleatori}\")\n",
    "\n",
    "decimal_aleatori = random.uniform(4, 5)\n",
    "print(f\"Número decimal aleatori entre [4 i 5]: {decimal_aleatori}\")"
   ]
  },
  {
   "cell_type": "code",
   "execution_count": null,
   "metadata": {},
   "outputs": [],
   "source": [
    "# Exemple de la funció 'random.randrange(inici, final, salt)'\n",
    "import random\n",
    "\n",
    "enter_aleatori = random.randrange(0, 10, 2)\n",
    "print(f\"Número enter aleatori entre [0 i 10] de 2 en 2: {enter_aleatori}\")\n",
    "\n",
    "enter_aleatori = random.randrange(0, 10, 3)\n",
    "print(f\"Número enter aleatori entre [0 i 10] de 3 en 3: {enter_aleatori}\")\n",
    "\n",
    "enter_aleatori = random.randrange(0, 10, 4)\n",
    "print(f\"Número enter aleatori entre [0 i 10] de 4 en 4: {enter_aleatori}\")"
   ]
  },
  {
   "cell_type": "markdown",
   "metadata": {},
   "source": [
    "# Randoms avançats\n",
    "\n",
    "Continua a partir d'aquesta secció, quan sàpigues treballar amb llistes, tuples i diccionaris"
   ]
  },
  {
   "cell_type": "markdown",
   "metadata": {},
   "source": [
    "## Operacions amb llistes\n",
    "\n",
    "Python facilita el treball amb llistes i números aleatòris.\n",
    "\n",
    "* **choice(llista)**: Retorna un element aleatoria d'una llista no buida\n",
    "\n",
    "* **shuffle(llista)**: Desordena una llista i mescla els seus elements aleatòriament\n",
    "\n",
    "* **sample(llista)**: Retorna una qüantitat aleatòria d'elements d'una llista"
   ]
  },
  {
   "cell_type": "code",
   "execution_count": null,
   "metadata": {},
   "outputs": [],
   "source": [
    "# Exemple d'escollir un element aleatori d'una llista\n",
    "\n",
    "import random\n",
    "\n",
    "llista = [\"Barcelona\", \"Madrid\", \"Sevilla\", \"Zaragoza\", \"Murcia\", \"Palma\", \"Bilbao\"]\n",
    "element = random.choice(llista)\n",
    "print(f\"Element aleatori de la llista: {element}\")"
   ]
  },
  {
   "cell_type": "code",
   "execution_count": null,
   "metadata": {},
   "outputs": [],
   "source": [
    "# Exemple de com desordenar una llista\n",
    "\n",
    "import random\n",
    "\n",
    "llista = [1, 2, 3, 4, 5, 6, 7, 8, 9]\n",
    "print(f\"Llista ordenada: {llista}\")\n",
    "\n",
    "random.shuffle(llista)\n",
    "print(f\"Llista desordenada: {llista}\")"
   ]
  },
  {
   "cell_type": "code",
   "execution_count": null,
   "metadata": {},
   "outputs": [],
   "source": [
    "# Exemple de com escollir una mostra aleatòria d'una llista\n",
    "\n",
    "import random\n",
    "\n",
    "llista = [1, 2, 3, 4, 5, 6, 7, 8, 9]\n",
    "print(f\"Llista ordenada: {llista}\")\n",
    "\n",
    "mostra = random.sample(llista, 3)\n",
    "print(f\"Mostra aleatòria de 3 elements: {mostra}\")\n",
    "\n",
    "mostra = random.sample(llista, 5)\n",
    "print(f\"Mostra aleatòria de 5 elements: {mostra}\")"
   ]
  }
 ],
 "metadata": {
  "kernelspec": {
   "display_name": "Python 3",
   "language": "python",
   "name": "python3"
  },
  "language_info": {
   "codemirror_mode": {
    "name": "ipython",
    "version": 3
   },
   "file_extension": ".py",
   "mimetype": "text/x-python",
   "name": "python",
   "nbconvert_exporter": "python",
   "pygments_lexer": "ipython3",
   "version": "3.11.5"
  },
  "orig_nbformat": 4
 },
 "nbformat": 4,
 "nbformat_minor": 2
}
