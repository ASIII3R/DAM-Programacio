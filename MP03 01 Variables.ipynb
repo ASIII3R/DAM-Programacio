{
 "cells": [
  {
   "cell_type": "markdown",
   "metadata": {},
   "source": [
    "# Variables\n",
    "\n",
    "Les \"variables\" guarden una informació.\n",
    "\n",
    "<center><img src=\"./assets/01_00.png\" width=\"300\" /></center>\n",
    "\n",
    "Imagina les variables com una caixa, on deixem informació\n",
    "\n",
    "Aquesta informació pot ser un número, un text, un objecte, ..."
   ]
  },
  {
   "cell_type": "markdown",
   "metadata": {},
   "source": [
    "### Nom de les variables\n",
    "\n",
    "Per distinguir una variable d'una altre (una caixa amb informació d'una altre), etiquetem les variables amb un nom\n",
    "\n",
    "El nom pot ser el què volguem, però en general:\n",
    "\n",
    "* El nom serà curt i entenedor\n",
    "\n",
    "* El nom està relacionat amb la informació que conté la variable\n",
    "\n",
    "* El nom no conté accents, ni espais, ni caràcters extranys\n",
    "\n",
    "* El nom no comença per un número\n",
    "\n",
    "* Si té diferents paraules, les separem amb un guió de baix _ (però això només per Python)"
   ]
  },
  {
   "cell_type": "markdown",
   "metadata": {},
   "source": [
    "### Assignar un valor a una variable\n",
    "\n",
    "Hem dit que les variables guarden una informació, per exemple un nom \"Bob\"\n",
    "\n",
    "Per indicar a la variable quin text ha de guardar fem servir el simbol =\n",
    "\n",
    "Per exemple:\n",
    "\n",
    "*nom = \"Bob\"*\n",
    "\n",
    "En aquesta instrucció, hem creat una variable anomenada 'nom' i li hem guardat com a informació el text \"Bob\"\n",
    "        \n",
    "*preu = 299.9*\n",
    "\n",
    "En aquesta instrucció, hem creat una variable anomenada 'preu' i li hem guardat com a informació el valor 299.9"
   ]
  },
  {
   "cell_type": "code",
   "execution_count": null,
   "metadata": {},
   "outputs": [],
   "source": [
    "# Exemple\n",
    "producte = \"Meló\"\n",
    "preu = 2.9\n",
    "quantitat = 3\n",
    "\n",
    "print(f\"Aquest estiu el \\\"{producte}\\\" estava a {preu}€ el kilo, i n'hem venut {quantitat}\")"
   ]
  },
  {
   "cell_type": "markdown",
   "metadata": {},
   "source": [
    "### Tipus de variables\n",
    "\n",
    "Segons el tipus de informació que guarden les variables, les distingim en diferents tipus:\n",
    "\n",
    "*int*: Són números enters (sense decimals), per exemple: -3, 6, 123\n",
    "\n",
    "*float*: Són números amb decimals, per exemple: -4.7, 3.14, 321.45\n",
    "\n",
    "*str*: cadenes de text (Strings), per exemple: \"Hola\", 'món'\n",
    "\n",
    "Hi ha molts altres tipus, però ja els aprendrem més endavant."
   ]
  },
  {
   "cell_type": "code",
   "execution_count": null,
   "metadata": {},
   "outputs": [],
   "source": [
    "# Exemple\n",
    "producte = \"Meló\"\n",
    "preu = 2.9\n",
    "quantitat = 3\n",
    "\n",
    "print(f'El tipus de la variable \"producte\" és: \"{type(producte).__name__}\"')\n",
    "print(f'El tipus de la variable \"preu\" és: \"{type(preu).__name__}\"')\n",
    "print(f'El tipus de la variable \"quantitat\" és: \"{type(quantitat).__name__}\"')"
   ]
  },
  {
   "cell_type": "markdown",
   "metadata": {},
   "source": [
    "## Operacions amb les variables\n",
    "\n",
    "Amb les variables podem fer operacions, el més fàcil és fer operacions numèriques entre variables que tenen números.\n",
    "\n",
    "Quan es fa una operació, el valor que es guarda a la variable és el resultat de la operació\n",
    "\n",
    "a = 2\n",
    "b = 3\n",
    "c = a + b\n",
    "\n",
    "En aquest exemple, la variable 'c' té valor 5 (que és el resultat de sumar 2 + 3)"
   ]
  },
  {
   "cell_type": "code",
   "execution_count": null,
   "metadata": {},
   "outputs": [],
   "source": [
    "# Exemple\n",
    "gats = 3\n",
    "gossos = 2\n",
    "conills = 5\n",
    "total = gats + gossos + conills\n",
    "print(f'Tinc {total} animals a casa meva.')"
   ]
  },
  {
   "cell_type": "code",
   "execution_count": null,
   "metadata": {},
   "outputs": [],
   "source": [
    "# Exemple\n",
    "x = 5\n",
    "y = 3\n",
    "a = x + 1\n",
    "b = a - y\n",
    "\n",
    "print(f'El valor de la variable \"a\" és: {a}')\n",
    "print(f'El valor de la variable \"b\" és: {b}')"
   ]
  },
  {
   "cell_type": "markdown",
   "metadata": {},
   "source": [
    "### Exercici 0\n",
    "\n",
    "Fes un programa que amb tres variables numèriques:\n",
    "\n",
    "* Una anomenada 'x' amb valor 10 \n",
    "* La segona anomenada 'y' amb valor 4\n",
    "* La tercera s'ha de dir 'resultat' i serà el valor de calcular x dividit per y (simbol /)\n",
    "\n",
    "Finalment, el programa ha de mostrar el text: 'El resultat de la divisió és ?', on ? mostra el resultat de la operació anterior"
   ]
  },
  {
   "cell_type": "code",
   "execution_count": null,
   "metadata": {},
   "outputs": [],
   "source": [
    "# Fes aquí el programa de l'exercici 0"
   ]
  },
  {
   "cell_type": "markdown",
   "metadata": {},
   "source": [
    "## Canvi de tipus\n",
    "\n",
    "A vegades volem canviar el tipus d'una variable, per exemple tenim un text \"45\" i volem transformar-lo en un número.\n",
    "\n",
    "Python ens permet fer aquesta conversió amb la funció 'flotat'. \n",
    "\n",
    "Un cop obtenim el valor en format de número, ja podem fer operacions amb ell."
   ]
  },
  {
   "cell_type": "code",
   "execution_count": null,
   "metadata": {},
   "outputs": [],
   "source": [
    "# Aquest programa produeix un error, perquè no podem sumar un text i un número\n",
    "text = \"45\"\n",
    "suma = 2 + text"
   ]
  },
  {
   "cell_type": "code",
   "execution_count": null,
   "metadata": {},
   "outputs": [],
   "source": [
    "# Aquest programa funciona bé, perquè primer transforma el text a tipus numèric\n",
    "text = \"45\"\n",
    "numero = float(text)\n",
    "suma = 2 + numero\n",
    "print(f'La suma és: {suma}')"
   ]
  },
  {
   "cell_type": "markdown",
   "metadata": {},
   "source": [
    "### Exercici 1\n",
    "\n",
    "Fes un programa que demani \"Quina edat tens?\" (amb un input), i calculi l'edat que tindríes si fós un gos.\n",
    "\n",
    "Per calcular l'edat de 'gos', multiplica l'edat humana per 7\n",
    "\n",
    "Com a sortida mostra: \"Si fossis un gos, tindries X anys\", on X és el resultat del càlcul anterior"
   ]
  },
  {
   "cell_type": "code",
   "execution_count": null,
   "metadata": {},
   "outputs": [],
   "source": [
    "# Fes aquí el programa de l'exercici 1"
   ]
  }
 ],
 "metadata": {
  "kernelspec": {
   "display_name": "Python 3",
   "language": "python",
   "name": "python3"
  },
  "language_info": {
   "codemirror_mode": {
    "name": "ipython",
    "version": 3
   },
   "file_extension": ".py",
   "mimetype": "text/x-python",
   "name": "python",
   "nbconvert_exporter": "python",
   "pygments_lexer": "ipython3",
   "version": "3.11.5"
  },
  "orig_nbformat": 4
 },
 "nbformat": 4,
 "nbformat_minor": 2
}
