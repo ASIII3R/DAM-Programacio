{
 "cells": [
  {
   "cell_type": "markdown",
   "metadata": {},
   "source": [
    "<div style=\"display: flex; width: 100%;\">\n",
    "    <div style=\"flex: 1; padding: 0px;\">\n",
    "        <p>© Albert Palacios Jiménez, 2023</p>\n",
    "    </div>\n",
    "    <div style=\"flex: 1; padding: 0px; text-align: right;\">\n",
    "        <img src=\"./assets/ieti.png\" height=\"32\" alt=\"Logo de IETI\" style=\"max-height: 32px;\">\n",
    "    </div>\n",
    "</div>\n",
    "<hr/>"
   ]
  },
  {
   "cell_type": "markdown",
   "metadata": {},
   "source": [
    "## Arxius\n",
    "\n",
    "Des de Python es pot llegir i escriure informació en arxius. Els arxius poden ser de text, o binaris.\n",
    "\n",
    "Per poder treballar amb arxius:\n",
    "\n",
    "- Primer cal obrir-los amb la funció 'open'\n",
    "- Llegir o escriure el contingut dels arxius\n",
    "- Tancar els arxius amb 'close'"
   ]
  },
  {
   "cell_type": "code",
   "execution_count": null,
   "metadata": {},
   "outputs": [],
   "source": [
    "# Exemple de llegir un arxiu\n",
    "\n",
    "f = open(\"20b Arxius - Salut.txt\", \"r\")\n",
    "print(f.read())\n",
    "f.close()"
   ]
  },
  {
   "cell_type": "markdown",
   "metadata": {},
   "source": [
    "## Obrir arxius\n",
    "\n",
    "Quan s'obre un arxiu amb la funció 'open', cal indicar quin d'ús farem.\n",
    "\n",
    "- 'r': read, per obrir l'arxiu en mode 'lectura' (no es pot modificar)\n",
    "- 'w': write, per obrir l'arxiu en mode 'escriptura' (o crear-lo si no existeix)\n",
    "- 'a': append, per afegir dades al final de l'arxiu\n",
    "- 'b': obre l'arxiu en mode binari\n",
    "- '+': permet lectura i escriptura simultània\n",
    "- 'u': permet treballar amb salts de línia universals (ja que en Windows, MacOS i Unix són diferents)\n"
   ]
  },
  {
   "cell_type": "markdown",
   "metadata": {},
   "source": [
    "### Important\n",
    "\n",
    "Com que Windows i Unix tenen diferent manera de representar les rutes d'arxius, amb \\ o bé amb /, Python permet crear les cadenes de text que representen les rutes d'arxiu al sistema on està funcionant amb 'path.join' de la llibreria 'os'"
   ]
  },
  {
   "cell_type": "code",
   "execution_count": null,
   "metadata": {},
   "outputs": [],
   "source": [
    "import os\n",
    "path = os.path.join(\".\", \"20b Arxius - Salut.txt\")\n",
    "print(f'Arxiu a la ruta actual: \"{path}\"')\n",
    "print(f\"L'arxiu existeix? {os.path.exists(path)}\")"
   ]
  },
  {
   "cell_type": "markdown",
   "metadata": {},
   "source": [
    "### Lectura d'arxius\n",
    "\n",
    "Quan s'obre l'arxiu en mode 'r' es poden fer servir aquestes mètodes:\n",
    "\n",
    "- read(): llegeix el contingut de l'arxiu\n",
    "- readline(): llegeix l'arxiu linia a linia\n",
    "- readlines(): llegeix totes les linies de l'arxiu i retorna una llista de cadenes de text"
   ]
  },
  {
   "cell_type": "code",
   "execution_count": null,
   "metadata": {},
   "outputs": [],
   "source": [
    "# Exemple de read\n",
    "f = open(\"20b Arxius - Salut.txt\", \"r\")\n",
    "print(f.read())\n",
    "f.close()"
   ]
  },
  {
   "cell_type": "code",
   "execution_count": null,
   "metadata": {},
   "outputs": [],
   "source": [
    "# Exemple de read (llegir 10 caràcters, inclou salts de linia)\n",
    "f = open(\"20b Arxius - Salut.txt\", \"r\")\n",
    "print(f.read(10))\n",
    "f.close()"
   ]
  },
  {
   "cell_type": "code",
   "execution_count": null,
   "metadata": {},
   "outputs": [],
   "source": [
    "# Exemple de readline\n",
    "f = open(\"20b Arxius - Salut.txt\", \"r\")\n",
    "print(f.readline())\n",
    "print(f.readline())\n",
    "print(f.readline())\n",
    "print(f.readline()) # retorna cadena buida\n",
    "f.close()"
   ]
  },
  {
   "cell_type": "code",
   "execution_count": null,
   "metadata": {},
   "outputs": [],
   "source": [
    "# Exemple de readlines\n",
    "f = open(\"20b Arxius - Salut.txt\", \"r\")\n",
    "llista = f.readlines()\n",
    "numLinies = len(llista)\n",
    "for i in range(numLinies):\n",
    "    print(llista[i])\n",
    "f.close()"
   ]
  },
  {
   "cell_type": "code",
   "execution_count": null,
   "metadata": {},
   "outputs": [],
   "source": [
    "# Exemple de crear/modificar un arxiu amb 'w' \n",
    "f = open(\"20b Arxius - Nou.txt\", \"w\")\n",
    "f.write(\"Aquest és un nou contingut\")\n",
    "f.close()"
   ]
  },
  {
   "cell_type": "code",
   "execution_count": null,
   "metadata": {},
   "outputs": [],
   "source": [
    "# Exemple d'afegir continguts a un arxiu amb 'a'\n",
    "f = open(\"20b Arxius - Nou.txt\", \"a\")\n",
    "f.write(\"\\nAquest és el 2n contingut\")\n",
    "f.close()\n",
    "\n",
    "f = open(\"20b Arxius - Nou.txt\", \"r\")\n",
    "print(f.read())\n",
    "f.close()"
   ]
  },
  {
   "cell_type": "markdown",
   "metadata": {},
   "source": [
    "### Posicionament als arxius\n",
    "\n",
    "- La funció 'tell' ens diu en quina posició estem al llegir l'arxiu\n",
    "- La funció 'seek' permet canviar la posició de lectura\n",
    "\n",
    "Aquestes funcions es comporten diferent en binari i en text:\n",
    "\n",
    "- En binari fan referència a les posicions 'byte' de l'arxiu\n",
    "- En text fan referència a les posicions dels caràcters dels arxius"
   ]
  },
  {
   "cell_type": "code",
   "execution_count": null,
   "metadata": {},
   "outputs": [],
   "source": [
    "# Exemple de tell\n",
    "f = open(\"20b Arxius - Salut.txt\", \"r\")\n",
    "print(f.readline())\n",
    "print(f.tell())\n",
    "print(f.readline())\n",
    "print(f.tell())\n",
    "f.close()"
   ]
  },
  {
   "cell_type": "code",
   "execution_count": null,
   "metadata": {},
   "outputs": [],
   "source": [
    "# Exemple de seek\n",
    "f = open(\"20b Arxius - Salut.txt\", \"r\")\n",
    "print(f.readline())\n",
    "print(f'A: {f.tell()}')\n",
    "print(f.readline())\n",
    "print(f'B: {f.tell()}')\n",
    "print(f.readline())\n",
    "print(f.seek(5))\n",
    "print(f'C: {f.tell()}')\n",
    "print(f.readline())\n",
    "f.close()"
   ]
  },
  {
   "cell_type": "markdown",
   "metadata": {},
   "source": [
    "### Moviment relatiu amb 'seek'\n",
    "\n",
    "La funció 'seek', en mode binari 'b' accepta un segon paràmetre:\n",
    "\n",
    "- f.seek (n, 0): Equivalent a l'anterior: Anar al byte n des del principi del fitxer.\n",
    "- f.seek (n, 1): Desplaçar n bytes a partir de la posició actual del fitxer.\n",
    "- f.seek (n, 2): Situar-nos n bytes abans del final de fitxer"
   ]
  },
  {
   "cell_type": "code",
   "execution_count": null,
   "metadata": {},
   "outputs": [],
   "source": [
    "# Exemple de seek\n",
    "f = open(\"20b Arxius - Salut.txt\", \"rb\")\n",
    "print(f.readline())\n",
    "f.seek(5, 1)\n",
    "print(f.readline())\n",
    "f.close()"
   ]
  },
  {
   "cell_type": "markdown",
   "metadata": {},
   "source": [
    "### Propietats dels arxius\n",
    "\n",
    "Podem obtenir informació dels arxius, a partir de les funcions:\n",
    "\n",
    "- 'closed' retorna True si l'arxiu s'ha tancat correctament\n",
    "- 'mode' retorna el mode en el que s'ha obert l'arxiu\n",
    "- 'name' retorna el nom de l'arxiu\n",
    "- 'encoding' retorna el mode en què està representat el text a l'arxiu (habitualment UTF-8)"
   ]
  },
  {
   "cell_type": "code",
   "execution_count": null,
   "metadata": {},
   "outputs": [],
   "source": [
    "# Exemple de propietats\n",
    "f = open(\"20b Arxius - Salut.txt\", \"r\")\n",
    "print(f.closed)\n",
    "print(f.mode)\n",
    "print(f.name)\n",
    "print(f.encoding)\n",
    "f.close()\n",
    "print(f.closed)"
   ]
  },
  {
   "cell_type": "markdown",
   "metadata": {},
   "source": [
    "## Exercici 0\n",
    "\n",
    "Feu un programa que escrigui a l’arxiu “parells.txt” els nombres parells de l’1 al 100, i en “senars.txt” els senars de l’1 al 100.\n"
   ]
  },
  {
   "cell_type": "code",
   "execution_count": null,
   "metadata": {},
   "outputs": [],
   "source": [
    "# Resol aquí l'exercici 0"
   ]
  },
  {
   "cell_type": "markdown",
   "metadata": {},
   "source": [
    "## Exercici 1\n",
    "\n",
    "Usant els arxius generats al problema anterior, feu un programa que fusioni “parells.txt” i “senars.txt” en un tercer arxiu “1a100.txt”, intercalant una línia de senars, i una dels parells"
   ]
  },
  {
   "cell_type": "code",
   "execution_count": null,
   "metadata": {},
   "outputs": [],
   "source": [
    "# Resol aquí l'exercici 1"
   ]
  },
  {
   "cell_type": "markdown",
   "metadata": {},
   "source": [
    "## Exercici 2\n",
    "\n",
    "Feu un programa que demani dades de vàries persones , i les vagi desant a un arxiu \"persones.csv\". Les dades de cada persona seran (useu una llista):\n",
    "- nom\n",
    "- cognoms\n",
    "- NIF\n",
    "- edat\n",
    "- alçada \n",
    "El procés s’atura quan l’usuari indica que no vol introduir més persones. \n",
    "\n",
    "Els arxius <a href=\"https://ca.wikipedia.org/wiki/CSV\">.csv (comma separated values)</a> separen les dades amb ',' i cada usuari ha d'estar en una línia diferent"
   ]
  },
  {
   "cell_type": "code",
   "execution_count": null,
   "metadata": {},
   "outputs": [],
   "source": [
    "# Resol aquí l'exercici 2"
   ]
  },
  {
   "cell_type": "markdown",
   "metadata": {},
   "source": [
    "## Exercici 3\n",
    "\n",
    "Fes un programa que llegeixi l’arxiu \"persones.csv\" creat a l’exercici anterior, i mostri totes les dades de les persones majors de 18 anys per pantalla."
   ]
  },
  {
   "cell_type": "code",
   "execution_count": null,
   "metadata": {},
   "outputs": [],
   "source": [
    "# Resol aquí l'exercici 3"
   ]
  },
  {
   "cell_type": "markdown",
   "metadata": {},
   "source": [
    "## Exercici 4\n",
    "\n",
    "Fes manualment dos arxius (textos.txt i numeros.txt), un amb línies de text i un altre amb 4 linies de números. Els números han de ser més petits que la quantitat de línies de text del primer arxiu.\n",
    "\n",
    "Aleshores, fes una funció 'mostra_linies' que obre tots dos arxius, i mostra les linies de text de l'arxiu 'textos.txt' que corresponen als números de l'arxiu 'numeros.txt'\n",
    "\n",
    "Per exemple, si numeros.txt és:\n",
    "\n",
    "10\n",
    "5\n",
    "\n",
    "Escriurà per pantalla les linies 10 i 5 de l'arxiu 'textos.txt'"
   ]
  },
  {
   "cell_type": "code",
   "execution_count": null,
   "metadata": {},
   "outputs": [],
   "source": [
    "# Resol aquí l'exercici 4"
   ]
  },
  {
   "cell_type": "markdown",
   "metadata": {},
   "source": [
    "## Exercici 5\n",
    "\n",
    "Fes un programa que obri un arxiu en mode binari, de lectura i escriptura:\n",
    "\n",
    "- Escrigui aquest text en un arxiu:\n",
    "```text\n",
    "All paid jobs absorb and degrade the mind.\n",
    "If Beethoven had been killed in a plane crash at the age of 22, it would have changed\n",
    "the history of music... and of aviation.\n",
    "I do not have a psychiatrist and I do not want one, for the simple reason that if he\n",
    "listened to me long enough, he might become disturbed\n",
    "```\n",
    "\n",
    "- Torni a l'inici de l'arxiu (sense tancar-lo) i mostri la primera frase\n",
    "- Faci un desplaçament i mostri la paraula 'mind'\n",
    "- Desplaçant des de la posició actual, mostri la paraula 'Beethoven'\n",
    "- Desplaçant mostri la última linia\n",
    "- Calcula la mida de l'arxiu en KBytes\n",
    "\n",
    "**Nota** Una manera de calcular la mida en 'KBytes' és llegint tot el contingut de l'arxiu:\n",
    "\n",
    "```python\n",
    "mida_bytes = 0\n",
    "while True:\n",
    "    data = file.read(1024)  # Llegir 1024 bytes a la vegada\n",
    "    if not data: # Llegir fins que no queden dades\n",
    "        break\n",
    "mida_bytes += len(data)\n",
    "mida_kb = mida_bytes / 1024\n",
    "```"
   ]
  },
  {
   "cell_type": "code",
   "execution_count": null,
   "metadata": {},
   "outputs": [],
   "source": [
    "# Resol aquí l'exercici 5"
   ]
  },
  {
   "cell_type": "markdown",
   "metadata": {},
   "source": [
    "## Exercici 6\n",
    "\n",
    "Fes un programa anomenat \"satanic.py\" que mostri per pantalla el contingut d’un arxiu de text totalment al revés (caràcter a caràcter).\n",
    "\n",
    "Per fer-ho:\n",
    "\n",
    "- Situeu-vos a l’últim caràcter de l’arxiu\n",
    "- Llegiu 1 caràcter de l’arxiu, i mostreu-lo per pantalla.\n",
    "- Si el caràcter llegit NO és un enter, retrocediu 2 posicions el cursor. Si ho és, retrocediu 3\n",
    "posicions (recorda que un espai ocupa 2 bytes!)"
   ]
  },
  {
   "cell_type": "code",
   "execution_count": null,
   "metadata": {},
   "outputs": [],
   "source": [
    "# Resol aquí l'exercici 6"
   ]
  }
 ],
 "metadata": {
  "kernelspec": {
   "display_name": "Python 3",
   "language": "python",
   "name": "python3"
  },
  "language_info": {
   "codemirror_mode": {
    "name": "ipython",
    "version": 3
   },
   "file_extension": ".py",
   "mimetype": "text/x-python",
   "name": "python",
   "nbconvert_exporter": "python",
   "pygments_lexer": "ipython3",
   "version": "3.9.6"
  }
 },
 "nbformat": 4,
 "nbformat_minor": 2
}
