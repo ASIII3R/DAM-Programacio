{
 "cells": [
  {
   "cell_type": "markdown",
   "metadata": {},
   "source": [
    "<div style=\"display: flex; width: 100%;\">\n",
    "    <div style=\"flex: 1; padding: 0px;\">\n",
    "        <p>© Albert Palacios Jiménez, 2023</p>\n",
    "    </div>\n",
    "    <div style=\"flex: 1; padding: 0px; text-align: right;\">\n",
    "        <img src=\"./assets/ieti.png\" height=\"32\" alt=\"Logo de IETI\" style=\"max-height: 32px;\">\n",
    "    </div>\n",
    "</div>\n",
    "<hr/>"
   ]
  },
  {
   "cell_type": "markdown",
   "metadata": {},
   "source": [
    "## Arxius\n",
    "\n",
    "Des de Python es pot llegir i escriure informació en arxius. Els arxius poden ser de text, o binaris.\n",
    "\n",
    "Per poder treballar amb arxius:\n",
    "\n",
    "- Primer cal obrir-los amb la funció 'open'\n",
    "- Llegir o escriure el contingut dels arxius\n",
    "- Tancar els arxius amb 'close'"
   ]
  },
  {
   "cell_type": "code",
   "execution_count": 1,
   "metadata": {},
   "outputs": [
    {
     "name": "stdout",
     "output_type": "stream",
     "text": [
      "Hola\n",
      "què\n",
      "tal?\n"
     ]
    }
   ],
   "source": [
    "# Exemple de llegir un arxiu\n",
    "\n",
    "f = open(\"20b Arxius - Salut.txt\", \"r\")\n",
    "print(f.read())\n",
    "f.close()"
   ]
  },
  {
   "cell_type": "markdown",
   "metadata": {},
   "source": [
    "## Obrir arxius\n",
    "\n",
    "Quan s'obre un arxiu amb la funció 'open', cal indicar quin d'ús farem.\n",
    "\n",
    "- 'r': read, per obrir l'arxiu en mode 'lectura' (no es pot modificar)\n",
    "- 'w': write, per obrir l'arxiu en mode 'escriptura' (o crear-lo si no existeix)\n",
    "- 'a': append, per afegir dades al final de l'arxiu\n",
    "- 'b': obre l'arxiu en mode binari\n",
    "- '+': permet lectura i escriptura simultània\n",
    "- 'u': permet treballar amb salts de línia universals (ja que en Windows, MacOS i Unix són diferents)\n"
   ]
  },
  {
   "cell_type": "markdown",
   "metadata": {},
   "source": [
    "### Lectura d'arxius\n",
    "\n",
    "Quan s'obre l'arxiu en mode 'r' es poden fer servir aquestes mètodes:\n",
    "\n",
    "- read(): llegeix el contingut de l'arxiu\n",
    "- readline(): llegeix l'arxiu linia a linia\n",
    "- readlines(): llegeix totes les linies de l'arxiu i retorna una llista de cadenes de text"
   ]
  },
  {
   "cell_type": "code",
   "execution_count": 3,
   "metadata": {},
   "outputs": [
    {
     "name": "stdout",
     "output_type": "stream",
     "text": [
      "Hola\n",
      "què\n",
      "tal?\n"
     ]
    }
   ],
   "source": [
    "# Exemple de read\n",
    "f = open(\"20b Arxius - Salut.txt\", \"r\")\n",
    "print(f.read())\n",
    "f.close()"
   ]
  },
  {
   "cell_type": "code",
   "execution_count": 4,
   "metadata": {},
   "outputs": [
    {
     "name": "stdout",
     "output_type": "stream",
     "text": [
      "Hola\n",
      "què\n",
      "t\n"
     ]
    }
   ],
   "source": [
    "# Exemple de read (llegir 10 caràcters, inclou salts de linia)\n",
    "f = open(\"20b Arxius - Salut.txt\", \"r\")\n",
    "print(f.read(10))\n",
    "f.close()"
   ]
  },
  {
   "cell_type": "code",
   "execution_count": 7,
   "metadata": {},
   "outputs": [
    {
     "name": "stdout",
     "output_type": "stream",
     "text": [
      "Hola\n",
      "\n",
      "què\n",
      "\n",
      "tal?\n",
      "\n"
     ]
    }
   ],
   "source": [
    "# Exemple de readline\n",
    "f = open(\"20b Arxius - Salut.txt\", \"r\")\n",
    "print(f.readline())\n",
    "print(f.readline())\n",
    "print(f.readline())\n",
    "print(f.readline()) # retorna cadena buida\n",
    "f.close()"
   ]
  },
  {
   "cell_type": "code",
   "execution_count": 8,
   "metadata": {},
   "outputs": [
    {
     "name": "stdout",
     "output_type": "stream",
     "text": [
      "Hola\n",
      "\n",
      "què\n",
      "\n",
      "tal?\n"
     ]
    }
   ],
   "source": [
    "# Exemple de readlines\n",
    "f = open(\"20b Arxius - Salut.txt\", \"r\")\n",
    "llista = f.readlines()\n",
    "numLinies = len(llista)\n",
    "for i in range(numLinies):\n",
    "    print(llista[i])\n",
    "f.close()"
   ]
  },
  {
   "cell_type": "code",
   "execution_count": 14,
   "metadata": {},
   "outputs": [],
   "source": [
    "# Exemple de crear/modificar un arxiu amb 'w' \n",
    "f = open(\"20b Arxius - Nou.txt\", \"w\")\n",
    "f.write(\"Aquest és un nou contingut\")\n",
    "f.close()"
   ]
  },
  {
   "cell_type": "code",
   "execution_count": 15,
   "metadata": {},
   "outputs": [
    {
     "name": "stdout",
     "output_type": "stream",
     "text": [
      "Aquest és un nou contingut\n",
      "Aquest és el 2n contingut\n"
     ]
    }
   ],
   "source": [
    "# Exemple d'afegir continguts a un arxiu amb 'a'\n",
    "f = open(\"20b Arxius - Nou.txt\", \"a\")\n",
    "f.write(\"\\nAquest és el 2n contingut\")\n",
    "f.close()\n",
    "\n",
    "f = open(\"20b Arxius - Nou.txt\", \"r\")\n",
    "print(f.read())\n",
    "f.close()"
   ]
  },
  {
   "cell_type": "markdown",
   "metadata": {},
   "source": [
    "### Posicionament als arxius\n",
    "\n",
    "- La funció 'tell' ens diu en quina posició estem al llegir l'arxiu\n",
    "- La funció 'seek' permet canviar la posició de lectura\n",
    "\n",
    "Aquestes funcions es comporten diferent en binari i en text:\n",
    "\n",
    "- En binari fan referència a les posicions 'byte' de l'arxiu\n",
    "- En text fan referència a les posicions dels caràcters dels arxius"
   ]
  },
  {
   "cell_type": "code",
   "execution_count": 16,
   "metadata": {},
   "outputs": [
    {
     "name": "stdout",
     "output_type": "stream",
     "text": [
      "Hola\n",
      "\n",
      "5\n",
      "què\n",
      "\n",
      "10\n"
     ]
    }
   ],
   "source": [
    "# Exemple de tell\n",
    "f = open(\"20b Arxius - Salut.txt\", \"r\")\n",
    "print(f.readline())\n",
    "print(f.tell())\n",
    "print(f.readline())\n",
    "print(f.tell())\n",
    "f.close()"
   ]
  },
  {
   "cell_type": "code",
   "execution_count": 20,
   "metadata": {},
   "outputs": [
    {
     "name": "stdout",
     "output_type": "stream",
     "text": [
      "Hola\n",
      "\n",
      "A: 5\n",
      "què\n",
      "\n",
      "B: 10\n",
      "tal?\n",
      "5\n",
      "C: 5\n",
      "què\n",
      "\n"
     ]
    }
   ],
   "source": [
    "# Exemple de seek\n",
    "f = open(\"20b Arxius - Salut.txt\", \"r\")\n",
    "print(f.readline())\n",
    "print(f'A: {f.tell()}')\n",
    "print(f.readline())\n",
    "print(f'B: {f.tell()}')\n",
    "print(f.readline())\n",
    "print(f.seek(5))\n",
    "print(f'C: {f.tell()}')\n",
    "print(f.readline())\n",
    "f.close()"
   ]
  },
  {
   "cell_type": "markdown",
   "metadata": {},
   "source": [
    "### Moviment relatiu amb 'seek'\n",
    "\n",
    "La funció 'seek', en mode binari 'b' accepta un segon paràmetre:\n",
    "\n",
    "- f.seek (n, 0): Equivalent a l'anterior: Anar al byte n des del principi del fitxer.\n",
    "- f.seek (n, 1): Desplaçar n bytes a partir de la posició actual del fitxer.\n",
    "- f.seek (n, 2): Situar-nos n bytes abans del final de fitxer"
   ]
  },
  {
   "cell_type": "code",
   "execution_count": 25,
   "metadata": {},
   "outputs": [
    {
     "name": "stdout",
     "output_type": "stream",
     "text": [
      "b'Hola\\n'\n",
      "b'tal?'\n"
     ]
    }
   ],
   "source": [
    "# Exemple de seek\n",
    "f = open(\"20b Arxius - Salut.txt\", \"rb\")\n",
    "print(f.readline())\n",
    "f.seek(5, 1)\n",
    "print(f.readline())\n",
    "f.close()"
   ]
  },
  {
   "cell_type": "markdown",
   "metadata": {},
   "source": [
    "### Propietats dels arxius\n",
    "\n",
    "Podem obtenir informació dels arxius, a partir de les funcions:\n",
    "\n",
    "- 'closed' retorna True si l'arxiu s'ha tancat correctament\n",
    "- 'mode' retorna el mode en el que s'ha obert l'arxiu\n",
    "- 'name' retorna el nom de l'arxiu\n",
    "- 'encoding' retorna el mode en què està representat el text a l'arxiu (habitualment UTF-8)"
   ]
  },
  {
   "cell_type": "code",
   "execution_count": 26,
   "metadata": {},
   "outputs": [
    {
     "name": "stdout",
     "output_type": "stream",
     "text": [
      "False\n",
      "r\n",
      "20b Arxius - Salut.txt\n",
      "UTF-8\n",
      "True\n"
     ]
    }
   ],
   "source": [
    "# Exemple de propietats\n",
    "f = open(\"20b Arxius - Salut.txt\", \"r\")\n",
    "print(f.closed)\n",
    "print(f.mode)\n",
    "print(f.name)\n",
    "print(f.encoding)\n",
    "f.close()\n",
    "print(f.closed)"
   ]
  }
 ],
 "metadata": {
  "kernelspec": {
   "display_name": "Python 3",
   "language": "python",
   "name": "python3"
  },
  "language_info": {
   "codemirror_mode": {
    "name": "ipython",
    "version": 3
   },
   "file_extension": ".py",
   "mimetype": "text/x-python",
   "name": "python",
   "nbconvert_exporter": "python",
   "pygments_lexer": "ipython3",
   "version": "3.9.6"
  }
 },
 "nbformat": 4,
 "nbformat_minor": 2
}
