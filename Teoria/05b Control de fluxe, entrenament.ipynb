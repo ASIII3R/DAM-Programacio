{
 "cells": [
  {
   "cell_type": "markdown",
   "metadata": {},
   "source": [
    "# Control de fluxe, entrenament\n",
    "\n",
    "<center><img src=\"./assets/05b_00.jpeg\" height=\"200\" style=\"max-height: 200px;\" /></center>\n",
    "\n",
    "Anem a fer alguns exercicis, per anar agafant pràctica."
   ]
  },
  {
   "cell_type": "markdown",
   "metadata": {},
   "source": [
    "## Exercici 0\n",
    "\n",
    "Fes una funció (calcula_interessos) que calculi els interessos que es paga per una hipotèca, segons un capital inicial, un interès i un nombre de mesos.\n",
    "\n",
    "Per exemple, si el capital inicial és de 1000€, l'interès del 5% i el nombre de mesos 10, el resultat hauria de ser 50€.\n",
    "\n",
    "**Pista**: Els interessos es calculen com a `capital * interès * mesos / 100`.\n",
    "\n",
    "Comprova que la funció 'calcula_interessos' funciona correctament amb els següents valors: \n",
    "\n",
    "        * 1000, 5, 10 => 500\n",
    "\n",
    "        * 2500, 3, 12 => 900\n",
    "\n",
    "        * 7464, 4, 14 => 4172.16\n",
    "\n",
    "        * 10000, 2, 24 => 4800"
   ]
  },
  {
   "cell_type": "code",
   "execution_count": 1,
   "metadata": {},
   "outputs": [],
   "source": [
    "# Resol aquí l'exercici 0"
   ]
  },
  {
   "cell_type": "markdown",
   "metadata": {},
   "source": [
    "## Exercici 1\n",
    "\n",
    "Fes una funció (valida_targeta) que a partir d'un any de 4 dígits, introduit per teclat, determina si la targeta és vigent o ha caducat.\n",
    "\n",
    "Per exemple:\n",
    "\n",
    "        * Introdueix l'any de vigència de la targeta: 2022 => La targeta ha caducat.\n",
    "\n",
    "        * Introdueix l'any de vigència de la targeta: 'any_actual' => La targeta és vigent.\n",
    "\n",
    "        * Introdueix l'any de vigència de la targeta: 2085 => La targeta és vigent.\n",
    "\n",
    "\n",
    "Per obtenir l'any actual heu de fer servir la llibreria 'datetime' de Python:\n",
    "```\n",
    "from datetime import datetime\n",
    "any_actual = datetime.now().year\n",
    "```\n",
    "Valida la funció amb els anys 2020, 2021 i 2023, 2025.\n"
   ]
  },
  {
   "cell_type": "code",
   "execution_count": 3,
   "metadata": {},
   "outputs": [],
   "source": [
    "# Resol aquí l'exercici 1\n",
    "from datetime import datetime\n",
    "\n",
    "# Implementa aquí la funció 'valida_targeta'\n",
    "\n",
    "any_actual = datetime.now().year"
   ]
  },
  {
   "cell_type": "markdown",
   "metadata": {},
   "source": [
    "## Exercici 2\n",
    "\n",
    "Fes un programa per convertir mesures. Et caldrà definir funcions de suport, sigues organitzat!\n",
    "\n",
    "El programa mostrarà aquest menú:\n",
    "```\n",
    "Conversió de mesures:\n",
    "1. Metres a Milles\n",
    "2. Milles a Metres\n",
    "3. Metres a Polzades\n",
    "4. Polzades a Metres\n",
    "5. Polzades a Milles\n",
    "6. Milles a Polzades\n",
    "Escull una opció de conversió: \n",
    "```\n",
    "\n",
    "Un cop l'usuari premi la tecla corresponent es mostra un misatge:\n",
    "\n",
    "\"S'ha escollit conversió 'Metres a Milles', introdueix la quantitat de metres: \"\n",
    "\n",
    "Finalment es mostra el resultat de la conversió:\n",
    "\n",
    "\"La conversió 'Metres a Milles' de X metres és Z milles\"\n",
    "\n",
    "Els factors de conversió són:\n",
    "\n",
    "        * 1 metre = 0.000621371 milles, 1 milles = 1609.34 metres\n",
    "\n",
    "        * 1 metre = 39.3701 polzades, 1 polzada = 0.0254 metres\n",
    "\n",
    "        * 1 polzada = 0.0000157828 milles, 1 milles = 63360 polzades"
   ]
  },
  {
   "cell_type": "code",
   "execution_count": null,
   "metadata": {},
   "outputs": [],
   "source": [
    "# Resol aquí l'exercici 2"
   ]
  },
  {
   "cell_type": "markdown",
   "metadata": {},
   "source": [
    "## Exercici X\n",
    "\n",
    "Fes una funció (calcula_irpf) que calculi l'IRPF que ha de pagar una persona segons els ingressos bruts que té.\n",
    "\n",
    "Si et cal, fes altres funcions de suport a aquesta funció principal.\n",
    "\n",
    "Aquests són els trams que ha de tenir en compte:\n",
    "```\n",
    "                | Trams IRPF 2023       |Total|\n",
    "                |-----------------------|-----|\n",
    "                | De 0 a 12.450€        | 19% |\n",
    "                | De 12.450€ a 20.200€  | 24% |\n",
    "                | De 20.200€ a 35.200€  | 30% |\n",
    "                | De 35.200€ a 60.000€  | 37% |\n",
    "                | De 60.000€ a 300.000€ | 45% |\n",
    "                | Més de 300.000€       | 47% |\n",
    "```\n",
    "Per exemple:\n",
    "\n",
    "* Si una persona cobra 10.200€, hauria de pagar el 19% = 1.938€\n",
    "\n",
    "* Si una persona cobra 15.000€, hauria de pagar:\n",
    "\n",
    "        * El 19% de 12.450€ = 2.365,5€\n",
    "        \n",
    "        * El 24% de (15.000€ - 12.450€) = 606€\n",
    "\n",
    "        * Total = 2.365,5€ + 606€ = 2.971,5€\n",
    "\n",
    "* Si una persona cobra 22.000€, hauria de pagar:\n",
    "\n",
    "        * El 19% de 12.450€ = 2.365,5€\n",
    "\n",
    "        * El 24% de (20.200€ - 12.450€) = 1.860€\n",
    "\n",
    "        * El 30% de (22.000€ - 20.200€) = 540€\n",
    "\n",
    "        * Total = 2.365,5€ + 1.860€ + 540€ = 4.765,5€\n",
    "\n",
    "Comprova que la funció 'calcula_irpf' funciona correctament amb els següents valors: \n",
    "\n",
    "        * 10.200€ => 1.938€\n",
    "\n",
    "        * 15.600€ => 2.971,5€\n",
    "\n",
    "        * 24.800€ => 4.765,5€\n",
    "\n",
    "        * 44.050€ => 9.765,5€\n",
    "\n",
    "        * 85.100€ => 23.765,5€\n",
    "\n",
    "        * 118.032€ => 35.765,5€\n",
    "\n",
    "        * 464.128€ => 174.765,5€"
   ]
  }
 ],
 "metadata": {
  "kernelspec": {
   "display_name": "Python 3",
   "language": "python",
   "name": "python3"
  },
  "language_info": {
   "codemirror_mode": {
    "name": "ipython",
    "version": 3
   },
   "file_extension": ".py",
   "mimetype": "text/x-python",
   "name": "python",
   "nbconvert_exporter": "python",
   "pygments_lexer": "ipython3",
   "version": "3.11.5"
  },
  "orig_nbformat": 4
 },
 "nbformat": 4,
 "nbformat_minor": 2
}
