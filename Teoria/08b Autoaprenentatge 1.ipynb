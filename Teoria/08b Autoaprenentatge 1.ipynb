{
 "cells": [
  {
   "cell_type": "markdown",
   "metadata": {},
   "source": [
    "<div style=\"display: flex; width: 100%;\">\n",
    "    <div style=\"flex: 1; padding: 0px;\">\n",
    "        <p>© Albert Palacios Jiménez, 2023</p>\n",
    "    </div>\n",
    "    <div style=\"flex: 1; padding: 0px; text-align: right;\">\n",
    "        <img src=\"./assets/ieti.png\" height=\"32\" alt=\"Logo de IETI\" style=\"max-height: 32px;\">\n",
    "    </div>\n",
    "</div>\n",
    "<hr/>"
   ]
  },
  {
   "cell_type": "markdown",
   "metadata": {},
   "source": [
    "# Autoaprenentatge 1\n",
    "\n",
    "Aquests exercicis estàn resolts, perquè primer practiquis i després comprovis si ho has fet bé.\n",
    "\n",
    "Recorda que no hi ha una única solució correcta, hi ha diferents maneres de resoldre un mateix problema.\n",
    "\n",
    "Però no facis trampes, recorda també que cada mentida fa un sopar més agre."
   ]
  },
  {
   "cell_type": "markdown",
   "metadata": {},
   "source": [
    "## Exercici 0\n",
    "\n",
    "Fes un generador de nombres imparells entre 2 i un numero donat."
   ]
  },
  {
   "cell_type": "code",
   "execution_count": null,
   "metadata": {},
   "outputs": [],
   "source": [
    "limit = int(input(\"Escriu un número: \"))\n",
    "imparells = \"\"\n",
    "for cnt in range(0, limit):\n",
    "    unio = \", \"\n",
    "    if (cnt <= 1):\n",
    "        unio = \"\"\n",
    "    if ((cnt % 2) == 1):\n",
    "        imparells = imparells + unio + str(cnt)\n",
    "\n",
    "print(f\"Imparells fins a {limit}: {imparells}\")"
   ]
  },
  {
   "cell_type": "markdown",
   "metadata": {},
   "source": [
    "## Exercici 1\n",
    "\n",
    "Fes un programa que simuli una partida entre en Pau i la Paz\n",
    "\n",
    "Tiren una moneda a l'aire i guanya el primer que treu tres cops cara\n",
    "\n",
    "A cada tirada es mostra, segons correspon:\n",
    "```text\n",
    "En Pau ha tret cara (2), la Paz ha tret cara (1)\n",
    "```"
   ]
  },
  {
   "cell_type": "code",
   "execution_count": null,
   "metadata": {},
   "outputs": [],
   "source": [
    "import random\n",
    "def tira_moneda():\n",
    "    resultat = random.randint(1, 2)\n",
    "    if resultat == 1:\n",
    "        return \"cara\"\n",
    "    else:\n",
    "        return \"creu\"\n",
    "    \n",
    "guanyaPau = 0\n",
    "guanyaPaz = 0\n",
    "while (guanyaPau < 3 and guanyaPaz < 3):\n",
    "    modedaPau = tira_moneda()\n",
    "    modedaPaz = tira_moneda()\n",
    "    if modedaPau == \"cara\":\n",
    "        guanyaPau += 1\n",
    "    if modedaPaz == \"cara\":\n",
    "        guanyaPaz += 1\n",
    "    print(f\"En Pau ha tret {modedaPau} ({guanyaPau}), la Paz ha tret {modedaPaz} ({guanyaPaz})\")\n",
    "\n",
    "if guanyaPau >= 3:\n",
    "    print(\"Ha guanyat en Pau\")\n",
    "else:\n",
    "    print(\"Ha guanyat la Paz\")"
   ]
  },
  {
   "cell_type": "markdown",
   "metadata": {},
   "source": [
    "## Exercici 2\n",
    "\n",
    "Fes un programa que dibuixi un rectangle a partir d'asteriscos.\n",
    "\n",
    "El programa té com a entrada un ample i un alt.\n",
    "\n",
    "La part interior del rectangle ha d'estar buida."
   ]
  },
  {
   "cell_type": "code",
   "execution_count": null,
   "metadata": {},
   "outputs": [],
   "source": [
    "def dibuixar_rectangle(ample, alt):\n",
    "    for i in range(alt):\n",
    "        if i == 0 or i == alt - 1:\n",
    "            print('*' * ample)\n",
    "        else:\n",
    "            print('*' + ' ' * (ample - 2) + '*')\n",
    "\n",
    "ample = 10\n",
    "alt = 5\n",
    "dibuixar_rectangle(ample, alt)"
   ]
  },
  {
   "cell_type": "markdown",
   "metadata": {},
   "source": [
    "## Exercici 3\n",
    "\n",
    "Fes un programa que calcula "
   ]
  }
 ],
 "metadata": {
  "kernelspec": {
   "display_name": "Python 3",
   "language": "python",
   "name": "python3"
  },
  "language_info": {
   "codemirror_mode": {
    "name": "ipython",
    "version": 3
   },
   "file_extension": ".py",
   "mimetype": "text/x-python",
   "name": "python",
   "nbconvert_exporter": "python",
   "pygments_lexer": "ipython3",
   "version": "3.11.5"
  },
  "orig_nbformat": 4
 },
 "nbformat": 4,
 "nbformat_minor": 2
}
