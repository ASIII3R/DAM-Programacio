{
 "cells": [
  {
   "cell_type": "markdown",
   "metadata": {},
   "source": [
    "## Imports\n",
    "\n",
    "Python permet importar codi definit a altres arxius .py, per fer-ho hem de fer servir 'import'\n",
    "\n",
    "import \"imports_extra.py\"\n",
    "\n",
    "Per ser compatibles, els arxius:\n",
    "\n",
    "- No poden començar en número\n",
    "- No poden tenir majúscules ni espais"
   ]
  },
  {
   "cell_type": "code",
   "execution_count": 1,
   "metadata": {},
   "outputs": [
    {
     "name": "stdout",
     "output_type": "stream",
     "text": [
      "[1, 2, 3, 4, 5, 6, 7, 8, 9]\n"
     ]
    }
   ],
   "source": [
    "import imports_extra\n",
    "\n",
    "print(imports_extra.llista)"
   ]
  },
  {
   "cell_type": "markdown",
   "metadata": {},
   "source": [
    "### Imports amb 'as'\n",
    "\n",
    "Si no es vol fer servir el nom de l'arxiu cada vegada que es vol referenciar un element de l'arxiu, es pot fer servir 'as' per simplificar"
   ]
  },
  {
   "cell_type": "code",
   "execution_count": null,
   "metadata": {},
   "outputs": [],
   "source": [
    "import imports_extra as ie\n",
    "\n",
    "print(ie.sumaTres(1,2,3))"
   ]
  },
  {
   "cell_type": "markdown",
   "metadata": {},
   "source": [
    "### Importar parts d'un arxiu\n",
    "\n",
    "from \"modul\" import \"element\" as \"identificador\""
   ]
  },
  {
   "cell_type": "code",
   "execution_count": 2,
   "metadata": {},
   "outputs": [
    {
     "name": "stdout",
     "output_type": "stream",
     "text": [
      "4\n"
     ]
    }
   ],
   "source": [
    "from imports_extra import comptaLletres\n",
    "\n",
    "print(comptaLletres(\"hola\"))\n"
   ]
  },
  {
   "cell_type": "markdown",
   "metadata": {},
   "source": [
    "### Reloading de mòduls ja carregats\n",
    "\n",
    "La llibreria 'importlib' permet carregar mòduls que ja s'han carregat \n",
    "\n",
    "import importlib\n",
    "importlib.reload(imports_extra)"
   ]
  },
  {
   "cell_type": "code",
   "execution_count": 4,
   "metadata": {},
   "outputs": [
    {
     "data": {
      "text/plain": [
       "<module 'imports_extra' from '/Users/albertpalaciosjimenez/Documents/GitHub/DAM-MP03-Programacio/Teoria/imports_extra.py'>"
      ]
     },
     "execution_count": 4,
     "metadata": {},
     "output_type": "execute_result"
    }
   ],
   "source": [
    "import importlib\n",
    "importlib.reload(imports_extra)"
   ]
  },
  {
   "cell_type": "markdown",
   "metadata": {},
   "source": [
    "### Prevenir errors durant la càrrega amb 'try', 'except'\n",
    "\n",
    "```python\n",
    "try:\n",
    "    import some_module\n",
    "except ImportError as e:\n",
    "    print(f\"Error en importar el mòdul: {e}\")\n",
    "```\n",
    "Si hi ha un error, la llibreria no estarà disponible però el nostre programa no fallarà durant la càrrega"
   ]
  },
  {
   "cell_type": "code",
   "execution_count": 5,
   "metadata": {},
   "outputs": [
    {
     "name": "stdout",
     "output_type": "stream",
     "text": [
      "Error en importar el mòdul: No module named 'some_module_name'\n"
     ]
    }
   ],
   "source": [
    "try:\n",
    "    import some_module_name\n",
    "except ImportError as e:\n",
    "    print(f\"Error en importar el mòdul: {e}\")"
   ]
  }
 ],
 "metadata": {
  "kernelspec": {
   "display_name": "Python 3",
   "language": "python",
   "name": "python3"
  },
  "language_info": {
   "codemirror_mode": {
    "name": "ipython",
    "version": 3
   },
   "file_extension": ".py",
   "mimetype": "text/x-python",
   "name": "python",
   "nbconvert_exporter": "python",
   "pygments_lexer": "ipython3",
   "version": "3.11.5"
  }
 },
 "nbformat": 4,
 "nbformat_minor": 2
}
