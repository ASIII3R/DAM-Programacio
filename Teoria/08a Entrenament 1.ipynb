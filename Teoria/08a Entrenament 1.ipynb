{
 "cells": [
  {
   "cell_type": "markdown",
   "metadata": {},
   "source": [
    "<div style=\"display: flex; width: 100%;\">\n",
    "    <div style=\"flex: 1; padding: 0px;\">\n",
    "        <p>© Albert Palacios Jiménez, 2023</p>\n",
    "    </div>\n",
    "    <div style=\"flex: 1; padding: 0px; text-align: right;\">\n",
    "        <img src=\"./assets/ieti.png\" height=\"32\" alt=\"Logo de IETI\" style=\"max-height: 32px;\">\n",
    "    </div>\n",
    "</div>\n",
    "<hr/>"
   ]
  },
  {
   "cell_type": "markdown",
   "metadata": {},
   "source": [
    "# Entrenament 1\n",
    "\n",
    "Anem a fer alguns exercicis, per anar agafant pràctica."
   ]
  },
  {
   "cell_type": "markdown",
   "metadata": {},
   "source": [
    "## Exercici 0\n",
    "\n",
    "Fes un programa que a partir de dos bucles anidats (un bucle dins d'un altre), mostri la següent taula:\n",
    "\n",
    "```\n",
    "x,y\n",
    "0,0 1,0 2,0 3,0 4,0 5,0\n",
    "0,1 1,1 2,1 3,1 4,1 5,1\n",
    "0,2 1,2 2,2 3,2 4,2 5,2\n",
    "0,3 1,3 2,3 3,3 4,3 5,3\n",
    "0,4 1,4 2,4 3,4 4,4 5,4\n",
    "0,5 1,5 2,5 3,5 4,5 5,5\n",
    "\n",
    "```"
   ]
  },
  {
   "cell_type": "code",
   "execution_count": null,
   "metadata": {},
   "outputs": [],
   "source": [
    "# Fes aquí el codi de l'exericici 0"
   ]
  },
  {
   "cell_type": "markdown",
   "metadata": {},
   "source": [
    "## Exercici 1\n",
    "\n",
    "Fes un programa que demani a l'usuari el seu nom, i fent ús d'un bucle 'for' escrigui cada lletra en una línia diferent perquè quedi en format vertical.\n",
    "\n",
    "Exemple:\n",
    "\n",
    "```\n",
    "Escriu el teu nom: Tom\n",
    "T\n",
    "o\n",
    "m\n",
    "```\n",
    "\n",
    "**Nota**: Per obtenir un caràcter d'una cadena de text, pots fer servir [X], on X és la posició que vols obtenir."
   ]
  },
  {
   "cell_type": "code",
   "execution_count": null,
   "metadata": {},
   "outputs": [],
   "source": [
    "# Exemple d'obtenir un caràcter d'un string\n",
    "nom=\"Albert\"\n",
    "print(nom[0]) # Escriu A\n",
    "print(nom[2]) # Escriu b\n",
    "print(nom[4]) # Escriu r"
   ]
  },
  {
   "cell_type": "code",
   "execution_count": null,
   "metadata": {},
   "outputs": [],
   "source": [
    "# Fes aquí el codi de l'exercici 1"
   ]
  },
  {
   "cell_type": "markdown",
   "metadata": {},
   "source": [
    "## Exercici 2\n",
    "\n",
    "Fes un programa que demani a l'usuari que introdueixi una paraula.\n",
    "\n",
    "Segueixi demanant paraules fins que l'usuari introdueixi \"fi\". \n",
    "\n",
    "Finalment, es mostra una cadena de text amb totes les paraules introduides separades per espai"
   ]
  },
  {
   "cell_type": "code",
   "execution_count": null,
   "metadata": {},
   "outputs": [],
   "source": [
    "# Fes aquí el codi de l'exercici 2"
   ]
  }
 ],
 "metadata": {
  "kernelspec": {
   "display_name": "Python 3",
   "language": "python",
   "name": "python3"
  },
  "language_info": {
   "codemirror_mode": {
    "name": "ipython",
    "version": 3
   },
   "file_extension": ".py",
   "mimetype": "text/x-python",
   "name": "python",
   "nbconvert_exporter": "python",
   "pygments_lexer": "ipython3",
   "version": "3.11.5"
  },
  "orig_nbformat": 4
 },
 "nbformat": 4,
 "nbformat_minor": 2
}
