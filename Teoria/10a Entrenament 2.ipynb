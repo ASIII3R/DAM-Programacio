{
 "cells": [
  {
   "cell_type": "markdown",
   "metadata": {},
   "source": [
    "<div style=\"display: flex; width: 100%;\">\n",
    "    <div style=\"flex: 1; padding: 0px;\">\n",
    "        <p>© Albert Palacios Jiménez, 2023</p>\n",
    "    </div>\n",
    "    <div style=\"flex: 1; padding: 0px; text-align: right;\">\n",
    "        <img src=\"./assets/ieti.png\" height=\"32\" alt=\"Logo de IETI\" style=\"max-height: 32px;\">\n",
    "    </div>\n",
    "</div>\n",
    "<hr/>"
   ]
  },
  {
   "cell_type": "markdown",
   "metadata": {},
   "source": [
    "# Entrenament 2\n",
    "\n",
    "Anem a fer alguns exercicis, per anar agafant pràctica."
   ]
  },
  {
   "cell_type": "markdown",
   "metadata": {},
   "source": [
    "## Exercici 0\n",
    "\n",
    "Fes un programa que permeti introduir dades d'animals en un array d'arrays. \n",
    "\n",
    "S'han d'introduir en un input separant els camps per comes.\n",
    "\n",
    "Els camps són: Nom, Any naixament, Pes, Espècie. Per exemple:\n",
    "\n",
    "```\n",
    "Pelut, 2018, 6.5, Gos\n",
    "Pelat, 2020, 5.0, Gos\n",
    "Mia, 2022, 3.0, Gat\n",
    "Nemo, 2003, 0.1, Peix\n",
    "Mickey, 1928, 0.5, Ratolí\n",
    "Donald, 1934, 0.5, Ànec\n",
    "```\n",
    "\n",
    "Finalment, s'ha de llistar la taula de dades que divideixi les columnes equitativament. \n",
    "\n",
    "**Nota:** Fes servir la funció (escriu_taula) de l'exercici 2 de l'apartat 'Dades (llistes avançades)"
   ]
  },
  {
   "cell_type": "code",
   "execution_count": null,
   "metadata": {},
   "outputs": [],
   "source": [
    "# Fes aquí el codi de l'exercici 0"
   ]
  },
  {
   "cell_type": "markdown",
   "metadata": {},
   "source": [
    "## Exercici 1\n",
    "\n",
    "Fes una funció, que busqui els animals per espècie i retorni un array.\n",
    "\n",
    "Per exemple:\n",
    "```python\n",
    "[[Pelut, 2018, 6.5, Gos],\n",
    " [Pelat, 2020, 5.0, Gos],\n",
    " [Mia, 2022, 3.0, Gat],\n",
    " [Nemo, 2003, 0.1, Peix],\n",
    " [Mickey, 1928, 0.5, Ratolí],\n",
    " [Donald, 1934, 0.5, Ànec]]\n",
    "```\n",
    "Filtrar per 'Gos' retorna:\n",
    "```python\n",
    "[[Pelut, 2018, 6.5, Gos],\n",
    " [Pelat, 2020, 5.0, Gos]\n",
    "```"
   ]
  },
  {
   "cell_type": "code",
   "execution_count": null,
   "metadata": {},
   "outputs": [],
   "source": [
    "# Fes aquí el codi de l'exercici 1"
   ]
  }
 ],
 "metadata": {
  "kernelspec": {
   "display_name": "Python 3",
   "language": "python",
   "name": "python3"
  },
  "language_info": {
   "codemirror_mode": {
    "name": "ipython",
    "version": 3
   },
   "file_extension": ".py",
   "mimetype": "text/x-python",
   "name": "python",
   "nbconvert_exporter": "python",
   "pygments_lexer": "ipython3",
   "version": "3.11.5"
  },
  "orig_nbformat": 4
 },
 "nbformat": 4,
 "nbformat_minor": 2
}
