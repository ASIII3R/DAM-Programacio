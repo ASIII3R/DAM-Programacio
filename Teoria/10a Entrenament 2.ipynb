{
 "cells": [
  {
   "cell_type": "markdown",
   "metadata": {},
   "source": [
    "<div style=\"display: flex; width: 100%;\">\n",
    "    <div style=\"flex: 1; padding: 0px;\">\n",
    "        <p>© Albert Palacios Jiménez, 2023</p>\n",
    "    </div>\n",
    "    <div style=\"flex: 1; padding: 0px; text-align: right;\">\n",
    "        <img src=\"./assets/ieti.png\" height=\"32\" alt=\"Logo de IETI\" style=\"max-height: 32px;\">\n",
    "    </div>\n",
    "</div>\n",
    "<hr/>"
   ]
  },
  {
   "cell_type": "markdown",
   "metadata": {},
   "source": [
    "# Entrenament 2\n",
    "\n",
    "Anem a fer alguns exercicis, per anar agafant pràctica."
   ]
  },
  {
   "cell_type": "markdown",
   "metadata": {},
   "source": [
    "## Exercici 0\n",
    "\n",
    "Fes un programa que permeti introduir dades d'animals en un array d'arrays. \n",
    "\n",
    "S'han d'introduir en un input separant els camps per comes.\n",
    "\n",
    "Els camps són: Nom, Any naixament, Pes, Espècie. Per exemple:\n",
    "\n",
    "```python\n",
    "Pelut, 2018, 6.5, Gos\n",
    "Pelat, 2020, 5.0, Gos\n",
    "Mia, 2022, 3.0, Gat\n",
    "Nemo, 2003, 0.1, Peix\n",
    "Mickey, 1928, 0.5, Ratolí\n",
    "Donald, 1934, 0.5, Ànec\n",
    "```\n",
    "\n",
    "Finalment, s'ha de llistar la taula de dades que divideixi les columnes equitativament. \n",
    "\n",
    "**Nota:** Fes servir la funció (escriu_taula) de l'exercici 2 de l'apartat 'Dades (llistes avançades)"
   ]
  },
  {
   "cell_type": "code",
   "execution_count": null,
   "metadata": {},
   "outputs": [],
   "source": [
    "# Fes aquí el codi de l'exercici 0"
   ]
  },
  {
   "cell_type": "markdown",
   "metadata": {},
   "source": [
    "## Exercici 1\n",
    "\n",
    "Fes una funció (llista_animals), que busqui els animals per espècie i retorni un array.\n",
    "\n",
    "Per exemple:\n",
    "```python\n",
    "[[Pelut, 2018, 6.5, Gos],\n",
    " [Pelat, 2020, 5.0, Gos],\n",
    " [Mia, 2022, 3.0, Gat],\n",
    " [Nemo, 2003, 0.1, Peix],\n",
    " [Mickey, 1928, 0.5, Ratolí],\n",
    " [Donald, 1934, 0.5, Ànec]]\n",
    "```\n",
    "Filtrar per 'Gos' retorna:\n",
    "```python\n",
    "[[Pelut, 2018, 6.5, Gos],\n",
    " [Pelat, 2020, 5.0, Gos]\n",
    "```"
   ]
  },
  {
   "cell_type": "code",
   "execution_count": null,
   "metadata": {},
   "outputs": [],
   "source": [
    "# Fes aquí el codi de l'exercici 1 amb un bucle 'for'"
   ]
  },
  {
   "cell_type": "code",
   "execution_count": null,
   "metadata": {},
   "outputs": [],
   "source": [
    "# Fes aquí el codi de l'exercici 1 amb un 'filter'"
   ]
  },
  {
   "cell_type": "markdown",
   "metadata": {},
   "source": [
    "## Exercici 2\n",
    "\n",
    "Fes una funció (edat_animals) que calculi l'edat dels animals respecte l'any actual.\n",
    "\n",
    "Per exemple:\n",
    "```python\n",
    "[[Pelut, 5],\n",
    " [Pelat, 3],\n",
    " [Mia, 1],\n",
    " [Nemo, 20],\n",
    " [Mickey, 95],\n",
    " [Donald, 89]]\n",
    "```"
   ]
  },
  {
   "cell_type": "code",
   "execution_count": null,
   "metadata": {},
   "outputs": [],
   "source": [
    "# Fes aquí el codi de l'exercici 2 amb un bucle 'for'"
   ]
  },
  {
   "cell_type": "code",
   "execution_count": null,
   "metadata": {},
   "outputs": [],
   "source": [
    "# Fes aquí el codi de l'exercici 2 amb un 'map'"
   ]
  },
  {
   "cell_type": "markdown",
   "metadata": {},
   "source": [
    "## Exercici 3\n",
    "\n",
    "Fes un programa que generi una llista de 5 números entre [0 i 999], la mostri per pantalla i finalment esculli un número aleatori de la mencionada llista.\n",
    "\n",
    "Per exemple:\n",
    "```text\n",
    "La llista generada és: [125, 2, 782, 85, 916] el número escollit és 85\n",
    "```"
   ]
  },
  {
   "cell_type": "code",
   "execution_count": null,
   "metadata": {},
   "outputs": [],
   "source": [
    "# Fes aquí el codi de l'exercici 3"
   ]
  },
  {
   "cell_type": "markdown",
   "metadata": {},
   "source": [
    "## Exercici 4\n",
    "\n",
    "Fes un programa que esculli 5 paraules a l'atzar de la següent llista i finalment les retorni en una llista desordenada aleatòriament.\n",
    "\n",
    "```python\n",
    "['gat', 'gos', 'elefant', 'lleó', 'tigre', 'ratolí', 'serp', 'peix', 'ocell', 'cavall', 'koala', 'tiburó', 'formiga']\n",
    "```\n",
    "\n",
    "Per exemple:\n",
    "```text\n",
    "Les paraules escollides són ['gos', 'tigre', 'peix', 'ocell', 'tiburó'], desordenats: ['tigre', 'peix', 'gos', 'tiburó', 'ocell']\n",
    "```"
   ]
  },
  {
   "cell_type": "code",
   "execution_count": null,
   "metadata": {},
   "outputs": [],
   "source": [
    "# Fes aquí el codi de l'exercici 4"
   ]
  },
  {
   "cell_type": "markdown",
   "metadata": {},
   "source": [
    "## Exercici 5\n",
    "\n",
    "Fes un programa que generi un diccionari per comptar les paraules d'una frase.\n",
    "\n",
    "Quan mostris el resultat, no mostris el diccionari sinó les paraules i el seu recompte ordenats alfàbeticament.\n",
    "\n",
    "Prova-ho amb:\n",
    "```text\n",
    "frase = \"Your time is limited, so don't waste it living someone else's life. Don't be trapped by dogma — which is living with the results of other people's thinking. Don't let the noise of others' opinions drown out your own inner voice. And most important, have the courage to follow your heart and intuition ... Stay hungry, Stay foolish\"\n",
    "\n",
    "frase = \"We choose to go to the moon in this decade and do the other things, not because they are easy, but because they are hard, because that goal will serve to organize and measure the best of our energies and skills, because that challenge is one that we are willing to accept, one we are unwilling to postpone, and one which we intend to win, and the others, too.\"\n",
    "```"
   ]
  },
  {
   "cell_type": "code",
   "execution_count": null,
   "metadata": {},
   "outputs": [],
   "source": [
    "# Fes aquí el codi de l'exercici 5"
   ]
  },
  {
   "cell_type": "markdown",
   "metadata": {},
   "source": [
    "## Exercici 6\n",
    "\n",
    "Fes un programa que transformi el següent array en un diccionari.\n",
    "\n",
    "```python\n",
    "[[Pelut, 2018, 6.5, Gos],\n",
    " [Pelat, 2020, 5.0, Gos],\n",
    " [Mia, 2022, 3.0, Gat],\n",
    " [Nemo, 2003, 0.1, Peix],\n",
    " [Mickey, 1928, 0.5, Ratolí],\n",
    " [Donald, 1934, 0.5, Ànec]]\n",
    "```\n",
    "El resultat ha de ser:\n",
    "```python\n",
    "[ {'nom': 'Pelut', 'any': 2018, 'pes': 6.5, 'especie': 'Gos'},\n",
    "  {'nom': 'Pelat', 'any': 2020, 'pes': 5.0, 'especie': 'Gos'},\n",
    "  {'nom': 'Mia', 'any': 2022, 'pes': 3.0, 'especie': 'Gat'},\n",
    "  {'nom': 'Nemo', 'any': 2003, 'pes': 0.1, 'especie': 'Peix'},\n",
    "  {'nom': 'Mickey', 'any': 1928, 'pes': 0.5, 'especie': 'Ratolí'},\n",
    "  {'nom': 'Donald', 'any': 1934, 'pes': 0.5, 'especie': 'Ànec'} ]\n",
    "```"
   ]
  },
  {
   "cell_type": "code",
   "execution_count": null,
   "metadata": {},
   "outputs": [],
   "source": [
    "# Fes aquí el codi de l'exercici 6"
   ]
  },
  {
   "cell_type": "markdown",
   "metadata": {},
   "source": [
    "## Exercici 7\n",
    "\n",
    "Fes un programa que compti el número d'animals segons un filtre escollir per l'usuari.\n",
    "\n",
    "Per exemple:\n",
    "```python\n",
    "[ {'nom': 'Pelut', 'any': 2018, 'pes': 6.5, 'especie': 'Gos'},\n",
    "  {'nom': 'Pelat', 'any': 2020, 'pes': 5.0, 'especie': 'Gos'},\n",
    "  {'nom': 'Mia', 'any': 2022, 'pes': 3.0, 'especie': 'Gat'},\n",
    "  {'nom': 'Nemo', 'any': 2003, 'pes': 0.1, 'especie': 'Peix'},\n",
    "  {'nom': 'Mickey', 'any': 1928, 'pes': 0.5, 'especie': 'Ratolí'},\n",
    "  {'nom': 'Donald', 'any': 1934, 'pes': 0.5, 'especie': 'Ànec'} ]\n",
    "```\n",
    "Comptar animals segons filtre 'especie'>'Gos':\n",
    "```text\n",
    "    Filtre 'Gos' amb valor 'especie', n'hi ha: 2\n",
    "```\n",
    "Comptar animals segons filtre 'pes' > '0.5':\n",
    "```text\n",
    "    Filtre 'pes' amb valor '0.5', n'hi ha: 2\n",
    "```\n",
    "Comptar animals segons filtre 'nom' > 'Mickey':\n",
    "```text\n",
    "    Filtre 'nom' amb valor 'Mickey', n'hi ha: 1\n",
    "```"
   ]
  },
  {
   "cell_type": "code",
   "execution_count": null,
   "metadata": {},
   "outputs": [],
   "source": [
    "# Fes aquí el codi de l'exercici 7 fet amb un bucle 'for'"
   ]
  },
  {
   "cell_type": "code",
   "execution_count": null,
   "metadata": {},
   "outputs": [],
   "source": [
    "# Fes aquí el codi de l'exercici 7 fet amb un 'filter'"
   ]
  },
  {
   "cell_type": "markdown",
   "metadata": {},
   "source": [
    "## Exercici 8\n",
    "\n",
    "Fes un programa que permeti introduir en una llista parelles de coordenades x,y.\n",
    "\n",
    "La llista serà d'aquest estil:\n",
    "```python\n",
    "coordenades = [\n",
    "    { \"x0\": 24,  \"y0\": 12,  \"x1\": 350, \"y1\": 22 },\n",
    "    { \"x0\": 120, \"y0\": 34,  \"x1\": 22,  \"y1\": 44 },\n",
    "    { \"x0\": 134, \"y0\": 156, \"x1\": 44,  \"y1\": 66 },\n",
    "    { \"x0\": 56,  \"y0\": 780, \"x1\": 66,  \"y1\": 1000 } ]\n",
    "```\n",
    "Un cop introduides les coordenades, l'usuari escriu 'sortir'.\n",
    "\n",
    "Aleshores, el programa mostra les distàncies entre els punts segons:\n",
    "```python\n",
    "    distancia = sqrt((x1 - x0) ** 2 + (y1 - y0) ** 2)\n",
    "```\n",
    "Comprova la llista de diccionaris anterior amb:\n",
    "```text\n",
    "    {'x0': 24, 'y0': 12, 'x1': 350, 'y1': 22}: 326.15\n",
    "    {'x0': 120, 'y0': 34, 'x1': 22, 'y1': 44}: 98.51\n",
    "    {'x0': 134, 'y0': 156, 'x1': 44, 'y1': 66}: 127.28\n",
    "    {'x0': 56, 'y0': 780, 'x1': 66, 'y1': 1000}: 220.23\n",
    "```\n",
    "\n",
    "**Nota**: Per fer servir la funció `sqrt` et farà falta fer `import math` al principi del programa.\n"
   ]
  },
  {
   "cell_type": "code",
   "execution_count": null,
   "metadata": {},
   "outputs": [],
   "source": [
    "# Fes aquí el codi de l'exercici 8"
   ]
  }
 ],
 "metadata": {
  "kernelspec": {
   "display_name": "Python 3",
   "language": "python",
   "name": "python3"
  },
  "language_info": {
   "codemirror_mode": {
    "name": "ipython",
    "version": 3
   },
   "file_extension": ".py",
   "mimetype": "text/x-python",
   "name": "python",
   "nbconvert_exporter": "python",
   "pygments_lexer": "ipython3",
   "version": "3.11.5"
  },
  "orig_nbformat": 4
 },
 "nbformat": 4,
 "nbformat_minor": 2
}
