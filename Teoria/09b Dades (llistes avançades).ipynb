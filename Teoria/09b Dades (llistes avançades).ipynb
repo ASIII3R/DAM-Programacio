{
 "cells": [
  {
   "cell_type": "markdown",
   "metadata": {},
   "source": [
    "<div style=\"display: flex; width: 100%;\">\n",
    "    <div style=\"flex: 1; padding: 0px;\">\n",
    "        <p>© Albert Palacios Jiménez, 2023</p>\n",
    "    </div>\n",
    "    <div style=\"flex: 1; padding: 0px; text-align: right;\">\n",
    "        <img src=\"./assets/ieti.png\" height=\"32\" alt=\"Logo de IETI\" style=\"max-height: 32px;\">\n",
    "    </div>\n",
    "</div>\n",
    "<hr/>"
   ]
  },
  {
   "cell_type": "markdown",
   "metadata": {},
   "source": [
    "# Dades, llistes avançades\n",
    "\n",
    "En Python les cadenes de text es poden tractar com una llista de caràcters. \n",
    "\n",
    "A més, altres funcionalitats com 'random' o les pròpes funcions hereten capacitats de les llistes.\n"
   ]
  },
  {
   "cell_type": "markdown",
   "metadata": {},
   "source": [
    "## Random i llistes\n",
    "\n",
    "Python facilita el treball amb llistes i números aleatòris.\n",
    "\n",
    "* **choice(llista)**: Retorna un element aleatori d'una llista no buida\n",
    "\n",
    "* **shuffle(llista)**: Desordena una llista i mescla els seus elements aleatòriament\n",
    "\n",
    "* **sample(llista)**: Retorna una qüantitat aleatòria d'elements d'una llista"
   ]
  },
  {
   "cell_type": "code",
   "execution_count": null,
   "metadata": {},
   "outputs": [],
   "source": [
    "# Exemple d'escollir un element aleatori d'una llista\n",
    "\n",
    "import random\n",
    "\n",
    "llista = [\"Barcelona\", \"Madrid\", \"Sevilla\", \"Zaragoza\", \"Murcia\", \"Palma\", \"Bilbao\"]\n",
    "element = random.choice(llista)\n",
    "print(f\"Element aleatori de la llista: {element}\")"
   ]
  },
  {
   "cell_type": "code",
   "execution_count": null,
   "metadata": {},
   "outputs": [],
   "source": [
    "# Exemple de com desordenar una llista\n",
    "\n",
    "import random\n",
    "\n",
    "llista = [1, 2, 3, 4, 5, 6, 7, 8, 9]\n",
    "print(f\"Llista ordenada: {llista}\")\n",
    "\n",
    "random.shuffle(llista)\n",
    "print(f\"Llista desordenada: {llista}\")"
   ]
  },
  {
   "cell_type": "code",
   "execution_count": null,
   "metadata": {},
   "outputs": [],
   "source": [
    "# Exemple de com escollir una mostra aleatòria d'una llista\n",
    "\n",
    "import random\n",
    "\n",
    "llista = [1, 2, 3, 4, 5, 6, 7, 8, 9]\n",
    "print(f\"Llista ordenada: {llista}\")\n",
    "\n",
    "mostra = random.sample(llista, 3)\n",
    "print(f\"Mostra aleatòria de 3 elements: {mostra}\")\n",
    "\n",
    "mostra = random.sample(llista, 5)\n",
    "print(f\"Mostra aleatòria de 5 elements: {mostra}\")"
   ]
  },
  {
   "cell_type": "markdown",
   "metadata": {},
   "source": [
    "## Expressions regulars\n",
    "\n",
    "La llibreria 're' ens permet operar amb expressions regulars, per carregar-la es fa:\n",
    "\n",
    "import re\n",
    "\n",
    "De moment només la farem servir per treure les majúscules o mínuscules d'un text, amb les següents operacions:\n",
    "\n",
    "* text_sense_majuscules = re.sub(r'[A-ZÁÉÍÓÚÀÈÌÒÙÏÜ]', '', text)\n",
    "\n",
    "* text_sense_minuscules = re.sub(r'[a-záéíóúàèìòùïü]', '', text)"
   ]
  },
  {
   "cell_type": "markdown",
   "metadata": {},
   "source": [
    "## Exercici 1\n",
    "\n",
    "Fes dues funcions 'calculaMajuscules' i 'calculaMinuscules' que retornin el número de majúscules i minúscules d'un text respectivament.\n",
    "\n",
    "El càlcul es fa així:\n",
    "```python\n",
    "        numero_majuscules = longitud_del_text - longitud_del_text_sense_majuscules\n",
    "        numero_minuscules = longitud_del_text - longitud_del_text_sense_minuscules\n",
    "```"
   ]
  },
  {
   "cell_type": "code",
   "execution_count": null,
   "metadata": {},
   "outputs": [],
   "source": [
    "# Fes aquí el codi de l'exerici 1\n",
    "import re\n",
    "\n",
    "# Defineix aquí la funció \"calculaMajuscules\"\n",
    "def calculaMajuscules(text):\n",
    "    return -1\n",
    "\n",
    "# Defineix aquí la funció \"calculaMinuscules\"\n",
    "def calculaMinuscules(text):\n",
    "    return -1\n",
    "\n",
    "text = \"Aquest És Un Exemple Amb Majúscules.\"\n",
    "\n",
    "numero_majuscules = calculaMajuscules(text)\n",
    "print(f'El text \"{text}\" té {numero_majuscules} majúscules')\n",
    "\n",
    "numero_minuscules = calculaMinuscules(text)\n",
    "print(f'El text \"{text}\" té {numero_minuscules} minúscules')"
   ]
  },
  {
   "cell_type": "markdown",
   "metadata": {},
   "source": [
    "## Escriptura avançada (aka posicionament avançat)\n",
    "\n",
    "El següent exemple mostra com fer columnes a partir de la mida de cada columna en sí:\n",
    "\n",
    "* **amplada_columna1**: calcula la mida d'ample necessari per encabir els elements de la primera columna\n",
    "\n",
    "* **format**: defineix com es formata cada columna\n",
    "\n",
    "    1. *{:>amplada1}\\}*: significa alinear a la dreta \\(>) segons l'ample especificat a 'amplada1'\n",
    "\n",
    "    2. *{amplada1}*: garanteix que les opcions es mostren alineades i tenen l'ample adequate\n",
    "\n",
    "    3. *-*: el caràcter que separa la primera de la segona columna\n",
    "\n",
    "    4. *{}*: el marcador de posició on s'insereix la descripció de la opció\n",
    "\n",
    "* 'map' aplica el format a cada element del menú\n",
    "\n",
    "* Finalment, join() combina tots els elements formatats en un únic text\n",
    "\n",
    "Per les altres columnes (2 i 3), l'alineació és a l'esquerra (<) i centrada (^)"
   ]
  },
  {
   "cell_type": "code",
   "execution_count": null,
   "metadata": {},
   "outputs": [],
   "source": [
    "# Exemple de menú avançat\n",
    "\n",
    "menu = [\n",
    "    (\"1. Veure perfil\", \"Veure informació del perfil\", \"Gratis\"),\n",
    "    (\"2. Canviar contrasenya\", \"Canviar la contrasenya de l'usuari\", \"Premium\"),\n",
    "    (\"3. Sortir\", \"Sortir de l'aplicació\", \"Premium plus\")\n",
    "]\n",
    "\n",
    "# Definir l'amplada de les columnes a partir de la longitud dels textos més llargs\n",
    "amplada_columna1 = max(len(opcio[0]) for opcio in menu)\n",
    "amplada_columna2 = max(len(opcio[1]) for opcio in menu)\n",
    "amplada_columna3 = max(len(opcio[2]) for opcio in menu)\n",
    "\n",
    "# Imprimir el menú complet\n",
    "print(\"Menú Principal\")\n",
    "format = \"{:<{amplada1}} | {:^{amplada2}} | {:>{amplada3}}\"\n",
    "for opcio in menu:\n",
    "    print(format.format(opcio[0], opcio[1], opcio[2], amplada1=amplada_columna1, amplada2=amplada_columna2, amplada3=amplada_columna3))"
   ]
  },
  {
   "cell_type": "markdown",
   "metadata": {},
   "source": [
    "## Exercici 2\n",
    "\n",
    "Fes una funció (escriu_taula) que rebi els següents paràmetres:\n",
    "\n",
    "* **dades** una taula de dades homogènies (tots els elements tenen igual longitud)\n",
    "* **columnes** amb tants elements com columnes tingui la taula de dades\n",
    "* **alineacions** amb la mateixa longitud que les columnes, format pels caràcters \"<, ^, >\"\n",
    "* **amplades** amb la mateixa longitud que les columnes indicant l'amplada en caràcters de cada una\n",
    "\n",
    "L'array ha de tornar una taula formatada correctament, el separador vertical és | i l'horitzontal -\n",
    "\n",
    "* Si la cadena de text és més ample que la columna, l'ha de retallar\n",
    "* Si alguna de les llistes no té la mateixa longitud que la resta, ha de retornar un missatge d'error.\n",
    "\n",
    "Per exemple:\n",
    "```python\n",
    "ciutats = [\n",
    "    [0, \"Barcelona\", 1620343, 12, True],\n",
    "    [1, \"Madrid\", 3207247, 667, False],\n",
    "    [2, \"València\", 791413, 15, True],\n",
    "    [3, \"Màlaga\", 569130, 11, True],\n",
    "    [4, \"Sevilla\", 688711, 7, False],\n",
    "    [5, \"Alicante\", 330525, 12, True],\n",
    "    [6, \"Zaragoza\", 664938, 220, False],\n",
    "    [7, \"Gijón\", 275735, 3, True],\n",
    "    [8, \"Palma de Mallorca\", 22610, 14, True],\n",
    "    [9, \"Bilbao\", 345821, 30, False]\n",
    "]\n",
    "columnes = [\"id\", \"ciutat\", \"poblacio\", \"altitud\", \"costera\"]\n",
    "alineacions = ['<', '<', '^', '^', '>']\n",
    "amplades = [3, 10, 10, 8, 6]\n",
    "```\n",
    "```text\n",
    "------------------------------------------------\n",
    "|id  |ciutat     | poblacio  |altitud  |costera|\n",
    "------------------------------------------------\n",
    "|0   |Barcelona  | 1620343   |   12    |  True |\n",
    "|1   |Madrid     | 3207247   |  667    | False |\n",
    "|2   |València   |  791413   |   15    |  True |\n",
    "|3   |Màlaga     |  569130   |   11    |  True |\n",
    "|4   |Sevilla    |  688711   |   7     | False |\n",
    "|5   |Alicante   |  330525   |   12    |  True |\n",
    "|6   |Zaragoza   |  664938   |  220    | False |\n",
    "|7   |Gijón      |  275735   |   3     |  True |\n",
    "|8   |Palma de M |   22610   |   14    |  True |\n",
    "|9   |Bilbao     |  345821   |   30    | False |\n",
    "------------------------------------------------\n",
    "```"
   ]
  },
  {
   "cell_type": "code",
   "execution_count": null,
   "metadata": {},
   "outputs": [],
   "source": [
    "# Resol aquí l'exercici 2"
   ]
  }
 ],
 "metadata": {
  "kernelspec": {
   "display_name": "Python 3",
   "language": "python",
   "name": "python3"
  },
  "language_info": {
   "codemirror_mode": {
    "name": "ipython",
    "version": 3
   },
   "file_extension": ".py",
   "mimetype": "text/x-python",
   "name": "python",
   "nbconvert_exporter": "python",
   "pygments_lexer": "ipython3",
   "version": "3.11.5"
  },
  "orig_nbformat": 4
 },
 "nbformat": 4,
 "nbformat_minor": 2
}
