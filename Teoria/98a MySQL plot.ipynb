{
 "cells": [
  {
   "cell_type": "markdown",
   "metadata": {},
   "source": [
    "# Instal·lar dependències\n",
    "\n",
    "Les següents línies de codi instal·len les dependències necessàries per executar el codi d'aquest notebook.\n",
    "\n",
    "Un cop instal·lades, cal reiniciar el kernel perquè els canvis tinguin efecte.\n",
    "\n",
    "També es pot executar el codi en un terminal ambda la comanda `pip install X`."
   ]
  },
  {
   "cell_type": "code",
   "execution_count": null,
   "metadata": {},
   "outputs": [],
   "source": [
    "# Instal·la dependències (o bé, fer: pip install ... des de la linia de comandes)\n",
    "# Si les dependències ja estan instal·lades, aquesta cel·la es pot ignorar\n",
    "%pip install mysql-connector-python\n",
    "%pip install matplotlib\n",
    "%pip install pandas"
   ]
  },
  {
   "cell_type": "code",
   "execution_count": null,
   "metadata": {},
   "outputs": [],
   "source": [
    "# Imports (i funció de consultes)\n",
    "import matplotlib.pyplot as plt\n",
    "import pandas as pd\n",
    "import mysql.connector\n",
    "\n",
    "def db_query(qry):\n",
    "    cnx = mysql.connector.connect(user='root', password='pwd', host='127.0.0.1', database='world')\n",
    "    cur = cnx.cursor()\n",
    "    cur.execute(\"SELECT * FROM city\")\n",
    "    rst = cur.fetchall()\n",
    "    cnx.close()\n",
    "    return rst"
   ]
  },
  {
   "cell_type": "code",
   "execution_count": null,
   "metadata": {},
   "outputs": [],
   "source": [
    "# Convertir dades a un DataFrame Pandas\n",
    "rst = db_query(\"SELECT * FROM city\")\n",
    "df = pd.DataFrame(rst, columns=['ID', 'City', 'Country Code', 'District', 'Population'])\n",
    "\n",
    "# Histograma\n",
    "plt.figure(figsize=(5, 3))\n",
    "plt.hist(df['Population'], bins=15, color='blue', edgecolor='black')\n",
    "plt.title('Distribució de la població entre ciutats')\n",
    "plt.xlabel('Població')\n",
    "plt.ylabel('Número de ciutats')\n",
    "plt.show()\n"
   ]
  },
  {
   "cell_type": "code",
   "execution_count": null,
   "metadata": {},
   "outputs": [],
   "source": [
    "# Convertir dades a un DataFrame de Pandas\n",
    "rst = db_query(\"SELECT * FROM city\")\n",
    "df = pd.DataFrame(rst, columns=['ID', 'City', 'Country Code', 'District', 'Population'])\n",
    "\n",
    "# Filtrar les ciutats més grans\n",
    "top_cities = df.nlargest(20, 'Population')\n",
    "\n",
    "# Ciutats vs població\n",
    "plt.figure(figsize=(8, 5))\n",
    "plt.bar(top_cities['City'], top_cities['Population'], color='green')\n",
    "plt.title('Població per ciutat')\n",
    "plt.xlabel('Ciutat')\n",
    "plt.ylabel('Població')\n",
    "plt.xticks(rotation=45)  # Rotar els noms de les ciutats\n",
    "plt.tight_layout()\n",
    "plt.show()"
   ]
  },
  {
   "cell_type": "code",
   "execution_count": null,
   "metadata": {},
   "outputs": [],
   "source": [
    "# Convertir dades a un DataFrame de Pandas\n",
    "rst = db_query(\"SELECT * FROM city\")\n",
    "df = pd.DataFrame(rst, columns=['ID', 'City', 'Country Code', 'District', 'Population'])\n",
    "\n",
    "# Filtrar les 5 ciutats més grans\n",
    "top_cities = df.nlargest(5, 'Population')\n",
    "\n",
    "# Pie chart\n",
    "plt.figure(figsize=(5, 3))\n",
    "plt.pie(top_cities['Population'], labels=top_cities['City'], autopct='%1.1f%%', startangle=140, colors=['blue', 'red', 'green', 'yellow', 'purple'])\n",
    "plt.title('Top 5 ciutats per població')\n",
    "plt.show()"
   ]
  }
 ],
 "metadata": {
  "kernelspec": {
   "display_name": "Python 3",
   "language": "python",
   "name": "python3"
  },
  "language_info": {
   "codemirror_mode": {
    "name": "ipython",
    "version": 3
   },
   "file_extension": ".py",
   "mimetype": "text/x-python",
   "name": "python",
   "nbconvert_exporter": "python",
   "pygments_lexer": "ipython3",
   "version": "3.11.5"
  },
  "orig_nbformat": 4
 },
 "nbformat": 4,
 "nbformat_minor": 2
}
