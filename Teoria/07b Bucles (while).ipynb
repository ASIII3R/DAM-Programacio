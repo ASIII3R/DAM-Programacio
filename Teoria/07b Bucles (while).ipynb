{
 "cells": [
  {
   "cell_type": "markdown",
   "metadata": {},
   "source": [
    "<div style=\"display: flex; width: 100%;\">\n",
    "    <div style=\"flex: 1; padding: 0px;\">\n",
    "        <p>© Albert Palacios Jiménez, 2023</p>\n",
    "    </div>\n",
    "    <div style=\"flex: 1; padding: 0px; text-align: right;\">\n",
    "        <img src=\"./assets/ieti.png\" height=\"32\" alt=\"Logo de IETI\" style=\"max-height: 32px;\">\n",
    "    </div>\n",
    "</div>\n",
    "<hr/>"
   ]
  },
  {
   "cell_type": "markdown",
   "metadata": {},
   "source": [
    "# Bucles 'while'\n",
    "\n",
    "<center><img src=\"./assets/06b_00.png\" height=\"200\" style=\"max-height: 200px;\" /></center>\n",
    "\n",
    "Un bucle 'while' és una estructura que permet repetir un bloc de codi mentre una condició sigui certa.\n",
    "\n",
    "Sintaxi:\n",
    "\n",
    "```\n",
    "    while condició:\n",
    "        # Bloc de codi que es repetirà mentre la condició sigui certa\n",
    "```"
   ]
  },
  {
   "cell_type": "code",
   "execution_count": null,
   "metadata": {},
   "outputs": [],
   "source": [
    "# Exemple de bucle while\n",
    "contador = 2\n",
    "while (contador <= 5):\n",
    "    print(contador)\n",
    "    contador = contador + 1"
   ]
  },
  {
   "cell_type": "code",
   "execution_count": null,
   "metadata": {},
   "outputs": [],
   "source": [
    "# Exemple, escriure números parells amb while\n",
    "numero = 2\n",
    "while (numero <= 10):\n",
    "    print(numero)\n",
    "    numero += 2"
   ]
  },
  {
   "cell_type": "code",
   "execution_count": null,
   "metadata": {},
   "outputs": [],
   "source": [
    "# Exemple, demanar contrasenya fins que l'usuari escrigui el text 'secreta'\n",
    "\n",
    "contrasenya_correcta = \"secreta\"\n",
    "introduida = input(\"Introdueix la contrasenya: \")\n",
    "\n",
    "while (introduida != contrasenya_correcta):\n",
    "    print(f\"Contrasenya '{introduida}' incorrecta. Torna-ho a provar.\")\n",
    "    introduida = input(\"Introdueix la contrasenya: \")\n",
    "\n",
    "print(\"Contrasenya correcta. Accés concedit.\")"
   ]
  },
  {
   "cell_type": "markdown",
   "metadata": {},
   "source": [
    "## Exercici 0\n",
    "\n",
    "Fes un programa que generi un número aleatori entre 0 i 9 (inclòssos)\n",
    "\n",
    "Després demana a l'usuari que introdueixi un número i comprova:\n",
    "\n",
    "- Si l'ha encertat escriu: \"Felicitats, has encertat amb X intents\"\n",
    "\n",
    "- Si no l'ha encertat i el número de l'usuari és més gran que el número secret escriu: \"El número secret és més petit\"\n",
    "\n",
    "- Si no l'ha encertat i el número de l'usuari és més petit que el número secret escriu: \"El número secret és més gran\"\n",
    "\n",
    "Aquest procés es repeteix fins que l'usuari encerta el número."
   ]
  },
  {
   "cell_type": "code",
   "execution_count": null,
   "metadata": {},
   "outputs": [],
   "source": [
    "# Fes aquí el codi de l'exercici 0"
   ]
  },
  {
   "cell_type": "markdown",
   "metadata": {},
   "source": [
    "## La instrucció 'break'\n",
    "\n",
    "En un bucle 'while' (igual que en un 'for') la instrucció 'break' permet sortir del bucle abans d'hora.\n",
    "\n",
    "En el moment que s'executa 'break' el bucle s'atura i el programa continua amb la instrucció següent."
   ]
  },
  {
   "cell_type": "code",
   "execution_count": null,
   "metadata": {},
   "outputs": [],
   "source": [
    "x = 1\n",
    "\n",
    "while (x <= 10):\n",
    "    if x == 5:\n",
    "        print(\"Hem arribat al 5, aturant el bucle.\")\n",
    "        break\n",
    "    print(\"Comptador:\", x)\n",
    "    x += 1\n",
    "print(\"Final del bucle while.\")\n"
   ]
  }
 ],
 "metadata": {
  "kernelspec": {
   "display_name": "Python 3",
   "language": "python",
   "name": "python3"
  },
  "language_info": {
   "codemirror_mode": {
    "name": "ipython",
    "version": 3
   },
   "file_extension": ".py",
   "mimetype": "text/x-python",
   "name": "python",
   "nbconvert_exporter": "python",
   "pygments_lexer": "ipython3",
   "version": "3.11.5"
  },
  "orig_nbformat": 4
 },
 "nbformat": 4,
 "nbformat_minor": 2
}
