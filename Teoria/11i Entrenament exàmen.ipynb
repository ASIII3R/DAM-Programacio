{
 "cells": [
  {
   "cell_type": "markdown",
   "metadata": {},
   "source": [
    "<div style=\"display: flex; width: 100%;\">\n",
    "    <div style=\"flex: 1; padding: 0px;\">\n",
    "        <p>© Albert Palacios Jiménez, 2023</p>\n",
    "    </div>\n",
    "    <div style=\"flex: 1; padding: 0px; text-align: right;\">\n",
    "        <img src=\"./assets/ieti.png\" height=\"32\" alt=\"Logo de IETI\" style=\"max-height: 32px;\">\n",
    "    </div>\n",
    "</div>\n",
    "<hr/>"
   ]
  },
  {
   "cell_type": "markdown",
   "metadata": {},
   "source": [
    "## Entrenament de l'exàmen\n",
    "\n",
    "Practica de cara a l'exàmen amb els següents exercicis."
   ]
  },
  {
   "cell_type": "markdown",
   "metadata": {},
   "source": [
    "### Exercici 0\n",
    "\n",
    "Fes una funció 'generaDNI' que generi un DNI vàlid de manera aleatòria"
   ]
  },
  {
   "cell_type": "code",
   "execution_count": null,
   "metadata": {},
   "outputs": [],
   "source": [
    "# Fes aquí el codi de l'exercici 0"
   ]
  },
  {
   "cell_type": "markdown",
   "metadata": {},
   "source": [
    "### Exercici 1\n",
    "\n",
    "Fes una funció 'generaId' que generi un ID aleatòri tenint en compte:\n",
    "\n",
    "- Comença amb un número entre [0, 9] inclòssos\n",
    "- Segueix amb una lletra entre [A, Z] inclòssos (la ñ no)\n",
    "- Sequeix amb 2 números entre [0, 9] inclòssos\n",
    "- Segueix amb una lletra entre [A, Z] inclòssos (la ñ no)\n",
    "\n",
    "Per exemple: 3H23J\n",
    "\n",
    "Ha d'escriure: S'ha generat l'Id: 3H23J"
   ]
  },
  {
   "cell_type": "code",
   "execution_count": null,
   "metadata": {},
   "outputs": [],
   "source": [
    "# Fes aquí el codi de l'exercici 1"
   ]
  },
  {
   "cell_type": "markdown",
   "metadata": {},
   "source": [
    "### Exercici 2\n",
    "\n",
    "Tenint en compte el següent diccionari:\n",
    "```text\n",
    "{\n",
    "    'id': '3H23J' ,  \n",
    "    'nom':  'Andreu',  \n",
    "    'edat': 25,\n",
    "    'dni': '32465876-L',\n",
    "    'acces': ['mati','tarda','nit']\n",
    "}\n",
    "``````\n",
    "Fes una funció 'generaUsuari' que generi usuaris aleatoris. Tingues en compte que:\n",
    "\n",
    "- L'id ha de fer servir la funció 'generaId' per generar el ID\n",
    "- El nom ha de ser aleatori d'una llista d'almenys 10 noms\n",
    "- L'edat ha de ser aleatori entre 18 i 65 anys\n",
    "- El DNI ha de fer servir la funció 'generaDNI' per generar el DNI\n",
    "- L'acces ha de ser una llista amb un o més elements: ['mati','tarda','nit'] no repetits\n",
    "\n",
    "Ha d'escriure: (generaUsuari) S'ha generat l'usuari {'id': '3H23J' , 'nom':  'Andreu', 'edat': 25, 'dni': '32465876-L', 'acces': ['mati','tarda','nit']}"
   ]
  },
  {
   "cell_type": "code",
   "execution_count": null,
   "metadata": {},
   "outputs": [],
   "source": [
    "# Fes aquí el codi de l'exercici 2"
   ]
  },
  {
   "cell_type": "markdown",
   "metadata": {},
   "source": [
    "### Exercici 3\n",
    "\n",
    "Tenint en compte l'anterior diccionari.\n",
    "\n",
    "Fes una funció 'afegirUsuari(usuari)' que afegeixi un usuari a una llista d'usuaris global 'usuaris'.\n",
    "\n",
    "Ha d'escriure: (afegirUsuari) S'ha afegit l'usuari amb id '3H23J', ara hi ha 2 usuaris"
   ]
  },
  {
   "cell_type": "code",
   "execution_count": null,
   "metadata": {},
   "outputs": [],
   "source": [
    "# Fes aquí el codi de l'exercici 3"
   ]
  },
  {
   "cell_type": "markdown",
   "metadata": {},
   "source": [
    "### Exercici 4\n",
    "\n",
    "Tenint en compte l'anterior diccionari.\n",
    "\n",
    "Fes una funció 'buscaUsuari(id)' que retorna l'índex de l'usuari amb l'id indicat.\n",
    "\n",
    "Si no el troba retorna -1\n",
    "\n",
    "Si no el troba ha d'escriure: (buscaUsuari) No s'ha trobat l'usuari amb id '3H23J'\n",
    "\n",
    "Ha d'escriure: (buscaUsuari) L'usuari amb id '3H23J' està a l'índex 1\n"
   ]
  },
  {
   "cell_type": "code",
   "execution_count": null,
   "metadata": {},
   "outputs": [],
   "source": [
    "# Fes aquí el codi de l'exercici 4"
   ]
  },
  {
   "cell_type": "markdown",
   "metadata": {},
   "source": [
    "### Exercici 5\n",
    "\n",
    "Tenint en compte l'anterior diccionari.\n",
    "\n",
    "Fes una funció 'mostraUsuari(id') que mostra la informació de l'usuari amb aquell 'id'\n",
    "\n",
    "Si no el troba ha d'escriure: No s'ha trobat l'usuari amb id '3H23J'\n",
    "\n",
    "Ha d'escriure: (mostraUsuari) L'usuari amb id '3H23J' és {'id': '3H23J' , 'nom':  'Andreu', 'edat': 25, 'dni': '32465876-L', 'acces': ['mati','tarda','nit']}"
   ]
  },
  {
   "cell_type": "markdown",
   "metadata": {},
   "source": [
    "### Exercici 6\n",
    "\n",
    "Fes una funció 'llistaUsuaris' que permeti llistar els usuaris de la llista 'usuaris'\n",
    "\n",
    "Ha d'escriure la llista d'usuaris, cada un en una línia"
   ]
  },
  {
   "cell_type": "code",
   "execution_count": null,
   "metadata": {},
   "outputs": [],
   "source": [
    "# Fes aquí el codi de l'exercici 6"
   ]
  },
  {
   "cell_type": "markdown",
   "metadata": {},
   "source": [
    "### Exercici 7\n",
    "\n",
    "Fes una funció 'modificaUsuari(id, camp, valor)' que permeti modificar un usuari de la llista 'usuaris'.\n",
    "\n",
    "Tingues en compte que:\n",
    "\n",
    "- S'ha de modificar l'usuari amb el qual coincideix l'id\n",
    "\n",
    "- S'ha de modificar el camp 'camp' amb el nou valor\n",
    "\n",
    "Si l'usuari no existeix ha d'escriure: (modificaUsuari) Error, l'usuari 'ABCD' no existeix\n",
    "\n",
    "Si es modifica ha d'escriure: (modificaUsuari) S'ha modificar l'usuari '3H23J', s'ha canviat el camp 'nom': 'Pere' > 'Pau'"
   ]
  },
  {
   "cell_type": "code",
   "execution_count": null,
   "metadata": {},
   "outputs": [],
   "source": [
    "# Fes aquí el codi de l'exercici 7"
   ]
  },
  {
   "cell_type": "markdown",
   "metadata": {},
   "source": [
    "### Exercici 8\n",
    "\n",
    "Fes una funció 'esborraUsuari(id)' que permeti esborrar un usuari de la llista 'usuaris'.\n",
    "\n",
    "Tingues en compte que:\n",
    "\n",
    "- S'ha d'esborrar l'usuari amb el qual coincideix l'id\n",
    "\n",
    "Si l'usuari no existeix ha d'escriure: (esborraUsuari) Error, l'usuari 'ABCD' no existeix\n",
    "\n",
    "Si s'esborra ha d'escriure: (esborraUsuari) S'ha esborrat l'usuari '3H23J'"
   ]
  },
  {
   "cell_type": "code",
   "execution_count": null,
   "metadata": {},
   "outputs": [],
   "source": [
    "# Fes aquí el codi de l'exercici 8"
   ]
  },
  {
   "cell_type": "markdown",
   "metadata": {},
   "source": [
    "### Exercici 9\n",
    "\n",
    "Fes una funció 'buscaAcces(tipus)' que busqui tots els usuari que tenen l'acces 'tipus'\n",
    "\n",
    "Per exemple buscaAcces('mati') ha de tornar tots els usuaris que poden accedir de matí\n",
    "\n",
    "Retorna la llista amb els ids dels usuaris que tenen aquell accés\n",
    "\n",
    "Ha d'escriure: (buscaAcces) Els usuaris amb acces 'mati' són: ['3H23J', '4H23J']"
   ]
  },
  {
   "cell_type": "code",
   "execution_count": null,
   "metadata": {},
   "outputs": [],
   "source": [
    "# Fes aquí el codi de l'exercici 9"
   ]
  },
  {
   "cell_type": "markdown",
   "metadata": {},
   "source": [
    "### Exercici 10\n",
    "\n",
    "Fes una funció 'ordenaUsuaris(camp)' que escrigui la llista d'usuaris ordenada segons el camp indicat."
   ]
  },
  {
   "cell_type": "code",
   "execution_count": null,
   "metadata": {},
   "outputs": [],
   "source": [
    "# Fes aquí el codi de l'exercici 10"
   ]
  }
 ],
 "metadata": {
  "language_info": {
   "name": "python"
  }
 },
 "nbformat": 4,
 "nbformat_minor": 2
}
