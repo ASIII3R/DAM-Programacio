{
 "cells": [
  {
   "cell_type": "markdown",
   "metadata": {},
   "source": [
    "<div style=\"display: flex; width: 100%;\">\n",
    "    <div style=\"flex: 1; padding: 0px;\">\n",
    "        <p>© Albert Palacios Jiménez, 2023</p>\n",
    "    </div>\n",
    "    <div style=\"flex: 1; padding: 0px; text-align: right;\">\n",
    "        <img src=\"./assets/ieti.png\" height=\"32\" alt=\"Logo de IETI\" style=\"max-height: 32px;\">\n",
    "    </div>\n",
    "</div>\n",
    "<hr/>"
   ]
  },
  {
   "cell_type": "markdown",
   "metadata": {},
   "source": [
    "## Entrenament de l'exàmen\n",
    "\n",
    "Practica de cara a l'exàmen amb els següents exercicis."
   ]
  },
  {
   "cell_type": "markdown",
   "metadata": {},
   "source": [
    "### Exercici 0\n",
    "\n",
    "Fes una funció 'generaDNI' que generi un DNI vàlid de manera aleatòria"
   ]
  },
  {
   "cell_type": "code",
   "execution_count": 13,
   "metadata": {},
   "outputs": [
    {
     "data": {
      "text/plain": [
       "'50101257N'"
      ]
     },
     "execution_count": 13,
     "metadata": {},
     "output_type": "execute_result"
    }
   ],
   "source": [
    "# Fes aquí el codi de l'exercici 0\n",
    "import random\n",
    "def generaDNI():\n",
    "    array_lletres = [\"T\", \"R\", \"W\", \"A\", \"G\", \"M\", \"Y\", \"F\", \"P\", \"D\", \"X\", \"B\", \"N\", \"J\", \"Z\", \"S\", \"Q\", \"V\", \"H\", \"L\", \"C\", \"K\", \"E\"]\n",
    "    primer_num = random.randint(0,5)\n",
    "    numero_darrers = \"\"\n",
    "    for cnt in range(0,7):\n",
    "        num = random.randint(0, 9)\n",
    "        numero_darrers = numero_darrers + str(num)\n",
    "    numeros = str(primer_num) + str(numero_darrers)\n",
    "    resto = int(numeros) % 23\n",
    "    dni = numeros + array_lletres[resto]\n",
    "    return dni\n",
    "\n",
    "generaDNI()"
   ]
  },
  {
   "cell_type": "markdown",
   "metadata": {},
   "source": [
    "### Exercici 1\n",
    "\n",
    "Fes una funció 'generaId' que generi un ID aleatòri tenint en compte:\n",
    "\n",
    "- Comença amb un número entre [0, 9] inclòssos\n",
    "- Segueix amb una lletra entre [A, Z] inclòssos (la ñ no)\n",
    "- Sequeix amb 2 números entre [0, 9] inclòssos\n",
    "- Segueix amb una lletra entre [A, Z] inclòssos (la ñ no)\n",
    "\n",
    "Per exemple: 3H23J\n",
    "\n",
    "Ha d'escriure: S'ha generat l'Id: 3H23J"
   ]
  },
  {
   "cell_type": "code",
   "execution_count": 17,
   "metadata": {},
   "outputs": [
    {
     "data": {
      "text/plain": [
       "'4H51S'"
      ]
     },
     "execution_count": 17,
     "metadata": {},
     "output_type": "execute_result"
    }
   ],
   "source": [
    "# Fes aquí el codi de l'exercici 1\n",
    "def generaID():\n",
    "    idgenerado = []\n",
    "    primernumero = str(random.randint(0, 9))\n",
    "    idgenerado.append(primernumero)\n",
    "    primeraletra = random.choice('ABCDEFGHIJKLMNOPQRSTUVWXYZ')\n",
    "    idgenerado.append(primeraletra)\n",
    "    numerossiguientes = ''\n",
    "    for _ in range(2):\n",
    "        numerossiguientes = numerossiguientes+ str(random.randint(0, 9))\n",
    "    idgenerado.append(numerossiguientes)\n",
    "    segundaletra = random.choice('ABCDEFGHIJKLMNOPQRSTUVWXYZ')\n",
    "    idgenerado.append(segundaletra)\n",
    "    return \"\".join(idgenerado)\n",
    "generaID()"
   ]
  },
  {
   "cell_type": "markdown",
   "metadata": {},
   "source": [
    "### Exercici 2\n",
    "\n",
    "Tenint en compte el següent diccionari:\n",
    "```text\n",
    "{\n",
    "    'id': '3H23J' ,  \n",
    "    'nom':  'Andreu',  \n",
    "    'edat': 25,\n",
    "    'dni': '32465876-L',\n",
    "    'acces': ['mati','tarda','nit']\n",
    "}\n",
    "``````\n",
    "Fes una funció 'generaUsuari' que generi usuaris aleatoris. Tingues en compte que:\n",
    "\n",
    "- L'id ha de fer servir la funció 'generaId' per generar el ID\n",
    "- El nom ha de ser aleatori d'una llista d'almenys 10 noms\n",
    "- L'edat ha de ser aleatori entre 18 i 65 anys\n",
    "- El DNI ha de fer servir la funció 'generaDNI' per generar el DNI\n",
    "- L'acces ha de ser una llista amb un o més elements: ['mati','tarda','nit'] no repetits\n",
    "\n",
    "Ha d'escriure: (generaUsuari) S'ha generat l'usuari {'id': '3H23J' , 'nom':  'Andreu', 'edat': 25, 'dni': '32465876-L', 'acces': ['mati','tarda','nit']}"
   ]
  },
  {
   "cell_type": "code",
   "execution_count": 21,
   "metadata": {},
   "outputs": [
    {
     "name": "stdout",
     "output_type": "stream",
     "text": [
      "S'ha generat l'usuari {'id': '1C85C', 'nom': 'Albert', 'edat': 50, 'dni': '12801974J', 'acces': ['mati']}\n"
     ]
    },
    {
     "data": {
      "text/plain": [
       "{'id': '1C85C',\n",
       " 'nom': 'Albert',\n",
       " 'edat': 50,\n",
       " 'dni': '12801974J',\n",
       " 'acces': ['mati']}"
      ]
     },
     "execution_count": 21,
     "metadata": {},
     "output_type": "execute_result"
    }
   ],
   "source": [
    "# Fes aquí el codi de l'exercici 2\n",
    "def generaUsuari():\n",
    "    torns = [\"mati\",\"tarda\",\"nit\"]\n",
    "    acces = []\n",
    "    while(len(acces)==0):\n",
    "        for i in range(3):\n",
    "            if(random.randint(0,1)==1):\n",
    "                acces.append(torns[i])\n",
    "    usuari = {\n",
    "        'id' : generaID(),\n",
    "        'nom' : random.choice([\"Adrián\",\"Marc\",\"Joel\",\"Pablo\",\"Albert\",\"Ainara\",\"Maria\",\"Josefa\",\"Maricarmen\",\"Montserrat\"]),\n",
    "        'edat' : random.randint(18,65),\n",
    "        'dni' : generaDNI(),\n",
    "        'acces' : acces\n",
    "    }\n",
    "    print(f\"S'ha generat l'usuari {usuari}\")\n",
    "    return usuari\n",
    "\n",
    "generaUsuari()"
   ]
  },
  {
   "cell_type": "markdown",
   "metadata": {},
   "source": [
    "### Exercici 3\n",
    "\n",
    "Tenint en compte l'anterior diccionari.\n",
    "\n",
    "Fes una funció 'afegirUsuari(usuari)' que afegeixi un usuari a una llista d'usuaris global 'usuaris'.\n",
    "\n",
    "Ha d'escriure: (afegirUsuari) S'ha afegit l'usuari amb id '3H23J', ara hi ha 2 usuaris"
   ]
  },
  {
   "cell_type": "code",
   "execution_count": 40,
   "metadata": {},
   "outputs": [
    {
     "name": "stdout",
     "output_type": "stream",
     "text": [
      "S'ha generat l'usuari {'id': '3S19U', 'nom': 'Montserrat', 'edat': 56, 'dni': '48204100X', 'acces': ['tarda']}\n",
      "S'ha generat l'usuari {'id': '7L30L', 'nom': 'Pablo', 'edat': 48, 'dni': '10479036Y', 'acces': ['nit']}\n",
      "S'ha generat l'usuari {'id': '0E71K', 'nom': 'Josefa', 'edat': 36, 'dni': '04755529A', 'acces': ['mati', 'tarda', 'nit']}\n",
      "[{'id': '3S19U', 'nom': 'Montserrat', 'edat': 56, 'dni': '48204100X', 'acces': ['tarda']}, {'id': '7L30L', 'nom': 'Pablo', 'edat': 48, 'dni': '10479036Y', 'acces': ['nit']}, {'id': '0E71K', 'nom': 'Josefa', 'edat': 36, 'dni': '04755529A', 'acces': ['mati', 'tarda', 'nit']}]\n"
     ]
    }
   ],
   "source": [
    "# Fes aquí el codi de l'exercici 3\n",
    "usuaris = []\n",
    "def afegirUsuari(usuari):\n",
    "    global usuaris\n",
    "    usuaris.append(usuari)\n",
    "\n",
    "for i in range(0,3):\n",
    "    usuari = generaUsuari()\n",
    "    afegirUsuari(usuari)\n",
    "    \n",
    "print(usuaris)"
   ]
  },
  {
   "cell_type": "markdown",
   "metadata": {},
   "source": [
    "### Exercici 4\n",
    "\n",
    "Tenint en compte l'anterior diccionari.\n",
    "\n",
    "Fes una funció 'buscaUsuari(id)' que retorna l'índex de l'usuari amb l'id indicat.\n",
    "\n",
    "Si no el troba retorna -1\n",
    "\n",
    "Si no el troba ha d'escriure: (buscaUsuari) No s'ha trobat l'usuari amb id '3H23J'\n",
    "\n",
    "Ha d'escriure: (buscaUsuari) L'usuari amb id '3H23J' està a l'índex 1\n"
   ]
  },
  {
   "cell_type": "code",
   "execution_count": 27,
   "metadata": {},
   "outputs": [
    {
     "name": "stdout",
     "output_type": "stream",
     "text": [
      "El usuari amb l'id 2K77Q està a l'index 2\n"
     ]
    },
    {
     "data": {
      "text/plain": [
       "2"
      ]
     },
     "execution_count": 27,
     "metadata": {},
     "output_type": "execute_result"
    }
   ],
   "source": [
    "# Fes aquí el codi de l'exercici 4\n",
    "def buscaUsuari(id):\n",
    "    for cnt in range(0, len(usuaris)):\n",
    "        if usuaris[cnt][\"id\"] == id:\n",
    "            print(f\"El usuari amb l'id {id} està a l'index {cnt}\")\n",
    "            return cnt\n",
    "    print(f\"No s'ha trobat l'usuari amb id '{id}'\")\n",
    "    return -1\n",
    "\n",
    "buscaUsuari(\"2K77Q\")"
   ]
  },
  {
   "cell_type": "markdown",
   "metadata": {},
   "source": [
    "### Exercici 5\n",
    "\n",
    "Tenint en compte l'anterior diccionari.\n",
    "\n",
    "Fes una funció 'mostraUsuari(id') que mostra la informació de l'usuari amb aquell 'id'\n",
    "\n",
    "Si no el troba ha d'escriure: No s'ha trobat l'usuari amb id '3H23J'\n",
    "\n",
    "Ha d'escriure: (mostraUsuari) L'usuari amb id '3H23J' és {'id': '3H23J' , 'nom':  'Andreu', 'edat': 25, 'dni': '32465876-L', 'acces': ['mati','tarda','nit']}"
   ]
  },
  {
   "cell_type": "code",
   "execution_count": 32,
   "metadata": {},
   "outputs": [
    {
     "name": "stdout",
     "output_type": "stream",
     "text": [
      "El usuari amb l'id 2K77Q està a l'index 2\n",
      "El usuari amb id '2K77Q' és {'id': '2K77Q', 'nom': 'Ainara', 'edat': 50, 'dni': '45683309L', 'acces': ['mati', 'tarda', 'nit']}\n"
     ]
    }
   ],
   "source": [
    "def mostraUsuari(id_busqueda):\n",
    "    index = buscaUsuari(id_busqueda)\n",
    "    if index != -1:\n",
    "        print(f\"El usuari amb id '{id_busqueda}' és {usuaris[index]}\")\n",
    "\n",
    "mostraUsuari(\"2K77Q\")"
   ]
  },
  {
   "cell_type": "markdown",
   "metadata": {},
   "source": [
    "### Exercici 6\n",
    "\n",
    "Fes una funció 'llistaUsuaris' que permeti llistar els usuaris de la llista 'usuaris'\n",
    "\n",
    "Ha d'escriure la llista d'usuaris, cada un en una línia"
   ]
  },
  {
   "cell_type": "code",
   "execution_count": 34,
   "metadata": {},
   "outputs": [
    {
     "name": "stdout",
     "output_type": "stream",
     "text": [
      "{'id': '3S11V', 'nom': 'Maricarmen', 'edat': 56, 'dni': '15057133E', 'acces': ['mati']}\n",
      "{'id': '4K44E', 'nom': 'Joel', 'edat': 54, 'dni': '37796034L', 'acces': ['mati', 'tarda', 'nit']}\n",
      "{'id': '2K77Q', 'nom': 'Ainara', 'edat': 50, 'dni': '45683309L', 'acces': ['mati', 'tarda', 'nit']}\n"
     ]
    }
   ],
   "source": [
    "# Fes aquí el codi de l'exercici 6\n",
    "def llistaUsuaris():\n",
    "    for cnt in range(0, len(usuaris)):\n",
    "        usr = usuaris[cnt]\n",
    "        print(usr)\n",
    "\n",
    "llistaUsuaris()"
   ]
  },
  {
   "cell_type": "markdown",
   "metadata": {},
   "source": [
    "### Exercici 7\n",
    "\n",
    "Fes una funció 'modificaUsuari(id, camp, valor)' que permeti modificar un usuari de la llista 'usuaris'.\n",
    "\n",
    "Tingues en compte que:\n",
    "\n",
    "- S'ha de modificar l'usuari amb el qual coincideix l'id\n",
    "\n",
    "- S'ha de modificar el camp 'camp' amb el nou valor\n",
    "\n",
    "Si l'usuari no existeix ha d'escriure: (modificaUsuari) Error, l'usuari 'ABCD' no existeix\n",
    "\n",
    "Si es modifica ha d'escriure: (modificaUsuari) S'ha modificar l'usuari '3H23J', s'ha canviat el camp 'nom': 'Pere' > 'Pau'"
   ]
  },
  {
   "cell_type": "code",
   "execution_count": 37,
   "metadata": {},
   "outputs": [
    {
     "name": "stdout",
     "output_type": "stream",
     "text": [
      "El usuari amb l'id 2K77Q està a l'index 2\n",
      "El camp 'nom' de l'usuari amb id '2K77Q' ha passat de 'Juanita' a 'Juanita'\n",
      "{'id': '3S11V', 'nom': 'Maricarmen', 'edat': 56, 'dni': '15057133E', 'acces': ['mati']}\n",
      "{'id': '4K44E', 'nom': 'Joel', 'edat': 54, 'dni': '37796034L', 'acces': ['mati', 'tarda', 'nit']}\n",
      "{'id': '2K77Q', 'nom': 'Juanita', 'edat': 50, 'dni': '45683309L', 'acces': ['mati', 'tarda', 'nit']}\n"
     ]
    }
   ],
   "source": [
    "# Fes aquí el codi de l'exercici 7\n",
    "def modificaUsuari(id, camp, valor):\n",
    "    global usuaris\n",
    "    index = buscaUsuari(id)\n",
    "    if id != -1:\n",
    "        anticValor = usuaris[index][camp]\n",
    "        usuaris[index][camp] = valor\n",
    "        print(f\"El camp '{camp}' de l'usuari amb id '{id}' ha passat de '{anticValor}' a '{valor}'\")\n",
    "\n",
    "modificaUsuari(\"2K77Q\", \"nom\", \"Juanita\")\n",
    "llistaUsuaris()"
   ]
  },
  {
   "cell_type": "markdown",
   "metadata": {},
   "source": [
    "### Exercici 8\n",
    "\n",
    "Fes una funció 'esborraUsuari(id)' que permeti esborrar un usuari de la llista 'usuaris'.\n",
    "\n",
    "Tingues en compte que:\n",
    "\n",
    "- S'ha d'esborrar l'usuari amb el qual coincideix l'id\n",
    "\n",
    "Si l'usuari no existeix ha d'escriure: (esborraUsuari) Error, l'usuari 'ABCD' no existeix\n",
    "\n",
    "Si s'esborra ha d'escriure: (esborraUsuari) S'ha esborrat l'usuari '3H23J'"
   ]
  },
  {
   "cell_type": "code",
   "execution_count": 41,
   "metadata": {},
   "outputs": [
    {
     "name": "stdout",
     "output_type": "stream",
     "text": [
      "El usuari amb l'id 0E71K està a l'index 2\n",
      "S'ha esborrat l'usuari 0E71K\n",
      "{'id': '3S19U', 'nom': 'Montserrat', 'edat': 56, 'dni': '48204100X', 'acces': ['tarda']}\n",
      "{'id': '7L30L', 'nom': 'Pablo', 'edat': 48, 'dni': '10479036Y', 'acces': ['nit']}\n"
     ]
    }
   ],
   "source": [
    "# Fes aquí el codi de l'exercici 8\n",
    "def esborraUsuari(id):\n",
    "    global usuaris\n",
    "    index = buscaUsuari(id)\n",
    "    if id != -1:\n",
    "        del usuaris[index]\n",
    "        print(f\"S'ha esborrat l'usuari {id}\")\n",
    "\n",
    "esborraUsuari(\"0E71K\")\n",
    "llistaUsuaris()"
   ]
  },
  {
   "cell_type": "markdown",
   "metadata": {},
   "source": [
    "### Exercici 9\n",
    "\n",
    "Fes una funció 'buscaAcces(tipus)' que busqui tots els usuari que tenen l'acces 'tipus'\n",
    "\n",
    "Per exemple buscaAcces('mati') ha de tornar tots els usuaris que poden accedir de matí\n",
    "\n",
    "Retorna la llista amb els ids dels usuaris que tenen aquell accés\n",
    "\n",
    "Ha d'escriure: (buscaAcces) Els usuaris amb acces 'mati' són: ['3H23J', '4H23J']"
   ]
  },
  {
   "cell_type": "code",
   "execution_count": 44,
   "metadata": {},
   "outputs": [
    {
     "name": "stdout",
     "output_type": "stream",
     "text": [
      "{'id': '3S19U', 'nom': 'Montserrat', 'edat': 56, 'dni': '48204100X', 'acces': ['tarda']}\n",
      "{'id': '7L30L', 'nom': 'Pablo', 'edat': 48, 'dni': '10479036Y', 'acces': ['nit']}\n",
      "(buscaAcces) Els usuari amb acces 'tarda' són: ['3S19U']\n",
      "(buscaAcces) Els usuari amb acces 'nit' són: ['7L30L']\n"
     ]
    }
   ],
   "source": [
    "# Fes aquí el codi de l'exercici 9\n",
    "def buscaAcces(tipus):\n",
    "    tippusvalids = [\"mati\",\"tarda\",\"nit\"]\n",
    "    if tipus not in tippusvalids:\n",
    "        print(\"(buscaAcces) \" + f\"Error: tipus '{tipus}' es invalid\")\n",
    "        return\n",
    "    lista = []\n",
    "    for usuari in usuaris:\n",
    "        if tipus in usuari[\"acces\"]:\n",
    "            lista.append(usuari[\"id\"])\n",
    "    print(\"(buscaAcces) \" + f\"Els usuari amb acces '{tipus}' són: {lista}\")\n",
    "    return lista\n",
    "\n",
    "llistaUsuaris()\n",
    "buscaAcces(\"tarda\")\n",
    "buscaAcces(\"nit\")"
   ]
  },
  {
   "cell_type": "markdown",
   "metadata": {},
   "source": [
    "### Exercici 10\n",
    "\n",
    "Fes una funció 'ordenaUsuaris(camp)' que escrigui la llista d'usuaris ordenada segons el camp indicat."
   ]
  },
  {
   "cell_type": "code",
   "execution_count": 46,
   "metadata": {},
   "outputs": [
    {
     "name": "stdout",
     "output_type": "stream",
     "text": [
      "[{'id': '3S19U', 'nom': 'Montserrat', 'edat': 56, 'dni': '48204100X', 'acces': ['tarda']}, {'id': '7L30L', 'nom': 'Pablo', 'edat': 48, 'dni': '10479036Y', 'acces': ['nit']}]\n",
      "[{'id': '7L30L', 'nom': 'Pablo', 'edat': 48, 'dni': '10479036Y', 'acces': ['nit']}, {'id': '3S19U', 'nom': 'Montserrat', 'edat': 56, 'dni': '48204100X', 'acces': ['tarda']}]\n",
      "[{'id': '7L30L', 'nom': 'Pablo', 'edat': 48, 'dni': '10479036Y', 'acces': ['nit']}, {'id': '3S19U', 'nom': 'Montserrat', 'edat': 56, 'dni': '48204100X', 'acces': ['tarda']}]\n"
     ]
    }
   ],
   "source": [
    "# Fes aquí el codi de l'exercici 10\n",
    "def ordenaUsuaris(camp):\n",
    "    usuarisord = sorted(usuaris, key = lambda x: x[camp])\n",
    "    print(usuarisord)\n",
    "ordenaUsuaris(\"nom\") \n",
    "ordenaUsuaris(\"edat\") \n",
    "ordenaUsuaris(\"dni\") \n",
    "\n"
   ]
  },
  {
   "cell_type": "markdown",
   "metadata": {},
   "source": [
    "### Exercici 11\n",
    "\n",
    "Fes un programa, amb el següent menú, per gestionar la llista d'usuaris anterior:\n",
    "```text\n",
    "SuperGym\n",
    "1 - Afegir usuari aleatori\n",
    "2 - Buscar usuari\n",
    "3 - Mostrar usuari\n",
    "4 - Llistar usuaris\n",
    "5 - Modificar usuari\n",
    "6 - Esborrar usuari\n",
    "7 - Buscar accés\n",
    "8 - Ordenar\n",
    "0 - Sortir\n",
    "```\n",
    "El programa demanarà les opcions necessàries en cada cas i permetrà tornar al menú principal"
   ]
  },
  {
   "cell_type": "code",
   "execution_count": null,
   "metadata": {},
   "outputs": [],
   "source": [
    "# Fes aquí el codi de l'exercici 11"
   ]
  }
 ],
 "metadata": {
  "kernelspec": {
   "display_name": "Python 3",
   "language": "python",
   "name": "python3"
  },
  "language_info": {
   "codemirror_mode": {
    "name": "ipython",
    "version": 3
   },
   "file_extension": ".py",
   "mimetype": "text/x-python",
   "name": "python",
   "nbconvert_exporter": "python",
   "pygments_lexer": "ipython3",
   "version": "3.11.5"
  }
 },
 "nbformat": 4,
 "nbformat_minor": 2
}
