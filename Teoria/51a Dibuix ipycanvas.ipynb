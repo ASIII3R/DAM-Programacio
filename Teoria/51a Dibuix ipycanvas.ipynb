{
 "cells": [
  {
   "cell_type": "markdown",
   "metadata": {},
   "source": [
    "## Cal instal·lar les següents llibreries\n",
    "\n",
    "pip install ipycanvas orjson"
   ]
  },
  {
   "cell_type": "code",
   "execution_count": null,
   "metadata": {},
   "outputs": [],
   "source": [
    "from ipycanvas import Canvas\n",
    "\n",
    "canvas = Canvas(width=200, height=200)\n",
    "\n",
    "canvas.fill_rect(25, 25, 100, 100)\n",
    "canvas.clear_rect(45, 45, 60, 60)\n",
    "canvas.stroke_rect(50, 50, 50, 50)\n",
    "\n",
    "display(canvas)"
   ]
  },
  {
   "cell_type": "code",
   "execution_count": null,
   "metadata": {},
   "outputs": [],
   "source": [
    "from ipycanvas import Canvas\n",
    "from IPython.display import display\n",
    "import ipywidgets as widgets\n",
    "\n",
    "# Crear un widget d'slider\n",
    "w = widgets.IntSlider(value=50, min=25, max=75)\n",
    "\n",
    "# Crear el canvas i dibuixar el rectangle inicial\n",
    "canvas = Canvas(width=100, height=100)\n",
    "canvas.fill_rect(25, 25, 50, 50)\n",
    "canvas.clear_rect(45, 45, 60, 60)\n",
    "canvas.stroke_rect(50, 50, 50, 50)\n",
    "display(canvas)\n",
    "\n",
    "# Funció que actualitza la mida del rectangle\n",
    "def update_canvas(change):\n",
    "    valor_slider = change['new']\n",
    "    canvas.clear()\n",
    "\n",
    "    canvas.fill_rect(25, 25, valor_slider, valor_slider)\n",
    "    canvas.clear_rect(45, 45, 60, 60)\n",
    "    canvas.stroke_rect(50, 50, 50, 50)\n",
    "\n",
    "w.observe(update_canvas, 'value')\n",
    "display(w)\n"
   ]
  }
 ],
 "metadata": {
  "kernelspec": {
   "display_name": "Python 3",
   "language": "python",
   "name": "python3"
  },
  "language_info": {
   "codemirror_mode": {
    "name": "ipython",
    "version": 3
   },
   "file_extension": ".py",
   "mimetype": "text/x-python",
   "name": "python",
   "nbconvert_exporter": "python",
   "pygments_lexer": "ipython3",
   "version": "3.11.5"
  },
  "orig_nbformat": 4
 },
 "nbformat": 4,
 "nbformat_minor": 2
}
