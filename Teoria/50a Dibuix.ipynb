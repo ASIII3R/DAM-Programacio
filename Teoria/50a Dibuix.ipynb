{
 "cells": [
  {
   "cell_type": "markdown",
   "metadata": {},
   "source": [
    "<div style=\"display: flex; width: 100%;\">\n",
    "    <div style=\"flex: 1; padding: 0px;\">\n",
    "        <p>© Albert Palacios Jiménez, 2023</p>\n",
    "    </div>\n",
    "    <div style=\"flex: 1; padding: 0px; text-align: right;\">\n",
    "        <img src=\"./assets/ieti.png\" height=\"32\" alt=\"Logo de IETI\" style=\"max-height: 32px;\">\n",
    "    </div>\n",
    "</div>\n",
    "<hr/>"
   ]
  },
  {
   "cell_type": "markdown",
   "metadata": {},
   "source": [
    "# Dibuix\n",
    "\n",
    "Molts llenguatges de programació inclouen eines per dibuixar figures.\n",
    "\n",
    "Python no és una d'aquestes eines, per fer dibuixos ha de fer servir altres llibreries.\n",
    "\n",
    "En el nostre cas, una llibreria que hi ha a la carpeta 'assets' d'aquest projecte anomenada 'CanvasContext'"
   ]
  },
  {
   "cell_type": "markdown",
   "metadata": {},
   "source": [
    "### Exemple de dibuix\n",
    "\n",
    "En el següent exemple, es veu un dibuix molt bàsic fet en Python.\n",
    "\n",
    "Però que servirà per entendre la teoria de dibuix."
   ]
  },
  {
   "cell_type": "code",
   "execution_count": 1,
   "metadata": {},
   "outputs": [
    {
     "data": {
      "text/html": [
       "<canvas id=\"cnv\" width=\"500\" height=\"200\" style=\"border:1px solid black;\"></canvas>"
      ],
      "text/plain": [
       "<IPython.core.display.HTML object>"
      ]
     },
     "metadata": {},
     "output_type": "display_data"
    },
    {
     "data": {
      "application/javascript": "\n        var canvas = document.getElementById('cnv');\n        var ctx = canvas.getContext('2d');\n        \n        ctx.save();\n        ctx.fillStyle = \"white\";\n        ctx.fillRect(0, 0, ctx.canvas.width, ctx.canvas.height);\n        ctx.restore();\n        \n        ctx.save();\n        for (let x = 0; x <= ctx.canvas.width; x += 25) {\n            ctx.strokeStyle = (x % 50 === 0) ? \"#888888\" : \"#cccccc\";\n            ctx.beginPath();\n            ctx.moveTo(x, 0);\n            ctx.lineTo(x, ctx.canvas.height);\n            ctx.stroke();\n            \n            if (x % 50 === 0 && x !== 0) {\n                ctx.fillStyle = \"#000000\";\n                ctx.fillText(x.toString(), x, 10);\n            }\n        }\n        for (let y = 0; y <= ctx.canvas.height; y += 25) {\n            ctx.strokeStyle = (y % 50 === 0) ? \"#888888\" : \"#cccccc\";\n            ctx.beginPath();\n            ctx.moveTo(0, y);\n            ctx.lineTo(ctx.canvas.width, y);\n            ctx.stroke();\n            \n            if (y % 50 === 0 && y !== 0) {\n                ctx.fillStyle = \"#000000\";\n                ctx.fillText(y.toString(), 5, y + 10);\n            }\n        }\n        ctx.restore();\n        \n        ctx.fillStyle = `rgba(50, 200, 255, 1.0)`;\n        \n        ctx.fillRect(50, 25, 200, 100);\n        \n        ctx.save();\n        \n        ctx.strokeStyle = `green`;\n        \n        ctx.lineWidth = 5;\n        \n        ctx.strokeRect(200, 75, 250, 100);\n        \n        ctx.restore();\n        ",
      "text/plain": [
       "<IPython.core.display.Javascript object>"
      ]
     },
     "metadata": {},
     "output_type": "display_data"
    }
   ],
   "source": [
    "# Carregar la llibreria que permet dibuixar\n",
    "from assets.CanvasContext import CanvasContext\n",
    "\n",
    "# Definir l'àrea de dibuix en píxels\n",
    "ctx = CanvasContext(\"cnv\", 500, 200)\n",
    "\n",
    "# Dibuixar una graella, per conèixer les coordenades on estem dibuixant\n",
    "ctx.drawGridBackground()\n",
    "\n",
    "# Escollir el color d'emplenat 'blau cel'\n",
    "ctx.fillStyle = \"rgba(50, 200, 255, 1.0)\"\n",
    "\n",
    "# Dibuixar un rectangle, a la posició x:50, y:25 amb ample:200 i alt: 100\n",
    "# com que és 'fill' emplenerà el rectangle amb el color d'emplenat\n",
    "ctx.fillRect(50, 25, 200, 100)\n",
    "\n",
    "# Guardar l'estat del context\n",
    "ctx.save()\n",
    "\n",
    "# Escollir el color de dibuix 'verd' (color del rotulador)\n",
    "ctx.strokeStyle = \"green\"\n",
    "\n",
    "# Escollir la mida de la linia a 5px (mida del rotulador)\n",
    "ctx.lineWidth = 5\n",
    "\n",
    "# Dibuixar un rectangle, a la posició x: 200, y: 75, ample: 250, alt: 100\n",
    "ctx.strokeRect(200, 75, 250, 100)\n",
    "\n",
    "# Restaurar l'estat del context\n",
    "ctx.restore()\n",
    "\n",
    "# Executar el javascript que dibuixa\n",
    "ctx.display()"
   ]
  },
  {
   "cell_type": "markdown",
   "metadata": {},
   "source": [
    "### Explicació de l'exemple\n",
    "\n",
    "L'area de dibuix s'organitza en un eix horitzontal X i un eix vertical Y\n",
    "\n",
    "A l'exemple, l'eix horitzontal X dibuixa fins a 500 píxels d'ample i l'eix vertical Y dibuixa fins a 200 píxels d'alt\n",
    "\n",
    "El dibuix es fa com en un quadre, és a dir:\n",
    "\n",
    "A mida que es va dibuixant es queda tapat el què ja s'havia dibuixat abans\n",
    "\n",
    "Per tant, les últimes instruccions poden pintar per sobre de les anteriors\n",
    "\n",
    "En aquest cas, l'ordre de dibuix és:\n",
    "\n",
    "- Dibuixar la graella del fons\n",
    "\n",
    "- Dibuixar el quadre emplenat de color blau cell\n",
    "\n",
    "- Dibuixar el quadre amb el contorn de color verd\n"
   ]
  }
 ],
 "metadata": {
  "kernelspec": {
   "display_name": "Python 3",
   "language": "python",
   "name": "python3"
  },
  "language_info": {
   "codemirror_mode": {
    "name": "ipython",
    "version": 3
   },
   "file_extension": ".py",
   "mimetype": "text/x-python",
   "name": "python",
   "nbconvert_exporter": "python",
   "pygments_lexer": "ipython3",
   "version": "3.11.5"
  },
  "orig_nbformat": 4
 },
 "nbformat": 4,
 "nbformat_minor": 2
}
