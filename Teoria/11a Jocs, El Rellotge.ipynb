{
 "cells": [
  {
   "cell_type": "markdown",
   "metadata": {},
   "source": [
    "<div style=\"display: flex; width: 100%;\">\n",
    "    <div style=\"flex: 1; padding: 0px;\">\n",
    "        <p>© Albert Palacios Jiménez, 2023</p>\n",
    "    </div>\n",
    "    <div style=\"flex: 1; padding: 0px; text-align: right;\">\n",
    "        <img src=\"./assets/ieti.png\" height=\"32\" alt=\"Logo de IETI\" style=\"max-height: 32px;\">\n",
    "    </div>\n",
    "</div>\n",
    "<hr/>"
   ]
  },
  {
   "cell_type": "markdown",
   "metadata": {},
   "source": [
    "# Cartes, El Rellotge\n",
    "\n",
    "En aquest apartat, farem el joc del \"Rellotge\" amb cartes.\n",
    "\n",
    "- El joc consisteix en que cada té 12 cartes (48 cartes / 4 jugadors)\n",
    "\n",
    "- El joc comença amb el comptador a 0\n",
    "\n",
    "- A cada tirada el jugador posa una carta al centre (sense veure-la, la que té al damunt del seu bloc)\n",
    "\n",
    "- A cada tirada el jugador compta un número de comptador un més que l'anterior, o 1 si l'anterior era 12\n",
    "\n",
    "- Si el número del comptador coincideix amb el número de la carta, el jugador agafa totes les cartes del centre (les que s'han tirat abans)\n",
    "\n",
    "- El joc acaba quan un jugador es queda sense cartes."
   ]
  },
  {
   "cell_type": "markdown",
   "metadata": {},
   "source": [
    "## Exercici 0\n",
    "\n",
    "Fes una funció (genera_cartes) que retorni una llista de diccionaris representant totes les cartes de la baralla Espanyola.\n",
    "\n",
    "El diccionari ha de ser de la forma:\n",
    "\n",
    "```python\n",
    "{\n",
    "    \"numero\": 1,\n",
    "    \"pal\": \"espases\"\n",
    "}\n",
    "```\n"
   ]
  },
  {
   "cell_type": "markdown",
   "metadata": {},
   "source": [
    "## Exercici 1\n",
    "\n",
    "Fes una funció (barreja_cartes) que retorni una baralla de cartes desordenada"
   ]
  },
  {
   "cell_type": "markdown",
   "metadata": {},
   "source": [
    "## Exercici 2\n",
    "\n",
    "Fes una funció (reparteix_cartes) que:\n",
    "\n",
    "Com a paràmetres, rep:\n",
    "\n",
    "- La baralla de cartes\n",
    "- El nombre de jugadors\n",
    "- El nombre de cartes per jugador\n",
    "\n",
    "Ha de retornar:\n",
    "\n",
    "- La baralla sense les cartes seleccionades\n",
    "- Una llista de llistes de cartes, on cada llista representa les cartes de cada jugador\n",
    "\n",
    "Abans de repartir, ha de barrejar les cartes"
   ]
  },
  {
   "cell_type": "markdown",
   "metadata": {},
   "source": [
    "## Exercici 3\n",
    "\n",
    "Fes una funció (joc_del_rellotge) que:\n",
    "```text\n",
    "- Genera una baralla de cartes\n",
    "- Reparteix 12 cartes a 4 jugadors\n",
    "- Inicialitzi el comptador a 1\n",
    "- Inicialitzi el guanyador a -1\n",
    "- Inicialitzi les cartes de la taula a [], perquè no n'hi ha cap\n",
    "\n",
    "- Comença el joc, que no acaba fins que hi ha un jugador (while)\n",
    "    - Per cada jugador:\n",
    "        - Escull la última carta de la seva mà\n",
    "        - Afegeix aquesta carta, a les cartes de la taula\n",
    "        - Escriu quin jugador ha posat quina carta i quantes cartes li queden a la mà\n",
    "        - Si el número de la carta coincideix amb el comptador:\n",
    "            - Afegeix les cartes de la taula a la mà del jugador\n",
    "            - Escriu que ha agafat les cartes de la taula i quantes cartes li queden\n",
    "            - Esborra les cartes de la taula\n",
    "        - Si el jugador s'ha quedat sense cartes:\n",
    "            - Guarda el número del jugador com a guanyador\n",
    "            - Acaba el joc\n",
    "        - Incrementa el comptador\n",
    "        - Si el comptador és més gran que 12, torna a 1\n",
    "    - Escriu qui ha guanyat"
   ]
  },
  {
   "cell_type": "code",
   "execution_count": null,
   "metadata": {},
   "outputs": [],
   "source": [
    "import random\n",
    "\n",
    "def genera_cartes():\n",
    "    cartes = []\n",
    "    valors = [1, 2, 3, 4, 5, 6, 7, 8, 9, 10, 11, 12]\n",
    "    pals = [\"oros\", \"copes\", \"bastos\", \"espases\"]\n",
    "    for pal in pals:\n",
    "        for valor in valors:\n",
    "            cartes.append({ \"numero\": valor, \"pal\": pal })\n",
    "    return cartes\n",
    "\n",
    "def barreja_cartes(baralla):\n",
    "    random.shuffle(baralla)\n",
    "\n",
    "def reparteix_cartes(baralla, num_jugadors, num_cartes_per_jugador):\n",
    "    if num_jugadors * num_cartes_per_jugador > len(baralla):\n",
    "        print(\"No hi ha prou cartes a la baralla per al repartiment.\")\n",
    "        return baralla, []\n",
    "    \n",
    "    barreja_cartes(baralla)\n",
    "    mans_jugadors = []\n",
    "    for i in range(num_jugadors):\n",
    "        cartes_jugador = []\n",
    "        for j in range(num_cartes_per_jugador):\n",
    "            carta = baralla.pop()\n",
    "            cartes_jugador.append(carta)\n",
    "        mans_jugadors.append(cartes_jugador)\n",
    "    return baralla, mans_jugadors\n",
    "\n",
    "def joc_del_rellotge():\n",
    "    baralla = genera_cartes()\n",
    "    cartes_block, mans_jugadors = reparteix_cartes(baralla, 4, 12)\n",
    "    cartes_taula = []\n",
    "    comptador = 1\n",
    "    guanyador = -1\n",
    "\n",
    "    while guanyador == -1:\n",
    "        for jugador in range(len(mans_jugadors)):\n",
    "            cartes_jugador = mans_jugadors[jugador]\n",
    "            carta_jugador = cartes_jugador.pop(0)\n",
    "            cartes_taula.append(carta_jugador)\n",
    "            print(f\"{comptador}: Jugador {jugador} posa la carta {carta_jugador} al centre (ara en té {len(cartes_jugador)}).\")\n",
    "            if carta_jugador[\"numero\"] == comptador:\n",
    "                cartes_jugador.extend(cartes_taula)\n",
    "                print(f\"{comptador}: El comptador ({comptador}) coincideix amb la carta, el jugador {jugador} agafa les cartes de la taula (ara en té {len(cartes_jugador)}).\")\n",
    "                cartes_taula = []\n",
    "            if len(cartes_jugador) == 0:\n",
    "                guanyador = jugador\n",
    "                break\n",
    "            comptador = comptador + 1\n",
    "            if comptador > 12:\n",
    "                comptador = 1\n",
    "\n",
    "    print(f\"Jugador {guanyador} guanya la partida!\")\n",
    "\n",
    "# Cridar la funció per iniciar el joc\n",
    "joc_del_rellotge()"
   ]
  }
 ],
 "metadata": {
  "kernelspec": {
   "display_name": "Python 3",
   "language": "python",
   "name": "python3"
  },
  "language_info": {
   "codemirror_mode": {
    "name": "ipython",
    "version": 3
   },
   "file_extension": ".py",
   "mimetype": "text/x-python",
   "name": "python",
   "nbconvert_exporter": "python",
   "pygments_lexer": "ipython3",
   "version": "3.11.5"
  },
  "orig_nbformat": 4
 },
 "nbformat": 4,
 "nbformat_minor": 2
}
