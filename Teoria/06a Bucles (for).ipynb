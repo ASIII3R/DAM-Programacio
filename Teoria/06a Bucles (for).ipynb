{
 "cells": [
  {
   "cell_type": "markdown",
   "metadata": {},
   "source": [
    "<div style=\"display: flex; width: 100%;\">\n",
    "    <div style=\"flex: 1; padding: 0px;\">\n",
    "        <p>© Albert Palacios Jiménez, 2023</p>\n",
    "    </div>\n",
    "    <div style=\"flex: 1; padding: 0px; text-align: right;\">\n",
    "        <img src=\"./assets/ieti.png\" height=\"32\" alt=\"Logo de IETI\" style=\"max-height: 32px;\">\n",
    "    </div>\n",
    "</div>\n",
    "<hr/>"
   ]
  },
  {
   "cell_type": "markdown",
   "metadata": {},
   "source": [
    "# Bucles 'for'\n",
    "\n",
    "Un bucle és una estructura que et permet repetir una sèrie d'instruccions un nombre específic de vegades.\n",
    "\n",
    "Pots pensar-hi com a una mena de \"comptador automàtic\" que realitza una tasca en cada pas.\n",
    "\n",
    "La sintaxi del bucle 'for' és:\n",
    "\n",
    "```\n",
    "    for element in seqüència:\n",
    "        # Codi a executar diverses vegades\n",
    "```\n",
    "\n",
    "On 'element' és una variable que conté el valor de cada element de la seqüència que s'ha d'iterar."
   ]
  },
  {
   "cell_type": "code",
   "execution_count": null,
   "metadata": {},
   "outputs": [],
   "source": [
    "# Exemple, repetir un codi 5 vegades\n",
    "for contador in range(5):\n",
    "    print(\"¡Hola!\")\n",
    "    print(f\" - Comptador: {contador}\")"
   ]
  },
  {
   "cell_type": "code",
   "execution_count": null,
   "metadata": {},
   "outputs": [],
   "source": [
    "# Exemple, escriure els números del 2 al 5\n",
    "for numero in range(2, 6):\n",
    "    print(numero)"
   ]
  },
  {
   "cell_type": "code",
   "execution_count": null,
   "metadata": {},
   "outputs": [],
   "source": [
    "# Exemple, lletres en un text\n",
    "text = \"Hola\"\n",
    "for lletra in text:\n",
    "    print(lletra)"
   ]
  },
  {
   "cell_type": "code",
   "execution_count": null,
   "metadata": {},
   "outputs": [],
   "source": [
    "# Exemple, contar de 3 en 3 (l'últim paràmetre defineix quan suma cada repetició)\n",
    "for i in range(0, 10, 3):\n",
    "    print(i)\n"
   ]
  },
  {
   "cell_type": "code",
   "execution_count": null,
   "metadata": {},
   "outputs": [],
   "source": [
    "# Exemple, contar enrrera (l'últim paràmetre defineix restar -1 cada repetició)\n",
    "for i in range(5, 0, -1):\n",
    "    print(i)"
   ]
  },
  {
   "cell_type": "markdown",
   "metadata": {},
   "source": [
    "## Exercici 0\n",
    "\n",
    "Fes un programa que sumi els números dins d'un rang.\n",
    "\n",
    "Primer s'ha de demanar els números del rang.\n",
    "\n",
    "S'han d'ordenar els números de petit a gran.\n",
    "\n",
    "Per exemple:\n",
    "\n",
    "- Entre 2 i 5: 2 + 3 + 4 + 5 = 14\n",
    "\n",
    "- Entre 10 i 15: 10 + 11 + 12 + 13 + 14 + 15 = 75\n",
    "\n",
    "S'ha de retornar el resultat:\n",
    "\n",
    "- La suma entre 2 i 5 és 14 \n",
    "\n",
    "- La suma entre 10 i 15 és 75 "
   ]
  },
  {
   "cell_type": "code",
   "execution_count": null,
   "metadata": {},
   "outputs": [],
   "source": [
    "# Fes aquí el codi de l'exercici 0"
   ]
  },
  {
   "cell_type": "markdown",
   "metadata": {},
   "source": [
    "## Exercici 1\n",
    "\n",
    "Fes un programa que demani un número i mostri la seva taula de multiplicar de 0 a 10.\n",
    "\n",
    "Per exemple, per 4:\n",
    "\n",
    "0 x 4 = 0\n",
    "1 x 4 = 4\n",
    "...\n",
    "10 x 4 = 40"
   ]
  },
  {
   "cell_type": "code",
   "execution_count": null,
   "metadata": {},
   "outputs": [],
   "source": [
    "# Fes aquí el codi de l'exercici 1"
   ]
  },
  {
   "cell_type": "markdown",
   "metadata": {},
   "source": [
    "## Exercici 2\n",
    "\n",
    "Fes un programa que lletra a lletra, compti les 'a' que hi ha en un text.\n",
    "\n",
    "Per exemple:\n",
    "\n",
    "- \"Hola, com estàs?\" -> 2\n",
    "\n",
    "- \"Aquesta frase no té cap 'a'.\" -> 5"
   ]
  },
  {
   "cell_type": "code",
   "execution_count": null,
   "metadata": {},
   "outputs": [],
   "source": [
    "# Fes aquí el codi de l'exercici 2"
   ]
  }
 ],
 "metadata": {
  "kernelspec": {
   "display_name": "Python 3",
   "language": "python",
   "name": "python3"
  },
  "language_info": {
   "codemirror_mode": {
    "name": "ipython",
    "version": 3
   },
   "file_extension": ".py",
   "mimetype": "text/x-python",
   "name": "python",
   "nbconvert_exporter": "python",
   "pygments_lexer": "ipython3",
   "version": "3.11.5"
  },
  "orig_nbformat": 4
 },
 "nbformat": 4,
 "nbformat_minor": 2
}
