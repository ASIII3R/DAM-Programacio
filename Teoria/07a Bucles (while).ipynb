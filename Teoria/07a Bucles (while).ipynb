{
 "cells": [
  {
   "cell_type": "markdown",
   "metadata": {},
   "source": [
    "<div style=\"display: flex; width: 100%;\">\n",
    "    <div style=\"flex: 1; padding: 0px;\">\n",
    "        <p>© Albert Palacios Jiménez, 2023</p>\n",
    "    </div>\n",
    "    <div style=\"flex: 1; padding: 0px; text-align: right;\">\n",
    "        <img src=\"./assets/ieti.png\" height=\"32\" alt=\"Logo de IETI\" style=\"max-height: 32px;\">\n",
    "    </div>\n",
    "</div>\n",
    "<hr/>"
   ]
  },
  {
   "cell_type": "markdown",
   "metadata": {},
   "source": [
    "# Bucles 'while'\n",
    "\n",
    "<center><img src=\"./assets/07a_00.png\" height=\"200\" style=\"max-height: 200px;\" /></center>\n",
    "\n",
    "Un bucle 'while' és una estructura que permet repetir un bloc de codi mentre una condició sigui certa.\n",
    "\n",
    "Sintaxi:\n",
    "\n",
    "```\n",
    "    while condició:\n",
    "        # Bloc de codi que es repetirà mentre la condició sigui certa\n",
    "```"
   ]
  },
  {
   "cell_type": "code",
   "execution_count": null,
   "metadata": {},
   "outputs": [],
   "source": [
    "# Exemple de bucle while\n",
    "contador = 2\n",
    "while (contador <= 5):\n",
    "    print(contador)\n",
    "    contador = contador + 1"
   ]
  },
  {
   "cell_type": "code",
   "execution_count": null,
   "metadata": {},
   "outputs": [],
   "source": [
    "# Exemple, escriure números parells amb while\n",
    "numero = 2\n",
    "while (numero <= 10):\n",
    "    print(numero)\n",
    "    numero += 2"
   ]
  },
  {
   "cell_type": "code",
   "execution_count": null,
   "metadata": {},
   "outputs": [],
   "source": [
    "# Exemple, demanar contrasenya fins que l'usuari escrigui el text 'secreta'\n",
    "\n",
    "contrasenya_correcta = \"secreta\"\n",
    "introduida = input(\"Introdueix la contrasenya: \")\n",
    "\n",
    "while (introduida != contrasenya_correcta):\n",
    "    print(f\"Contrasenya '{introduida}' incorrecta. Torna-ho a provar.\")\n",
    "    introduida = input(\"Introdueix la contrasenya: \")\n",
    "\n",
    "print(\"Contrasenya correcta. Accés concedit.\")"
   ]
  },
  {
   "cell_type": "markdown",
   "metadata": {},
   "source": [
    "## Exercici 0\n",
    "\n",
    "Fes un programa que generi un número aleatori entre 0 i 9 (inclòssos)\n",
    "\n",
    "Després demana a l'usuari que introdueixi un número i comprova:\n",
    "\n",
    "- Si l'ha encertat escriu: \"Felicitats, has encertat amb X **intents**\"\n",
    "\n",
    "- Si no l'ha encertat i el número de l'usuari és més gran que el número secret escriu: \"Has escrit X, el número secret és més petit\"\n",
    "\n",
    "- Si no l'ha encertat i el número de l'usuari és més petit que el número secret escriu: \"Has escrit X, el número secret és més gran\"\n",
    "\n",
    "Aquest procés es repeteix fins que l'usuari encerta el número."
   ]
  },
  {
   "cell_type": "code",
   "execution_count": null,
   "metadata": {},
   "outputs": [],
   "source": [
    "# Fes aquí el codi de l'exercici 0\n",
    "import random\n",
    "x = random.randint(0, 9)\n",
    "usuari = int(input(\"Escriu un número: \"))\n",
    "contador = 1\n",
    "\n",
    "while (usuari != x):\n",
    "    if (usuari < x):\n",
    "        print(f\"Has escrit {usuari} el numero secret és més gran\")\n",
    "    else:\n",
    "        print(f\"Has escrit {usuari} el numero secret és més petit\")\n",
    "    usuari = int(input(\"Escriu un número: \"))\n",
    "    contador = contador + 1\n",
    "\n",
    "print(f\"Felicitats, has encertat amb {contador} intents\")"
   ]
  },
  {
   "cell_type": "markdown",
   "metadata": {},
   "source": [
    "## Exercici 1\n",
    "\n",
    "Fes un programa que demani un número entre 0 i 10 a l'usuari.\n",
    "\n",
    "El programa comprova si el número està entre 0 i 10.\n",
    "\n",
    "Gràcies a un bucle 'while' podràs fer que aquesta pregunta es repeteixi, mentre l'usuari no entri un número vàlid\n",
    "\n",
    "Exemple d'execució:\n",
    "```\n",
    "Introdueix un número entre 0 i 10: 11\n",
    "El número 11 és incorrecte. Torna-ho a provar.\n",
    "Introdueix un número entre 0 i 10: 15\n",
    "El número 15 és incorrecte. Torna-ho a provar.\n",
    "Introdueix un número entre 0 i 10: 5\n",
    "El número 5 és correcte. Gràcies.\n",
    "```"
   ]
  },
  {
   "cell_type": "code",
   "execution_count": null,
   "metadata": {},
   "outputs": [],
   "source": [
    "# Fes aquí el codi de l'exercici 1\n",
    "numero = int(input(\"Introdueix un número entre 0 i 10: \"))\n",
    "while (numero > 10 or numero < 0):\n",
    "    print(f\"El numero {numero} és incorrecte. Torna-ho a provar.\")\n",
    "    numero = int(input(\"Introdueix un número entre 0 i 10: \"))\n",
    "\n",
    "print(f\"El número {numero} és correcte. Gràcies.\")"
   ]
  },
  {
   "cell_type": "markdown",
   "metadata": {},
   "source": [
    "## La instrucció 'break'\n",
    "\n",
    "En un bucle 'while' (igual que en un 'for') la instrucció 'break' permet sortir del bucle abans d'hora.\n",
    "\n",
    "En el moment que s'executa 'break' el bucle s'atura i el programa continua amb la instrucció següent."
   ]
  },
  {
   "cell_type": "code",
   "execution_count": null,
   "metadata": {},
   "outputs": [],
   "source": [
    "x = 1\n",
    "\n",
    "while (x <= 10):\n",
    "    if x == 5:\n",
    "        print(\"Hem arribat al 5, aturant el bucle.\")\n",
    "        break\n",
    "    print(\"Comptador:\", x)\n",
    "    x += 1\n",
    "print(\"Final del bucle while.\")\n"
   ]
  },
  {
   "cell_type": "markdown",
   "metadata": {},
   "source": [
    "## Exercici 2\n",
    "\n",
    "Fes un programa que fent ús d'un bucle 'while' mostri el següent menú:\n",
    "```\n",
    "Menú:\n",
    "1. Saluda\n",
    "2. Parla\n",
    "3. Sortir\n",
    "```\n",
    "Aleshores:\n",
    "\n",
    "- Quan s'escull la opció 1 es mostra \"Hola!\"\n",
    "- Quan s'escull la opció 2 es mostra una de les següents frases a l'atzar:\n",
    "\n",
    "    * Tinc un gos que es diu Pelut\n",
    "    * M'agrada menjar xocolata\n",
    "    * Vull vitajar al Japó\n",
    "\n",
    "- Quan s'escull la opcio 3 el programa acaba\n",
    "\n"
   ]
  },
  {
   "cell_type": "code",
   "execution_count": 11,
   "metadata": {},
   "outputs": [
    {
     "name": "stdout",
     "output_type": "stream",
     "text": [
      "Menu: \n",
      "1. Saluda\n",
      "2. Parla\n",
      "3. Sortir\n",
      "\n",
      "Hola\n",
      "Menu: \n",
      "1. Saluda\n",
      "2. Parla\n",
      "3. Sortir\n",
      "\n",
      "He vitajat al Japó\n",
      "Menu: \n",
      "1. Saluda\n",
      "2. Parla\n",
      "3. Sortir\n",
      "\n",
      "Adeu\n"
     ]
    }
   ],
   "source": [
    "# Fes aquí el codi de l'exercici 2\n",
    "import random\n",
    "def menu():\n",
    "    print(\"\"\"Menu: \n",
    "1. Saluda\n",
    "2. Parla\n",
    "3. Sortir\n",
    "\"\"\")\n",
    "    return int(input(\"Introdueix una opció: \"))\n",
    "\n",
    "opcio = menu()\n",
    "while (opcio != 3):\n",
    "    if (opcio == 1):\n",
    "        print(\"Hola\")\n",
    "    elif (opcio == 2):\n",
    "        dialeg = random.randint(1,3)\n",
    "        if (dialeg == 1):\n",
    "            print(\"Tinc un gos que es diu Pelut\")\n",
    "        elif (dialeg == 2):\n",
    "            print(\"M'agrada menjar xocolata\")\n",
    "        else:\n",
    "            print(\"He vitajat al Japó\")\n",
    "    opcio = menu()\n",
    "\n",
    "print(\"Adeu\")"
   ]
  },
  {
   "cell_type": "markdown",
   "metadata": {},
   "source": [
    "## Exercici 3\n",
    "\n",
    "Fes un programa per jugar a \"Roca, Paper, Tisores\"\n",
    "\n",
    "El programa demanarà a cada iteració quina és la opció de l'usuari i generarà una opció automàtica per part de l'ordinador.\n",
    "\n",
    "Es sortirà del bucle 'while' quan un dels dos participants hagi guanyat tres cops o bé quan l'usuari escrigui \"sortir\".\n",
    "\n",
    "Si l'usuari escriu sortir, s'escriu \"L'usuari ha sortit\"\n",
    "\n",
    "Exemple d'execució:\n",
    "```\n",
    "Escriu la teva opció [Roca, Paper, Tisores, Sortir]: Roca\n",
    " - Jugador Roca vs. Ordinador Paper - Puntuació: Jugador 0 - Ordinador 1\n",
    "Escriu la teva opció [Roca, Paper, Tisores, Sortir]: Paper\n",
    " - Jugador Tisora vs. Ordinador Roca - Puntuació: Jugador 0 - Ordinador 2\n",
    "Escriu la teva opció [Roca, Paper, Tisores, Sortir]: Tisores\n",
    " - Jugador Tisora vs. Ordinador Tisora - Puntuació: Jugador 0 - Ordinador 2\n",
    "Escriu la teva opció [Roca, Paper, Tisores, Sortir]: Roca\n",
    " - Jugador Paper vs. Ordinador Roca - Puntuació: Jugador 1 - Ordinador 2\n",
    "Escriu la teva opció [Roca, Paper, Tisores, Sortir]: Paper\n",
    " - Jugador Paper vs. Ordinador Tisora - Puntuació: Jugador 1 - Ordinador 3\n",
    "Ha guanyat l'ordinador.\n",
    "```"
   ]
  },
  {
   "cell_type": "code",
   "execution_count": null,
   "metadata": {},
   "outputs": [],
   "source": [
    "# Fes aquí el codi de l'exercici 3"
   ]
  },
  {
   "cell_type": "code",
   "execution_count": null,
   "metadata": {},
   "outputs": [],
   "source": [
    "import random\n",
    "def opcio_usuari():\n",
    "    opcio = input(\"Escriu la teva opció [roca, paper, tissores, sortir]: \")\n",
    "    return opcio\n",
    "def opcio_maquina():\n",
    "    valor = random.randint(1,3)\n",
    "    if (valor == 1):\n",
    "        return \"roca\"   \n",
    "    elif (valor == 2):\n",
    "        return \"paper\"\n",
    "    else:\n",
    "        return \"tissores\"\n",
    "    \n",
    "puntuacio_maquina = 0\n",
    "puntuacio_usuari = 0\n",
    "opcio_ordinador = opcio_maquina()\n",
    "opcio_jugador = opcio_usuari()\n",
    "while (puntuacio_maquina < 3 and puntuacio_usuari < 3):\n",
    "    print(f\"Jugador {opcio_jugador} vs. Ordinador {opcio_ordinador} - Puntuació: Jugador {puntuacio_usuari} - Ordinador {puntuacio_maquina}\")\n",
    "    if (opcio_jugador == \"roca\" and opcio_ordinador == \"paper\"):\n",
    "        puntuacio_maquina = puntuacio_maquina + 1\n",
    "    elif (opcio_jugador == \"roca\" and opcio_ordinador == \"tissores\"):\n",
    "        puntuacio_usuari = puntuacio_usuari + 1\n",
    "    elif (opcio_jugador == \"paper\" and opcio_ordinador == \"roca\"):\n",
    "        puntuacio_usuari = puntuacio_usuari + 1\n",
    "    elif (opcio_jugador == \"paper\" and opcio_ordinador == \"tissores\"):\n",
    "        puntuacio_maquina = puntuacio_maquina + 1\n",
    "    elif (opcio_jugador == \"tissores\" and opcio_ordinador == \"roca\"):\n",
    "        puntuacio_maquina = puntuacio_maquina + 1\n",
    "    elif (opcio_jugador == \"tissores\" and opcio_ordinador == \"paper\"):\n",
    "        puntuacio_usuari = puntuacio_usuari + 1\n",
    "    elif (opcio_jugador == \"sortir\"):\n",
    "        break\n",
    "    opcio_jugador = opcio_usuari()\n",
    "\n",
    "if (puntuacio_maquina >= 3):\n",
    "    print(f\"Ha guanyat l'ordinador. Puntuació: Jugador {puntuacio_usuari} - Ordinador {puntuacio_maquina}\")\n",
    "elif (puntuacio_usuari >= 3):\n",
    "    print(f\"Ha guanyat l'usuari. Puntuació: Jugador {puntuacio_usuari} - Ordinador {puntuacio_maquina}\")\n",
    "else:\n",
    "    print(\"L usuari ha sortir\")\n"
   ]
  }
 ],
 "metadata": {
  "kernelspec": {
   "display_name": "Python 3",
   "language": "python",
   "name": "python3"
  },
  "language_info": {
   "codemirror_mode": {
    "name": "ipython",
    "version": 3
   },
   "file_extension": ".py",
   "mimetype": "text/x-python",
   "name": "python",
   "nbconvert_exporter": "python",
   "pygments_lexer": "ipython3",
   "version": "3.11.5"
  },
  "orig_nbformat": 4
 },
 "nbformat": 4,
 "nbformat_minor": 2
}
