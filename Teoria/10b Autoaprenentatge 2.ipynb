{
 "cells": [
  {
   "cell_type": "markdown",
   "metadata": {},
   "source": [
    "<div style=\"display: flex; width: 100%;\">\n",
    "    <div style=\"flex: 1; padding: 0px;\">\n",
    "        <p>© Albert Palacios Jiménez, 2023</p>\n",
    "    </div>\n",
    "    <div style=\"flex: 1; padding: 0px; text-align: right;\">\n",
    "        <img src=\"./assets/ieti.png\" height=\"32\" alt=\"Logo de IETI\" style=\"max-height: 32px;\">\n",
    "    </div>\n",
    "</div>\n",
    "<hr/>"
   ]
  },
  {
   "cell_type": "markdown",
   "metadata": {},
   "source": [
    "# Autoaprenentatge 2\n",
    "\n",
    "Aquests exercicis estàn resolts, perquè primer practiquis i després comprovis si ho has fet bé.\n",
    "\n",
    "Recorda que no hi ha una única solució correcta, hi ha diferents maneres de resoldre un mateix problema.\n",
    "\n",
    "Però no facis trampes, recorda metiràs al profe però no al jefe."
   ]
  },
  {
   "cell_type": "markdown",
   "metadata": {},
   "source": [
    "## Exercici 0\n",
    "\n",
    "Fes un programa que generi una llista de números aleatòris entre 0 i 100 de longitud 25.\n",
    "\n",
    "Després ha de generar un diccionari tipus:\n",
    "```pyton\n",
    "{\n",
    "    'multiples2': [una llista amb els multiples de 2 de la llista aleatoria],\n",
    "    'multiples3': [una llista amb els multiples de 3 de la llista aleatoria],\n",
    "    'multiples5': [una llista amb els multiples de 5 de la llista aleatoria],\n",
    "}\n",
    "```\n",
    "\n",
    "Dibuixa la llista i el diccionari."
   ]
  },
  {
   "cell_type": "code",
   "execution_count": null,
   "metadata": {},
   "outputs": [],
   "source": [
    "import random\n",
    "\n",
    "# Genera una llista aleatòria de longitud 25 amb números entre 0 i 100\n",
    "llista_aleatoria = [random.randint(0, 100) for _ in range(25)]\n",
    "\n",
    "# Inicialitza un diccionari per emmagatzemar les llistes de múltiples\n",
    "diccionari_multiples = {\n",
    "    'multiples2': [],\n",
    "    'multiples3': [],\n",
    "    'multiples5': []\n",
    "}\n",
    "\n",
    "# Itera a través de la llista aleatòria i afegeix els números als seus respectius múltiples\n",
    "for num in llista_aleatoria:\n",
    "    if num % 2 == 0:\n",
    "        diccionari_multiples['multiples2'].append(num)\n",
    "    if num % 3 == 0:\n",
    "        diccionari_multiples['multiples3'].append(num)\n",
    "    if num % 5 == 0:\n",
    "        diccionari_multiples['multiples5'].append(num)\n",
    "\n",
    "print(f\"Llista aleatòria: {llista_aleatoria}\")\n",
    "\n",
    "# Mostra el diccionari resultant\n",
    "for key, value in diccionari_multiples.items():\n",
    "    print(f\"La clau '{key}' té el valor {value}\")\n"
   ]
  },
  {
   "cell_type": "markdown",
   "metadata": {},
   "source": [
    "## Exercici 1\n",
    "\n",
    "Fes un programa que recorri un diccionari i intercanvii les claus pels valors.\n",
    "\n",
    "Per exemple:\n",
    "```python\n",
    "{\n",
    "    'a': 'abc',\n",
    "    'b': 'bcd',\n",
    "    'c': 'cde',\n",
    "}\n",
    "{\n",
    "    'abc': 'a',\n",
    "    'bcd': 'b',\n",
    "    'cde': 'c',\n",
    "}\n",
    "```"
   ]
  },
  {
   "cell_type": "code",
   "execution_count": null,
   "metadata": {},
   "outputs": [],
   "source": [
    "# Fes aquí el codi de l'exercici 1"
   ]
  }
 ],
 "metadata": {
  "kernelspec": {
   "display_name": "Python 3",
   "language": "python",
   "name": "python3"
  },
  "language_info": {
   "codemirror_mode": {
    "name": "ipython",
    "version": 3
   },
   "file_extension": ".py",
   "mimetype": "text/x-python",
   "name": "python",
   "nbconvert_exporter": "python",
   "pygments_lexer": "ipython3",
   "version": "3.11.5"
  },
  "orig_nbformat": 4
 },
 "nbformat": 4,
 "nbformat_minor": 2
}
