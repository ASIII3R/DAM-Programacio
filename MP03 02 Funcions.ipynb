{
 "cells": [
  {
   "cell_type": "code",
   "execution_count": null,
   "metadata": {},
   "outputs": [],
   "source": []
  },
  {
   "cell_type": "markdown",
   "metadata": {},
   "source": [
    "# Funcions\n",
    "\n",
    "Les funcions, és una manera d'agrupar codi per resoldre un problema específic.\n",
    "\n",
    "Pots pensar en les funcions, com mini programes dins del programa principal.\n",
    "\n",
    "Així tenim vàries avantatges:\n",
    "\n",
    "* Tenim el codi més organitzat\n",
    "\n",
    "* Reutilitzem el codi, no cal programar diverses vegades un mateix càlcul\n",
    "\n",
    "* Simplifica el manteniment del codi i fa que sigui més fàcil de llegir"
   ]
  },
  {
   "cell_type": "markdown",
   "metadata": {},
   "source": [
    "## Nom de les funcions\n",
    "\n",
    "Al igual que amb les variables, a les funcions també els hi posem un nom per poder distingir-les.\n",
    "\n",
    "Un cop decidit el nom de les funcions, hem d'escriure el codi d'aquesta funció."
   ]
  },
  {
   "cell_type": "code",
   "execution_count": null,
   "metadata": {},
   "outputs": [],
   "source": [
    "# Definir la funció anomenada \"saludar\"\n",
    "def saludar():\n",
    "    print(\"Hola, això és un programa Python\")\n",
    "\n",
    "# Definir la funció anomenada \"saludar\"\n",
    "def acomiadar():\n",
    "    print(\"Adeu, moltes gràcies per executar-me\")\n",
    "\n",
    "# Fer servir la funció\n",
    "saludar()"
   ]
  },
  {
   "cell_type": "markdown",
   "metadata": {},
   "source": [
    "### Important!\n",
    "\n",
    "A Python el codi de les funcions s'ha de identar amb un \"tabulador\", i pot tenir múltiples línies\n",
    "\n",
    "El codi de les funcions no s'executa fins que no es criden.\n",
    "\n",
    "En el programa anterior la funció 'acomiadar' no s'executa perquè no s'ha cridat al codi principal."
   ]
  },
  {
   "cell_type": "markdown",
   "metadata": {},
   "source": [
    "### Exercici 0\n",
    "\n",
    "Modifica el programa d'exemple anterior, perquè primer saludi i després s'acomiadi.\n",
    "\n",
    "El resultat ha de ser així:\n",
    "\n",
    "\n",
    "Hola, això és un programa Python\n",
    "\n",
    "Adeu, moltes gràcies per executar-me"
   ]
  },
  {
   "cell_type": "code",
   "execution_count": null,
   "metadata": {},
   "outputs": [],
   "source": [
    "# Fes aquí el programa de l'exercici 0"
   ]
  },
  {
   "cell_type": "markdown",
   "metadata": {},
   "source": [
    "## Paràmetres de les funcions\n",
    "\n",
    "Els paràmetres de les funcions, permeten pasar-los informació per tal que poguin calcular les operacions que els hi hem programat."
   ]
  },
  {
   "cell_type": "code",
   "execution_count": null,
   "metadata": {},
   "outputs": [],
   "source": [
    "# Exemple de funció amb paràmetres\n",
    "def salut_personalitzat(nom, cognom, color):\n",
    "    print(f'Hola, {nom} {cognom}')\n",
    "    print(f\"      t'han dibuixat de color {color}, i m'agrada molt\")\n",
    "\n",
    "salut_personalitzat('Bob', 'Squarepants', 'groc')\n",
    "salut_personalitzat('Patrick', 'Star', 'rosa')\n",
    "salut_personalitzat('Squidward', 'Tentacles', 'blau')"
   ]
  },
  {
   "cell_type": "markdown",
   "metadata": {},
   "source": [
    "## Valor de retorn de les funcions\n",
    "\n",
    "A vegades, ens fa falta que les funcions retornin el valor del càlcul que han fet.\n",
    "\n",
    "Això es fa amb la instrucció 'return' al final de la funció\n",
    "\n",
    "Un cop s'executa la instrucció que té 'return' ja no s'executa cap línia més de codi d'aquella funció."
   ]
  },
  {
   "cell_type": "code",
   "execution_count": null,
   "metadata": {},
   "outputs": [],
   "source": [
    "# Exemple de funció amb valor de retorn\n",
    "def calcular_area_rectangle(base, altura):\n",
    "    return base * altura\n",
    "\n",
    "base = 3\n",
    "altura = 4\n",
    "area = calcular_area_rectangle(base, altura)\n",
    "print(f\"L'area d'un rectangle amb base {base} i {altura} altura és {area}\")\n",
    "\n",
    "base = 3\n",
    "altura = 4\n",
    "area = calcular_area_rectangle(base, altura)\n",
    "print(f\"L'area d'un rectangle amb base {base} i {altura} altura és {area}\")"
   ]
  }
 ],
 "metadata": {
  "kernelspec": {
   "display_name": "Python 3",
   "language": "python",
   "name": "python3"
  },
  "language_info": {
   "codemirror_mode": {
    "name": "ipython",
    "version": 3
   },
   "file_extension": ".py",
   "mimetype": "text/x-python",
   "name": "python",
   "nbconvert_exporter": "python",
   "pygments_lexer": "ipython3",
   "version": "3.11.5"
  },
  "orig_nbformat": 4
 },
 "nbformat": 4,
 "nbformat_minor": 2
}
